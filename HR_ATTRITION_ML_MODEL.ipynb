{
 "cells": [
  {
   "cell_type": "code",
   "execution_count": null,
   "id": "7a1eedbc",
   "metadata": {},
   "outputs": [],
   "source": [
    "!pip install --upgrade pip\n",
    "!pip install fosforml numpy pandas matplotlib scikit-learn seaborn python-dateutil\n",
    "!pip uninstall urllib3 -y\n",
    "!pip install urllib3==1.26.15\n",
    "!pip install fosforml \n",
    "!pip install fosforio\n",
    "!pip install refractio\n",
    "!pip install refractml"
   ]
  },
  {
   "cell_type": "code",
   "execution_count": null,
   "id": "2c194bc9",
   "metadata": {},
   "outputs": [],
   "source": [
    "!pip install seaborn scipy xgboost pandas dice-ml tabulate numpy scikit-learn pandas-profiling plotly matplotlib scipy statsmodels seaborn pydantic-settings"
   ]
  },
  {
   "cell_type": "code",
   "execution_count": 1,
   "id": "9959f00b",
   "metadata": {},
   "outputs": [],
   "source": [
    "import pandas as pd\n",
    "import numpy as np\n",
    "import matplotlib.pyplot as plt\n",
    "from sklearn.preprocessing import LabelEncoder, MinMaxScaler, OneHotEncoder, OrdinalEncoder\n",
    "from sklearn.model_selection import train_test_split\n",
    "from sklearn.ensemble import RandomForestClassifier\n",
    "from sklearn.metrics import accuracy_score, confusion_matrix, classification_report\n",
    "import seaborn as sns\n",
    "from scipy.stats.mstats import winsorize\n",
    "from xgboost import XGBClassifier\n",
    "from sklearn.compose import ColumnTransformer\n",
    "from sklearn.ensemble import RandomForestClassifier\n",
    "from sklearn.pipeline import Pipeline\n",
    "import joblib\n",
    "from fosforml import *\n",
    "from fosforml.constants import MLModelFlavours\n",
    "import warnings\n",
    "warnings.filterwarnings(\"ignore\", message=\"numpy.dtype size changed\")\n",
    "warnings.filterwarnings(\"ignore\", message=\"numpy.ufunc size changed\")"
   ]
  },
  {
   "cell_type": "code",
   "execution_count": 2,
   "id": "61be6b3e",
   "metadata": {},
   "outputs": [
    {
     "name": "stdout",
     "output_type": "stream",
     "text": [
      "Connection manager service url initialised to http://fdc-project-manager:80/project-manager\n",
      "If you need to update its value then update the variable CONNECTION_MANAGER_BASE_URL in os env.\n",
      "Exception occurred in getting snowflake connection: 'connectionSources'\n"
     ]
    }
   ],
   "source": [
    "from refractio import snowflake\n",
    "snowflake.get_connection(connection_name=\"HR_Attrition_Data\")"
   ]
  },
  {
   "cell_type": "code",
   "execution_count": 3,
   "id": "6172497b",
   "metadata": {},
   "outputs": [
    {
     "data": {
      "text/html": [
       "<div>\n",
       "<style scoped>\n",
       "    .dataframe tbody tr th:only-of-type {\n",
       "        vertical-align: middle;\n",
       "    }\n",
       "\n",
       "    .dataframe tbody tr th {\n",
       "        vertical-align: top;\n",
       "    }\n",
       "\n",
       "    .dataframe thead th {\n",
       "        text-align: right;\n",
       "    }\n",
       "</style>\n",
       "<table border=\"1\" class=\"dataframe\">\n",
       "  <thead>\n",
       "    <tr style=\"text-align: right;\">\n",
       "      <th></th>\n",
       "      <th>EMPLOYEE_ID</th>\n",
       "      <th>SALARY</th>\n",
       "      <th>JOB_SATISFACTION</th>\n",
       "      <th>PERCENTAGE_SALARY_HIKE</th>\n",
       "      <th>PERFORMANCE_RATING</th>\n",
       "      <th>OVER_TIME</th>\n",
       "      <th>RELATIONSHIP_SATISFACTION</th>\n",
       "      <th>CHURN</th>\n",
       "      <th>MAPPED_ROLE_CLEAN</th>\n",
       "      <th>HOSPITAL_TYPE</th>\n",
       "      <th>...</th>\n",
       "      <th>JOB_STARTDATE</th>\n",
       "      <th>JOB_ENDDATE</th>\n",
       "      <th>BIRTH_YEAR</th>\n",
       "      <th>AGE</th>\n",
       "      <th>SENIORITY</th>\n",
       "      <th>OVERTIME_HOURS</th>\n",
       "      <th>WORK_LIFE_BALANCE</th>\n",
       "      <th>BUSINESS_TRAVEL</th>\n",
       "      <th>ENVIRONMENT_SATISFACTION</th>\n",
       "      <th>USER_ID</th>\n",
       "    </tr>\n",
       "  </thead>\n",
       "  <tbody>\n",
       "    <tr>\n",
       "      <th>0</th>\n",
       "      <td>94215814</td>\n",
       "      <td>53239.07</td>\n",
       "      <td>Low</td>\n",
       "      <td>11</td>\n",
       "      <td>Excellent</td>\n",
       "      <td>True</td>\n",
       "      <td>Medium</td>\n",
       "      <td>1</td>\n",
       "      <td>nurse</td>\n",
       "      <td>Acute Care Hospitals</td>\n",
       "      <td>...</td>\n",
       "      <td>2016-11-01</td>\n",
       "      <td>2017-06-01</td>\n",
       "      <td>1965</td>\n",
       "      <td>59</td>\n",
       "      <td>4</td>\n",
       "      <td>13</td>\n",
       "      <td>Best</td>\n",
       "      <td>Travel_Rarely</td>\n",
       "      <td>High</td>\n",
       "      <td>147501806</td>\n",
       "    </tr>\n",
       "    <tr>\n",
       "      <th>1</th>\n",
       "      <td>20227353</td>\n",
       "      <td>29277.97</td>\n",
       "      <td>Medium</td>\n",
       "      <td>11</td>\n",
       "      <td>Outstanding</td>\n",
       "      <td>False</td>\n",
       "      <td>Low</td>\n",
       "      <td>1</td>\n",
       "      <td>nurse</td>\n",
       "      <td>Acute Care Hospitals</td>\n",
       "      <td>...</td>\n",
       "      <td>2015-07-01</td>\n",
       "      <td>2016-06-01</td>\n",
       "      <td>1993</td>\n",
       "      <td>31</td>\n",
       "      <td>1</td>\n",
       "      <td>15</td>\n",
       "      <td>Good</td>\n",
       "      <td>Travel_Rarely</td>\n",
       "      <td>High</td>\n",
       "      <td>46143395</td>\n",
       "    </tr>\n",
       "    <tr>\n",
       "      <th>2</th>\n",
       "      <td>72815065</td>\n",
       "      <td>43763.54</td>\n",
       "      <td>Medium</td>\n",
       "      <td>18</td>\n",
       "      <td>Excellent</td>\n",
       "      <td>True</td>\n",
       "      <td>Medium</td>\n",
       "      <td>1</td>\n",
       "      <td>technologist</td>\n",
       "      <td>Acute Care Hospitals</td>\n",
       "      <td>...</td>\n",
       "      <td>2010-07-01</td>\n",
       "      <td>2012-05-01</td>\n",
       "      <td>1985</td>\n",
       "      <td>39</td>\n",
       "      <td>2</td>\n",
       "      <td>0</td>\n",
       "      <td>Better</td>\n",
       "      <td>Travel_Rarely</td>\n",
       "      <td>High</td>\n",
       "      <td>567514867</td>\n",
       "    </tr>\n",
       "    <tr>\n",
       "      <th>3</th>\n",
       "      <td>15048356</td>\n",
       "      <td>24728.57</td>\n",
       "      <td>Medium</td>\n",
       "      <td>12</td>\n",
       "      <td>Low</td>\n",
       "      <td>False</td>\n",
       "      <td>Very High</td>\n",
       "      <td>0</td>\n",
       "      <td>nurse</td>\n",
       "      <td>Acute Care Hospitals</td>\n",
       "      <td>...</td>\n",
       "      <td>2014-05-01</td>\n",
       "      <td>2015-09-01</td>\n",
       "      <td>1992</td>\n",
       "      <td>32</td>\n",
       "      <td>1</td>\n",
       "      <td>9</td>\n",
       "      <td>Good</td>\n",
       "      <td>Travel_Rarely</td>\n",
       "      <td>Very High</td>\n",
       "      <td>65551252</td>\n",
       "    </tr>\n",
       "    <tr>\n",
       "      <th>4</th>\n",
       "      <td>91151756</td>\n",
       "      <td>46819.01</td>\n",
       "      <td>Low</td>\n",
       "      <td>19</td>\n",
       "      <td>Good</td>\n",
       "      <td>False</td>\n",
       "      <td>Low</td>\n",
       "      <td>0</td>\n",
       "      <td>technologist</td>\n",
       "      <td>Acute Care Hospitals</td>\n",
       "      <td>...</td>\n",
       "      <td>2009-06-01</td>\n",
       "      <td>None</td>\n",
       "      <td>1983</td>\n",
       "      <td>41</td>\n",
       "      <td>2</td>\n",
       "      <td>13</td>\n",
       "      <td>Bad</td>\n",
       "      <td>Travel_Rarely</td>\n",
       "      <td>Very High</td>\n",
       "      <td>84119911</td>\n",
       "    </tr>\n",
       "    <tr>\n",
       "      <th>...</th>\n",
       "      <td>...</td>\n",
       "      <td>...</td>\n",
       "      <td>...</td>\n",
       "      <td>...</td>\n",
       "      <td>...</td>\n",
       "      <td>...</td>\n",
       "      <td>...</td>\n",
       "      <td>...</td>\n",
       "      <td>...</td>\n",
       "      <td>...</td>\n",
       "      <td>...</td>\n",
       "      <td>...</td>\n",
       "      <td>...</td>\n",
       "      <td>...</td>\n",
       "      <td>...</td>\n",
       "      <td>...</td>\n",
       "      <td>...</td>\n",
       "      <td>...</td>\n",
       "      <td>...</td>\n",
       "      <td>...</td>\n",
       "      <td>...</td>\n",
       "    </tr>\n",
       "    <tr>\n",
       "      <th>299995</th>\n",
       "      <td>11954788</td>\n",
       "      <td>30934.15</td>\n",
       "      <td>Medium</td>\n",
       "      <td>14</td>\n",
       "      <td>Excellent</td>\n",
       "      <td>True</td>\n",
       "      <td>Medium</td>\n",
       "      <td>1</td>\n",
       "      <td>nurse</td>\n",
       "      <td>Psychiatric</td>\n",
       "      <td>...</td>\n",
       "      <td>2019-09-01</td>\n",
       "      <td>2020-02-01</td>\n",
       "      <td>1996</td>\n",
       "      <td>28</td>\n",
       "      <td>1</td>\n",
       "      <td>2</td>\n",
       "      <td>Best</td>\n",
       "      <td>Travel_Rarely</td>\n",
       "      <td>Low</td>\n",
       "      <td>163926894</td>\n",
       "    </tr>\n",
       "    <tr>\n",
       "      <th>299996</th>\n",
       "      <td>65800600</td>\n",
       "      <td>69288.47</td>\n",
       "      <td>Medium</td>\n",
       "      <td>18</td>\n",
       "      <td>Good</td>\n",
       "      <td>True</td>\n",
       "      <td>Very High</td>\n",
       "      <td>1</td>\n",
       "      <td>nurse</td>\n",
       "      <td>Acute Care Hospitals</td>\n",
       "      <td>...</td>\n",
       "      <td>2019-04-01</td>\n",
       "      <td>2020-02-01</td>\n",
       "      <td>1996</td>\n",
       "      <td>28</td>\n",
       "      <td>2</td>\n",
       "      <td>3</td>\n",
       "      <td>Best</td>\n",
       "      <td>Travel_Rarely</td>\n",
       "      <td>Low</td>\n",
       "      <td>313934824</td>\n",
       "    </tr>\n",
       "    <tr>\n",
       "      <th>299997</th>\n",
       "      <td>78774518</td>\n",
       "      <td>53051.71</td>\n",
       "      <td>High</td>\n",
       "      <td>20</td>\n",
       "      <td>Outstanding</td>\n",
       "      <td>False</td>\n",
       "      <td>Low</td>\n",
       "      <td>0</td>\n",
       "      <td>emt</td>\n",
       "      <td>Acute Care Hospitals</td>\n",
       "      <td>...</td>\n",
       "      <td>2018-12-01</td>\n",
       "      <td>None</td>\n",
       "      <td>1991</td>\n",
       "      <td>33</td>\n",
       "      <td>1</td>\n",
       "      <td>8</td>\n",
       "      <td>Best</td>\n",
       "      <td>Travel_Rarely</td>\n",
       "      <td>High</td>\n",
       "      <td>812455262</td>\n",
       "    </tr>\n",
       "    <tr>\n",
       "      <th>299998</th>\n",
       "      <td>53352261</td>\n",
       "      <td>72186.39</td>\n",
       "      <td>Low</td>\n",
       "      <td>23</td>\n",
       "      <td>Low</td>\n",
       "      <td>False</td>\n",
       "      <td>Very High</td>\n",
       "      <td>0</td>\n",
       "      <td>technologist</td>\n",
       "      <td>Acute Care Hospitals</td>\n",
       "      <td>...</td>\n",
       "      <td>2020-09-01</td>\n",
       "      <td>None</td>\n",
       "      <td>1995</td>\n",
       "      <td>29</td>\n",
       "      <td>2</td>\n",
       "      <td>9</td>\n",
       "      <td>Best</td>\n",
       "      <td>Travel_Rarely</td>\n",
       "      <td>Medium</td>\n",
       "      <td>713192325</td>\n",
       "    </tr>\n",
       "    <tr>\n",
       "      <th>299999</th>\n",
       "      <td>10719180</td>\n",
       "      <td>26552.13</td>\n",
       "      <td>Medium</td>\n",
       "      <td>14</td>\n",
       "      <td>Excellent</td>\n",
       "      <td>False</td>\n",
       "      <td>Medium</td>\n",
       "      <td>0</td>\n",
       "      <td>nurse</td>\n",
       "      <td>Acute Care Hospitals</td>\n",
       "      <td>...</td>\n",
       "      <td>2016-10-01</td>\n",
       "      <td>2017-02-01</td>\n",
       "      <td>1992</td>\n",
       "      <td>32</td>\n",
       "      <td>1</td>\n",
       "      <td>13</td>\n",
       "      <td>Bad</td>\n",
       "      <td>Travel_Rarely</td>\n",
       "      <td>Medium</td>\n",
       "      <td>342684239</td>\n",
       "    </tr>\n",
       "  </tbody>\n",
       "</table>\n",
       "<p>300000 rows × 32 columns</p>\n",
       "</div>"
      ],
      "text/plain": [
       "        EMPLOYEE_ID    SALARY JOB_SATISFACTION  PERCENTAGE_SALARY_HIKE  \\\n",
       "0          94215814  53239.07              Low                      11   \n",
       "1          20227353  29277.97           Medium                      11   \n",
       "2          72815065  43763.54           Medium                      18   \n",
       "3          15048356  24728.57           Medium                      12   \n",
       "4          91151756  46819.01              Low                      19   \n",
       "...             ...       ...              ...                     ...   \n",
       "299995     11954788  30934.15           Medium                      14   \n",
       "299996     65800600  69288.47           Medium                      18   \n",
       "299997     78774518  53051.71             High                      20   \n",
       "299998     53352261  72186.39              Low                      23   \n",
       "299999     10719180  26552.13           Medium                      14   \n",
       "\n",
       "       PERFORMANCE_RATING  OVER_TIME RELATIONSHIP_SATISFACTION  CHURN  \\\n",
       "0               Excellent       True                    Medium      1   \n",
       "1             Outstanding      False                       Low      1   \n",
       "2               Excellent       True                    Medium      1   \n",
       "3                     Low      False                 Very High      0   \n",
       "4                    Good      False                       Low      0   \n",
       "...                   ...        ...                       ...    ...   \n",
       "299995          Excellent       True                    Medium      1   \n",
       "299996               Good       True                 Very High      1   \n",
       "299997        Outstanding      False                       Low      0   \n",
       "299998                Low      False                 Very High      0   \n",
       "299999          Excellent      False                    Medium      0   \n",
       "\n",
       "       MAPPED_ROLE_CLEAN         HOSPITAL_TYPE  ... JOB_STARTDATE JOB_ENDDATE  \\\n",
       "0                  nurse  Acute Care Hospitals  ...    2016-11-01  2017-06-01   \n",
       "1                  nurse  Acute Care Hospitals  ...    2015-07-01  2016-06-01   \n",
       "2           technologist  Acute Care Hospitals  ...    2010-07-01  2012-05-01   \n",
       "3                  nurse  Acute Care Hospitals  ...    2014-05-01  2015-09-01   \n",
       "4           technologist  Acute Care Hospitals  ...    2009-06-01        None   \n",
       "...                  ...                   ...  ...           ...         ...   \n",
       "299995             nurse           Psychiatric  ...    2019-09-01  2020-02-01   \n",
       "299996             nurse  Acute Care Hospitals  ...    2019-04-01  2020-02-01   \n",
       "299997               emt  Acute Care Hospitals  ...    2018-12-01        None   \n",
       "299998      technologist  Acute Care Hospitals  ...    2020-09-01        None   \n",
       "299999             nurse  Acute Care Hospitals  ...    2016-10-01  2017-02-01   \n",
       "\n",
       "       BIRTH_YEAR AGE SENIORITY OVERTIME_HOURS WORK_LIFE_BALANCE  \\\n",
       "0            1965  59         4             13              Best   \n",
       "1            1993  31         1             15              Good   \n",
       "2            1985  39         2              0            Better   \n",
       "3            1992  32         1              9              Good   \n",
       "4            1983  41         2             13               Bad   \n",
       "...           ...  ..       ...            ...               ...   \n",
       "299995       1996  28         1              2              Best   \n",
       "299996       1996  28         2              3              Best   \n",
       "299997       1991  33         1              8              Best   \n",
       "299998       1995  29         2              9              Best   \n",
       "299999       1992  32         1             13               Bad   \n",
       "\n",
       "       BUSINESS_TRAVEL ENVIRONMENT_SATISFACTION    USER_ID  \n",
       "0        Travel_Rarely                     High  147501806  \n",
       "1        Travel_Rarely                     High   46143395  \n",
       "2        Travel_Rarely                     High  567514867  \n",
       "3        Travel_Rarely                Very High   65551252  \n",
       "4        Travel_Rarely                Very High   84119911  \n",
       "...                ...                      ...        ...  \n",
       "299995   Travel_Rarely                      Low  163926894  \n",
       "299996   Travel_Rarely                      Low  313934824  \n",
       "299997   Travel_Rarely                     High  812455262  \n",
       "299998   Travel_Rarely                   Medium  713192325  \n",
       "299999   Travel_Rarely                   Medium  342684239  \n",
       "\n",
       "[300000 rows x 32 columns]"
      ]
     },
     "execution_count": 3,
     "metadata": {},
     "output_type": "execute_result"
    }
   ],
   "source": [
    "df = snowflake.get_dataframe(\"HR_Attrition_Data\")\n",
    "df"
   ]
  },
  {
   "cell_type": "code",
   "execution_count": 4,
   "id": "022eee59",
   "metadata": {},
   "outputs": [
    {
     "name": "stdout",
     "output_type": "stream",
     "text": [
      "EMPLOYEE_ID                      0\n",
      "SALARY                           0\n",
      "JOB_SATISFACTION                 0\n",
      "PERCENTAGE_SALARY_HIKE           0\n",
      "PERFORMANCE_RATING               0\n",
      "OVER_TIME                        0\n",
      "RELATIONSHIP_SATISFACTION        0\n",
      "CHURN                            0\n",
      "MAPPED_ROLE_CLEAN                0\n",
      "HOSPITAL_TYPE                    0\n",
      "HOSPITAL_OWNERSHIP               0\n",
      "COMPANY_NAME                     0\n",
      "CITY                             0\n",
      "STATE                            0\n",
      "DISTANCE                         0\n",
      "DEGREE_CLEAN                     0\n",
      "SEX                              0\n",
      "ETHNICITY                        0\n",
      "MARITAL_STATUS                   0\n",
      "TENURE_MONTHS                    0\n",
      "MONTHS_AFTER_COLLEGE             0\n",
      "SCHOOL_ENDDATE                   0\n",
      "JOB_STARTDATE                    0\n",
      "JOB_ENDDATE                  90076\n",
      "BIRTH_YEAR                       0\n",
      "AGE                              0\n",
      "SENIORITY                        0\n",
      "OVERTIME_HOURS                   0\n",
      "WORK_LIFE_BALANCE                0\n",
      "BUSINESS_TRAVEL                  0\n",
      "ENVIRONMENT_SATISFACTION         0\n",
      "USER_ID                          0\n",
      "dtype: int64\n"
     ]
    }
   ],
   "source": [
    "print(df.isnull().sum())"
   ]
  },
  {
   "cell_type": "code",
   "execution_count": 5,
   "id": "c00e7407",
   "metadata": {},
   "outputs": [],
   "source": [
    "Original_df = df.dropna()"
   ]
  },
  {
   "cell_type": "code",
   "execution_count": 6,
   "id": "a2b64822",
   "metadata": {},
   "outputs": [
    {
     "name": "stdout",
     "output_type": "stream",
     "text": [
      "EMPLOYEE_ID                  0\n",
      "SALARY                       0\n",
      "JOB_SATISFACTION             0\n",
      "PERCENTAGE_SALARY_HIKE       0\n",
      "PERFORMANCE_RATING           0\n",
      "OVER_TIME                    0\n",
      "RELATIONSHIP_SATISFACTION    0\n",
      "CHURN                        0\n",
      "MAPPED_ROLE_CLEAN            0\n",
      "HOSPITAL_TYPE                0\n",
      "HOSPITAL_OWNERSHIP           0\n",
      "COMPANY_NAME                 0\n",
      "CITY                         0\n",
      "STATE                        0\n",
      "DISTANCE                     0\n",
      "DEGREE_CLEAN                 0\n",
      "SEX                          0\n",
      "ETHNICITY                    0\n",
      "MARITAL_STATUS               0\n",
      "TENURE_MONTHS                0\n",
      "MONTHS_AFTER_COLLEGE         0\n",
      "SCHOOL_ENDDATE               0\n",
      "JOB_STARTDATE                0\n",
      "JOB_ENDDATE                  0\n",
      "BIRTH_YEAR                   0\n",
      "AGE                          0\n",
      "SENIORITY                    0\n",
      "OVERTIME_HOURS               0\n",
      "WORK_LIFE_BALANCE            0\n",
      "BUSINESS_TRAVEL              0\n",
      "ENVIRONMENT_SATISFACTION     0\n",
      "USER_ID                      0\n",
      "dtype: int64\n"
     ]
    }
   ],
   "source": [
    "print(Original_df.isnull().sum())"
   ]
  },
  {
   "cell_type": "code",
   "execution_count": null,
   "id": "3fe3863d",
   "metadata": {},
   "outputs": [],
   "source": [
    "df = Original_df.drop([\"USER_ID\", \"EMPLOYEE_ID\", \"JOB_STARTDATE\", \"JOB_ENDDATE\", \"SCHOOL_ENDDATE\"], axis = 1)"
   ]
  },
  {
   "cell_type": "code",
   "execution_count": 9,
   "id": "8af9f6c1",
   "metadata": {},
   "outputs": [],
   "source": [
    "CATEGORICAL_COLUMNS = [\"MAPPED_ROLE_CLEAN\",\"SEX\", \"ETHNICITY\",\"HOSPITAL_TYPE\", \"HOSPITAL_OWNERSHIP\",\"COMPANY_NAME\",\"CITY\",\"STATE\",\"DISTANCE\", \n",
    "                       \"DEGREE_CLEAN\",\"BUSINESS_TRAVEL\",\"ENVIRONMENT_SATISFACTION\",\"JOB_SATISFACTION\",\"MARITAL_STATUS\",\"OVER_TIME\",\"PERFORMANCE_RATING\",\"RELATIONSHIP_SATISFACTION\",\"WORK_LIFE_BALANCE\"]\n",
    "NUMERICAL_COLUMNS = [\"SALARY\", \"SENIORITY\", \"TENURE_MONTHS\", \"MONTHS_AFTER_COLLEGE\", \"BIRTH_YEAR\",\"AGE\",\"OVERTIME_HOURS\",\"PERCENTAGE_SALARY_HIKE\"]\n",
    "LABEL_COLUMNS = [\"CHURN\"]\n",
    "DROPPED_COLUMNS = [\"USER_ID\", \"EMPLOYEE_ID\", \"JOB_STARTDATE\", \"JOB_ENDDATE\", \"SCHOOL_ENDDATE\"]\n",
    "OUTPUT_COLUMNS = [\"PREDICTION\"]"
   ]
  },
  {
   "cell_type": "code",
   "execution_count": 10,
   "id": "08e3f4fe",
   "metadata": {},
   "outputs": [],
   "source": [
    "# Filter feature columns\n",
    "feature_columns = CATEGORICAL_COLUMNS + NUMERICAL_COLUMNS\n",
    "feature_columns = [col for col in feature_columns if col in df.columns]\n",
    "LABEL_COLUMNS = [col for col in LABEL_COLUMNS if col in df.columns]\n",
    " \n",
    "# Split data into features and labels\n",
    "X = df[feature_columns + DROPPED_COLUMNS]\n",
    "y = df[LABEL_COLUMNS].values.ravel()  # Flatten to 1D array for consistency"
   ]
  },
  {
   "cell_type": "code",
   "execution_count": 11,
   "id": "b07fb664",
   "metadata": {},
   "outputs": [],
   "source": [
    "from sklearn.model_selection import train_test_split"
   ]
  },
  {
   "cell_type": "code",
   "execution_count": 12,
   "id": "4e88fb47",
   "metadata": {},
   "outputs": [],
   "source": [
    "X_train, X_test, y_train, y_test = train_test_split(X, y, test_size=0.20, random_state=42)"
   ]
  },
  {
   "cell_type": "code",
   "execution_count": 13,
   "id": "7d5daaed",
   "metadata": {},
   "outputs": [],
   "source": [
    "from sklearn.pipeline import Pipeline\n",
    "from sklearn.preprocessing import OrdinalEncoder, MinMaxScaler\n",
    "from xgboost import XGBClassifier\n",
    "from sklearn.compose import ColumnTransformer\n",
    "from sklearn.impute import SimpleImputer\n",
    "from sklearn.pipeline import make_pipeline\n",
    " \n",
    "# Define transformers\n",
    "categorical_transformer = make_pipeline(\n",
    "    SimpleImputer(strategy='constant', fill_value='missing'),\n",
    "    OrdinalEncoder(handle_unknown='use_encoded_value', unknown_value=-1)\n",
    ")\n",
    " \n",
    "numerical_transformer = make_pipeline(\n",
    "    SimpleImputer(strategy='mean'),\n",
    "    MinMaxScaler(clip=True)\n",
    ")\n",
    " \n",
    "# Create preprocessor\n",
    "preprocessor = ColumnTransformer(\n",
    "    transformers=[\n",
    "        ('cat', categorical_transformer, CATEGORICAL_COLUMNS),\n",
    "        ('num', numerical_transformer, NUMERICAL_COLUMNS)\n",
    "    ]\n",
    ")\n",
    " \n",
    "# Create pipeline\n",
    "pipeline = Pipeline(steps=[\n",
    "    ('preprocessor', preprocessor),\n",
    "    ('classifier', XGBClassifier())\n",
    "])\n",
    "\n",
    "pipeline.fit(X_train, y_train)\n",
    "result = pipeline.predict(X_test)"
   ]
  },
  {
   "cell_type": "code",
   "execution_count": 14,
   "id": "5e4c4fbc",
   "metadata": {},
   "outputs": [
    {
     "data": {
      "text/plain": [
       "array([1, 1, 0, ..., 0, 1, 0])"
      ]
     },
     "execution_count": 14,
     "metadata": {},
     "output_type": "execute_result"
    }
   ],
   "source": [
    "result"
   ]
  },
  {
   "cell_type": "code",
   "execution_count": 15,
   "id": "1f1e439e",
   "metadata": {},
   "outputs": [
    {
     "data": {
      "text/plain": [
       "['HR_Attrition.joblib']"
      ]
     },
     "execution_count": 15,
     "metadata": {},
     "output_type": "execute_result"
    }
   ],
   "source": [
    "from joblib import dump, load\n",
    "filename = \"HR_Attrition.joblib\"\n",
    "dump(pipeline, filename)"
   ]
  },
  {
   "cell_type": "code",
   "execution_count": 16,
   "id": "01beffd7",
   "metadata": {},
   "outputs": [],
   "source": [
    "y_pred = pipeline.predict(X_test)\n",
    "y_prob = pipeline.predict_proba(X_test)"
   ]
  },
  {
   "cell_type": "code",
   "execution_count": 17,
   "id": "305c3a2c",
   "metadata": {},
   "outputs": [],
   "source": [
    "from refractml import *\n",
    "\n",
    "from refractml.constants import MLModelFlavours"
   ]
  },
  {
   "cell_type": "code",
   "execution_count": 18,
   "id": "15057042",
   "metadata": {},
   "outputs": [],
   "source": [
    "@scoring_func\n",
    "def score(model, request):\n",
    "    payload_dict = request.json[\"payload\"]\n",
    "    data_json = eval(payload)\n",
    "    data = pd.DataFrame([data_json])\n",
    "    prediction = str(model.predict(data)[0])\n",
    "    return prediction"
   ]
  },
  {
   "cell_type": "code",
   "execution_count": 20,
   "id": "76805fe5",
   "metadata": {},
   "outputs": [
    {
     "name": "stdout",
     "output_type": "stream",
     "text": [
      "1\n"
     ]
    }
   ],
   "source": [
    "import requests\n",
    "import datetime\n",
    "import pandas as pd \n",
    "payload = str(X_test.iloc[123].to_dict())\n",
    "req = requests.Request()\n",
    "req.json = {\"payload\": payload}\n",
    "\n",
    "print(score(pipeline, req))"
   ]
  },
  {
   "cell_type": "code",
   "execution_count": 21,
   "id": "107f9377",
   "metadata": {},
   "outputs": [
    {
     "data": {
      "text/plain": [
       "{'payload': \"{'MAPPED_ROLE_CLEAN': 'nurse', 'SEX': 'M', 'ETHNICITY': 'Hispanic', 'HOSPITAL_TYPE': 'Psychiatric', 'HOSPITAL_OWNERSHIP': 'Voluntary non-profit - Private', 'COMPANY_NAME': 'Centene Corp.', 'CITY': 'Orlando', 'STATE': 'FL', 'DISTANCE': '5-10 miles', 'DEGREE_CLEAN': 'Associates Degree', 'BUSINESS_TRAVEL': 'Travel_Frequently', 'ENVIRONMENT_SATISFACTION': 'Low', 'JOB_SATISFACTION': 'Medium', 'MARITAL_STATUS': 'Divorced', 'OVER_TIME': False, 'PERFORMANCE_RATING': 'Excellent', 'RELATIONSHIP_SATISFACTION': 'High', 'WORK_LIFE_BALANCE': 'Better', 'SALARY': 41273.03, 'SENIORITY': 1, 'TENURE_MONTHS': 24, 'MONTHS_AFTER_COLLEGE': 39, 'BIRTH_YEAR': 1994, 'AGE': 30, 'OVERTIME_HOURS': 7, 'PERCENTAGE_SALARY_HIKE': 17, 'USER_ID': 842947544, 'EMPLOYEE_ID': 22659757, 'JOB_STARTDATE': datetime.date(2020, 4, 1), 'JOB_ENDDATE': datetime.date(2022, 7, 1), 'SCHOOL_ENDDATE': datetime.date(2017, 1, 1)}\"}"
      ]
     },
     "execution_count": 21,
     "metadata": {},
     "output_type": "execute_result"
    }
   ],
   "source": [
    "req.json"
   ]
  },
  {
   "cell_type": "code",
   "execution_count": 22,
   "id": "317150b2",
   "metadata": {},
   "outputs": [
    {
     "name": "stdout",
     "output_type": "stream",
     "text": [
      "Calculating build time metrics\n",
      "\n",
      "Progress: ██████████████████████████████████████████████████████████████████████ 100.0%\n"
     ]
    },
    {
     "data": {
      "application/vnd.jupyter.widget-view+json": {
       "model_id": "68e039b0739847d2aa993a1b0db508b8",
       "version_major": 2,
       "version_minor": 0
      },
      "text/plain": [
       "VBox(children=(HTML(value='<style>.grad_1{background: #2468a4;} .grad_2{ color:white; background: #2468a4;}</s…"
      ]
     },
     "metadata": {},
     "output_type": "display_data"
    }
   ],
   "source": [
    "## registering the model in refract.\n",
    "tmp = register_model(pipeline, \n",
    "               score, \n",
    "               name=\"HR_ATTRITION_ML_MODEL\", \n",
    "               description=\"Analyzing_HR_Attrition_trained_using _ml\",\n",
    "               flavour=MLModelFlavours.sklearn,\n",
    "               model_type=\"classification\",\n",
    "               init_script=\"\\\\n pip install fosforml \\\\n pip install seaborn \\\\n pip install snowflake-connector-python[pandas] \\\\n pip install joblib==1.3.2 scikit-learn=1.3.2\",\n",
    "               y_true=y_test,\n",
    "               y_pred=y_pred, \n",
    "               features=X_train.columns,\n",
    "               labels=[0,1],\n",
    "               input_type=\"json\", \n",
    "               explain_ai=True,\n",
    "               prob=y_prob,\n",
    "               x_train=X_train, \n",
    "               x_test=X_test, \n",
    "               y_train=y_train,\n",
    "               y_test=y_test,\n",
    "               feature_names=X_train.columns.tolist(),\n",
    "               original_features=X_train.columns.tolist(),\n",
    "               feature_ids=X_train.columns,\n",
    "               target_names=['NOT LEFT','LEFT'],\n",
    "               kyd=True, kyd_score = True)\n"
   ]
  },
  {
   "cell_type": "code",
   "execution_count": 23,
   "id": "ad7f2a1d",
   "metadata": {},
   "outputs": [
    {
     "data": {
      "text/plain": [
       "{'payload': {'MAPPED_ROLE_CLEAN': 'emt',\n",
       "  'SEX': 'M',\n",
       "  'ETHNICITY': 'API',\n",
       "  'HOSPITAL_TYPE': 'Childrens',\n",
       "  'HOSPITAL_OWNERSHIP': 'Voluntary non-profit - Other',\n",
       "  'COMPANY_NAME': 'Cleveland Clinic',\n",
       "  'CITY': 'Cleveland',\n",
       "  'STATE': 'OH',\n",
       "  'DISTANCE': '5-10 miles',\n",
       "  'DEGREE_CLEAN': 'Other',\n",
       "  'BUSINESS_TRAVEL': 'Travel_Frequently',\n",
       "  'ENVIRONMENT_SATISFACTION': 'Very High',\n",
       "  'JOB_SATISFACTION': 'High',\n",
       "  'MARITAL_STATUS': 'Single',\n",
       "  'OVER_TIME': False,\n",
       "  'PERFORMANCE_RATING': 'Low',\n",
       "  'RELATIONSHIP_SATISFACTION': 'Low',\n",
       "  'WORK_LIFE_BALANCE': 'Good',\n",
       "  'SALARY': 44199.47,\n",
       "  'SENIORITY': 2,\n",
       "  'TENURE_MONTHS': 6,\n",
       "  'MONTHS_AFTER_COLLEGE': 163,\n",
       "  'BIRTH_YEAR': 1986,\n",
       "  'AGE': 38,\n",
       "  'OVERTIME_HOURS': 6,\n",
       "  'PERCENTAGE_SALARY_HIKE': 19,\n",
       "  'USER_ID': 344356384,\n",
       "  'EMPLOYEE_ID': 61027530,\n",
       "  'JOB_STARTDATE': datetime.date(2021, 8, 1),\n",
       "  'JOB_ENDDATE': datetime.date(2022, 3, 1),\n",
       "  'SCHOOL_ENDDATE': datetime.date(2008, 1, 31)}}"
      ]
     },
     "execution_count": 23,
     "metadata": {},
     "output_type": "execute_result"
    }
   ],
   "source": [
    "payload  = {\"payload\": X_test.iloc[0].to_dict()}\n",
    "payload"
   ]
  },
  {
   "cell_type": "code",
   "execution_count": null,
   "id": "ea9cff15",
   "metadata": {},
   "outputs": [],
   "source": [
    "headers={\"Content-type\":\"application/json\"}\n",
    "url = \"http://svc-32a60b58-45e6-42da-874a-1c703d935a77:5001/hrattritionmlmodel/e782fefe-2c69-4a1a-bdf2-4489e3f06da0/score\"\n",
    "data={\"payload\": payload}\n",
    "response = requests.post(url, json=data, headers=headers) \n",
    "response.json()"
   ]
  },
  {
   "cell_type": "code",
   "execution_count": 24,
   "id": "1451874f",
   "metadata": {},
   "outputs": [],
   "source": [
    "result = pipeline.predict(X_test)\n",
    "result_prob = pipeline.predict_proba(X_test)\n",
    "pred_df = X_test.copy()\n",
    "result = result\n",
    "result_prob = result_prob\n",
    "pred_df[\"PREDICTION\"] = result\n",
    "pred_df[\"PROB\"] = result_prob[:, 1]"
   ]
  },
  {
   "cell_type": "code",
   "execution_count": 25,
   "id": "558bc150",
   "metadata": {},
   "outputs": [
    {
     "name": "stdout",
     "output_type": "stream",
     "text": [
      "Length of y_test: 60000\n",
      "Length of y_pred: 60000\n",
      "              precision    recall  f1-score   support\n",
      "\n",
      "           0       0.86      0.94      0.90     39999\n",
      "           1       0.86      0.70      0.77     20001\n",
      "\n",
      "    accuracy                           0.86     60000\n",
      "   macro avg       0.86      0.82      0.84     60000\n",
      "weighted avg       0.86      0.86      0.86     60000\n",
      "\n",
      "Accuracy: 0.8617333333333334\n",
      "Log Loss: 0.30740485920308047\n",
      "ROC AUC Score: 0.9310637670696529\n"
     ]
    }
   ],
   "source": [
    "from sklearn.metrics import classification_report, log_loss, roc_auc_score\n",
    " \n",
    "# Check lengths\n",
    "print(\"Length of y_test:\", len(y_test))\n",
    "print(\"Length of y_pred:\", len(y_pred))\n",
    " \n",
    "# Print classification report\n",
    "print(classification_report(y_test, y_pred))\n",
    " \n",
    "# Calculate accuracy\n",
    "accuracy = sum(y_test == y_pred) / len(y_test)\n",
    "print(\"Accuracy:\", accuracy)\n",
    " \n",
    "# Calculate additional metrics\n",
    "log_loss_value = log_loss(y_test, y_prob)\n",
    "roc_auc = roc_auc_score(y_test, y_prob[:, 1])  # Assuming class 1 is the positive class\n",
    " \n",
    "print(\"Log Loss:\", log_loss_value)\n",
    "print(\"ROC AUC Score:\", roc_auc)"
   ]
  },
  {
   "cell_type": "code",
   "execution_count": 26,
   "id": "dae90976",
   "metadata": {},
   "outputs": [
    {
     "data": {
      "text/plain": [
       "0.30740485920308047"
      ]
     },
     "execution_count": 26,
     "metadata": {},
     "output_type": "execute_result"
    }
   ],
   "source": [
    "log_loss(y_test,pred_df[\"PROB\"] )"
   ]
  },
  {
   "cell_type": "code",
   "execution_count": 27,
   "id": "c9a16c78",
   "metadata": {},
   "outputs": [
    {
     "data": {
      "image/png": "[encoded data removed]",
      "text/plain": [
       "<Figure size 432x288 with 1 Axes>"
      ]
     },
     "metadata": {
      "needs_background": "light"
     },
     "output_type": "display_data"
    }
   ],
   "source": [
    "from sklearn.metrics import roc_curve, precision_recall_curve, confusion_matrix\n",
    "from sklearn.metrics import roc_auc_score\n",
    "from matplotlib import pyplot as plt\n",
    "import seaborn as sns\n",
    "ns_probs = [0 for _ in range(len(y_test))]\n",
    "ns_auc = roc_auc_score(y_test, ns_probs)\n",
    "lr_auc = roc_auc_score(y_test, pred_df[\"PROB\"])\n",
    "ns_fpr, ns_tpr, _ = roc_curve(y_test, ns_probs)\n",
    "lr_fpr, lr_tpr, _ = roc_curve(y_test, pred_df[\"PROB\"])\n",
    "# plot the roc curve for the model\n",
    "plt.plot(ns_fpr, ns_tpr, linestyle='--', label='No Skill')\n",
    "plt.plot(lr_fpr, lr_tpr, marker='.', label='Radnomforest')\n",
    "# axis labels\n",
    "plt.xlabel('False Positive Rate')\n",
    "plt.ylabel('True Positive Rate')\n",
    "# show the legend\n",
    "plt.legend()\n",
    "# show the plot\n",
    "plt.show()"
   ]
  },
  {
   "cell_type": "code",
   "execution_count": 28,
   "id": "99e34f6b",
   "metadata": {},
   "outputs": [
    {
     "data": {
      "image/png": "[encoded data removed]",
      "text/plain": [
       "<Figure size 432x288 with 1 Axes>"
      ]
     },
     "metadata": {
      "needs_background": "light"
     },
     "output_type": "display_data"
    }
   ],
   "source": [
    "lr_precision, lr_recall, _ = precision_recall_curve(y_test, pred_df[\"PROB\"])\n",
    "plt.plot(lr_recall, lr_precision, marker='.', label='Randomforest')\n",
    "# axis labels\n",
    "plt.xlabel('Recall')\n",
    "plt.ylabel('Precision')\n",
    "# show the legend\n",
    "plt.legend()\n",
    "# show the plot\n",
    "plt.show()"
   ]
  },
  {
   "cell_type": "code",
   "execution_count": 29,
   "id": "4dc04f24",
   "metadata": {},
   "outputs": [
    {
     "data": {
      "image/png": "[encoded data removed]",
      "text/plain": [
       "<Figure size 432x288 with 2 Axes>"
      ]
     },
     "metadata": {
      "needs_background": "light"
     },
     "output_type": "display_data"
    }
   ],
   "source": [
    "cm = confusion_matrix(y_test,y_pred)\n",
    " \n",
    "#Plot the confusion matrix.\n",
    "sns.heatmap(cm,\n",
    "            annot=True,\n",
    "            fmt='g',\n",
    "            xticklabels=['Not Churn','Churn'],\n",
    "            yticklabels=['Not CHurn','Churn'])\n",
    "plt.ylabel('Prediction',fontsize=13)\n",
    "plt.xlabel('Actual',fontsize=13)\n",
    "plt.title('Confusion Matrix',fontsize=17)\n",
    "plt.show()"
   ]
  },
  {
   "cell_type": "code",
   "execution_count": 30,
   "id": "f8407141",
   "metadata": {},
   "outputs": [],
   "source": [
    "scores_data = pd.DataFrame({\"ns_probs\":ns_probs,\n",
    "                            \"y_test\":y_test,\n",
    "                            \"y_pred\":pred_df[\"PREDICTION\"],\n",
    "                            \"act_probs\":pred_df[\"PROB\"]})"
   ]
  },
  {
   "cell_type": "code",
   "execution_count": 31,
   "id": "ba1f76d0",
   "metadata": {},
   "outputs": [
    {
     "data": {
      "text/html": [
       "<div>\n",
       "<style scoped>\n",
       "    .dataframe tbody tr th:only-of-type {\n",
       "        vertical-align: middle;\n",
       "    }\n",
       "\n",
       "    .dataframe tbody tr th {\n",
       "        vertical-align: top;\n",
       "    }\n",
       "\n",
       "    .dataframe thead th {\n",
       "        text-align: right;\n",
       "    }\n",
       "</style>\n",
       "<table border=\"1\" class=\"dataframe\">\n",
       "  <thead>\n",
       "    <tr style=\"text-align: right;\">\n",
       "      <th></th>\n",
       "      <th>ns_probs</th>\n",
       "      <th>y_test</th>\n",
       "      <th>y_pred</th>\n",
       "      <th>act_probs</th>\n",
       "    </tr>\n",
       "  </thead>\n",
       "  <tbody>\n",
       "    <tr>\n",
       "      <th>4941</th>\n",
       "      <td>0</td>\n",
       "      <td>1</td>\n",
       "      <td>1</td>\n",
       "      <td>0.688668</td>\n",
       "    </tr>\n",
       "    <tr>\n",
       "      <th>51775</th>\n",
       "      <td>0</td>\n",
       "      <td>1</td>\n",
       "      <td>1</td>\n",
       "      <td>0.957386</td>\n",
       "    </tr>\n",
       "    <tr>\n",
       "      <th>115253</th>\n",
       "      <td>0</td>\n",
       "      <td>0</td>\n",
       "      <td>0</td>\n",
       "      <td>0.142907</td>\n",
       "    </tr>\n",
       "    <tr>\n",
       "      <th>299321</th>\n",
       "      <td>0</td>\n",
       "      <td>0</td>\n",
       "      <td>0</td>\n",
       "      <td>0.228895</td>\n",
       "    </tr>\n",
       "    <tr>\n",
       "      <th>173570</th>\n",
       "      <td>0</td>\n",
       "      <td>0</td>\n",
       "      <td>0</td>\n",
       "      <td>0.000138</td>\n",
       "    </tr>\n",
       "    <tr>\n",
       "      <th>...</th>\n",
       "      <td>...</td>\n",
       "      <td>...</td>\n",
       "      <td>...</td>\n",
       "      <td>...</td>\n",
       "    </tr>\n",
       "    <tr>\n",
       "      <th>75094</th>\n",
       "      <td>0</td>\n",
       "      <td>0</td>\n",
       "      <td>0</td>\n",
       "      <td>0.499123</td>\n",
       "    </tr>\n",
       "    <tr>\n",
       "      <th>171847</th>\n",
       "      <td>0</td>\n",
       "      <td>0</td>\n",
       "      <td>0</td>\n",
       "      <td>0.000083</td>\n",
       "    </tr>\n",
       "    <tr>\n",
       "      <th>138313</th>\n",
       "      <td>0</td>\n",
       "      <td>0</td>\n",
       "      <td>0</td>\n",
       "      <td>0.001382</td>\n",
       "    </tr>\n",
       "    <tr>\n",
       "      <th>271268</th>\n",
       "      <td>0</td>\n",
       "      <td>1</td>\n",
       "      <td>1</td>\n",
       "      <td>0.950559</td>\n",
       "    </tr>\n",
       "    <tr>\n",
       "      <th>72612</th>\n",
       "      <td>0</td>\n",
       "      <td>0</td>\n",
       "      <td>0</td>\n",
       "      <td>0.288547</td>\n",
       "    </tr>\n",
       "  </tbody>\n",
       "</table>\n",
       "<p>60000 rows × 4 columns</p>\n",
       "</div>"
      ],
      "text/plain": [
       "        ns_probs  y_test  y_pred  act_probs\n",
       "4941           0       1       1   0.688668\n",
       "51775          0       1       1   0.957386\n",
       "115253         0       0       0   0.142907\n",
       "299321         0       0       0   0.228895\n",
       "173570         0       0       0   0.000138\n",
       "...          ...     ...     ...        ...\n",
       "75094          0       0       0   0.499123\n",
       "171847         0       0       0   0.000083\n",
       "138313         0       0       0   0.001382\n",
       "271268         0       1       1   0.950559\n",
       "72612          0       0       0   0.288547\n",
       "\n",
       "[60000 rows x 4 columns]"
      ]
     },
     "execution_count": 31,
     "metadata": {},
     "output_type": "execute_result"
    }
   ],
   "source": [
    "scores_data"
   ]
  },
  {
   "cell_type": "code",
   "execution_count": 32,
   "id": "f8f0e008",
   "metadata": {},
   "outputs": [],
   "source": [
    "scores_data.to_csv(\"/data/scores.csv\", index=False)"
   ]
  },
  {
   "cell_type": "code",
   "execution_count": 33,
   "id": "e72f66b9",
   "metadata": {},
   "outputs": [
    {
     "name": "stdout",
     "output_type": "stream",
     "text": [
      "Length of ns_probs: 60000\n",
      "Length of y_pred: 60000\n",
      "Length of y_test_binary: 60000\n",
      "Length of act_probs: 60000\n"
     ]
    }
   ],
   "source": [
    "print(f\"Length of ns_probs: {len(ns_probs)}\")\n",
    "print(f\"Length of y_pred: {len(pred_df['PREDICTION'])}\")\n",
    "print(f\"Length of y_test_binary: {len(y_test)}\")\n",
    "print(f\"Length of act_probs: {len(pred_df['PROB'])}\")"
   ]
  },
  {
   "cell_type": "code",
   "execution_count": 34,
   "id": "d976f59d",
   "metadata": {},
   "outputs": [
    {
     "name": "stdout",
     "output_type": "stream",
     "text": [
      "       MAPPED_ROLE_CLEAN SEX ETHNICITY         HOSPITAL_TYPE  \\\n",
      "4941                 emt   M       API             Childrens   \n",
      "51775       occupational   F     Black  Acute Care Hospitals   \n",
      "115253      technologist   M     White  Acute Care Hospitals   \n",
      "299321             nurse   M  Multiple  Acute Care Hospitals   \n",
      "173570             nurse   M  Multiple  Acute Care Hospitals   \n",
      "\n",
      "                    HOSPITAL_OWNERSHIP  \\\n",
      "4941      Voluntary non-profit - Other   \n",
      "51775   Voluntary non-profit - Private   \n",
      "115253  Voluntary non-profit - Private   \n",
      "299321    Voluntary non-profit - Other   \n",
      "173570  Voluntary non-profit - Private   \n",
      "\n",
      "                                            COMPANY_NAME        CITY STATE  \\\n",
      "4941                                    Cleveland Clinic   Cleveland    OH   \n",
      "51775                             Encompass Health Corp.  Morgantown    WV   \n",
      "115253                                  Cleveland Clinic   Cleveland    OH   \n",
      "299321                             SSM Health Care Corp.    Columbia    MO   \n",
      "173570  Adventist Health System Sunbelt Healthcare Corp.     Orlando    FL   \n",
      "\n",
      "          DISTANCE       DEGREE_CLEAN  ... BIRTH_YEAR AGE OVERTIME_HOURS  \\\n",
      "4941    5-10 miles              Other  ...       1986  38              6   \n",
      "51775   5-10 miles              Other  ...       1988  36             17   \n",
      "115253   >10 miles   Bachelors Degree  ...       1987  37              4   \n",
      "299321   2-5 miles  Associates Degree  ...       1973  51             11   \n",
      "173570    <2 miles  Associates Degree  ...       1987  37             11   \n",
      "\n",
      "       PERCENTAGE_SALARY_HIKE    USER_ID EMPLOYEE_ID JOB_STARTDATE  \\\n",
      "4941                       19  344356384    61027530    2021-08-01   \n",
      "51775                      12  263220838    27369998    2015-09-01   \n",
      "115253                     12  810298642    87349671    2013-09-01   \n",
      "299321                     13  128778652    30311511    2016-09-01   \n",
      "173570                     21  163456955    99437561    2009-11-01   \n",
      "\n",
      "       JOB_ENDDATE  SCHOOL_ENDDATE  Model_Output  \n",
      "4941    2022-03-01      2008-01-31             1  \n",
      "51775   2015-11-01      2014-01-31             1  \n",
      "115253        None      2010-01-01             0  \n",
      "299321  2019-10-01      1994-01-31             0  \n",
      "173570  2013-09-01      2008-01-01             0  \n",
      "\n",
      "[5 rows x 32 columns]\n"
     ]
    }
   ],
   "source": [
    "# Define or use the prediction function\n",
    "def model_prediction_score_func(dataframe):\n",
    "    # Ensure 'dataframe' has the correct features required by the model\n",
    "    return pipeline.predict(dataframe)  # Use your trained pipeline/model here\n",
    " \n",
    "# Assuming df is your input DataFrame with the necessary features\n",
    "df['Model_Output'] = model_prediction_score_func(df)\n",
    " \n",
    "# If you have a DataFrame with test data and you want to merge predictions\n",
    "# Assuming X_test is the DataFrame for which predictions are made\n",
    "X_test_with_predictions = X_test.copy()\n",
    "X_test_with_predictions['Model_Output'] = model_prediction_score_func(X_test)\n",
    " \n",
    "# Display the first few rows to verify\n",
    "print(X_test_with_predictions.head())\n",
    " \n",
    "# Optionally, save the combined DataFrame to a CSV file\n",
    "X_test_with_predictions.to_csv(\"/data/combined_predictions.csv\", index=False)"
   ]
  },
  {
   "cell_type": "code",
   "execution_count": 39,
   "id": "1e45da94",
   "metadata": {},
   "outputs": [
    {
     "name": "stdout",
     "output_type": "stream",
     "text": [
      "       MAPPED_ROLE_CLEAN SEX ETHNICITY         HOSPITAL_TYPE  \\\n",
      "4941                 emt   M       API             Childrens   \n",
      "51775       occupational   F     Black  Acute Care Hospitals   \n",
      "115253      technologist   M     White  Acute Care Hospitals   \n",
      "299321             nurse   M  Multiple  Acute Care Hospitals   \n",
      "173570             nurse   M  Multiple  Acute Care Hospitals   \n",
      "\n",
      "                    HOSPITAL_OWNERSHIP  \\\n",
      "4941      Voluntary non-profit - Other   \n",
      "51775   Voluntary non-profit - Private   \n",
      "115253  Voluntary non-profit - Private   \n",
      "299321    Voluntary non-profit - Other   \n",
      "173570  Voluntary non-profit - Private   \n",
      "\n",
      "                                            COMPANY_NAME        CITY STATE  \\\n",
      "4941                                    Cleveland Clinic   Cleveland    OH   \n",
      "51775                             Encompass Health Corp.  Morgantown    WV   \n",
      "115253                                  Cleveland Clinic   Cleveland    OH   \n",
      "299321                             SSM Health Care Corp.    Columbia    MO   \n",
      "173570  Adventist Health System Sunbelt Healthcare Corp.     Orlando    FL   \n",
      "\n",
      "          DISTANCE       DEGREE_CLEAN  ... BIRTH_YEAR AGE OVERTIME_HOURS  \\\n",
      "4941    5-10 miles              Other  ...       1986  38              6   \n",
      "51775   5-10 miles              Other  ...       1988  36             17   \n",
      "115253   >10 miles   Bachelors Degree  ...       1987  37              4   \n",
      "299321   2-5 miles  Associates Degree  ...       1973  51             11   \n",
      "173570    <2 miles  Associates Degree  ...       1987  37             11   \n",
      "\n",
      "       PERCENTAGE_SALARY_HIKE    USER_ID EMPLOYEE_ID JOB_STARTDATE  \\\n",
      "4941                       19  344356384    61027530    2021-08-01   \n",
      "51775                      12  263220838    27369998    2015-09-01   \n",
      "115253                     12  810298642    87349671    2013-09-01   \n",
      "299321                     13  128778652    30311511    2016-09-01   \n",
      "173570                     21  163456955    99437561    2009-11-01   \n",
      "\n",
      "       JOB_ENDDATE  SCHOOL_ENDDATE  Model_Output  \n",
      "4941    2022-03-01      2008-01-31             1  \n",
      "51775   2015-11-01      2014-01-31             1  \n",
      "115253        None      2010-01-01             0  \n",
      "299321  2019-10-01      1994-01-31             0  \n",
      "173570  2013-09-01      2008-01-01             0  \n",
      "\n",
      "[5 rows x 32 columns]\n"
     ]
    }
   ],
   "source": [
    "# Display the first few rows to verify\n",
    "print(X_test_with_predictions.head())"
   ]
  },
  {
   "cell_type": "code",
   "execution_count": 41,
   "id": "9493671c",
   "metadata": {},
   "outputs": [
    {
     "name": "stdout",
     "output_type": "stream",
     "text": [
      "Length of ns_probs: 60000\n",
      "Length of y_pred: 60000\n",
      "Length of y_test_binary: 60000\n",
      "Length of act_probs: 60000\n"
     ]
    }
   ],
   "source": [
    "print(f\"Length of ns_probs: {len(ns_probs)}\")\n",
    "print(f\"Length of y_pred: {len(pred_df['PREDICTION'])}\")\n",
    "print(f\"Length of y_test_binary: {len(y_test)}\")\n",
    "print(f\"Length of act_probs: {len(pred_df['PROB'])}\")"
   ]
  },
  {
   "cell_type": "code",
   "execution_count": 42,
   "id": "94f94c63",
   "metadata": {},
   "outputs": [
    {
     "name": "stdout",
     "output_type": "stream",
     "text": [
      "       MAPPED_ROLE_CLEAN SEX ETHNICITY         HOSPITAL_TYPE  \\\n",
      "4941                 emt   M       API             Childrens   \n",
      "51775       occupational   F     Black  Acute Care Hospitals   \n",
      "115253      technologist   M     White  Acute Care Hospitals   \n",
      "299321             nurse   M  Multiple  Acute Care Hospitals   \n",
      "173570             nurse   M  Multiple  Acute Care Hospitals   \n",
      "\n",
      "                    HOSPITAL_OWNERSHIP  \\\n",
      "4941      Voluntary non-profit - Other   \n",
      "51775   Voluntary non-profit - Private   \n",
      "115253  Voluntary non-profit - Private   \n",
      "299321    Voluntary non-profit - Other   \n",
      "173570  Voluntary non-profit - Private   \n",
      "\n",
      "                                            COMPANY_NAME        CITY STATE  \\\n",
      "4941                                    Cleveland Clinic   Cleveland    OH   \n",
      "51775                             Encompass Health Corp.  Morgantown    WV   \n",
      "115253                                  Cleveland Clinic   Cleveland    OH   \n",
      "299321                             SSM Health Care Corp.    Columbia    MO   \n",
      "173570  Adventist Health System Sunbelt Healthcare Corp.     Orlando    FL   \n",
      "\n",
      "          DISTANCE       DEGREE_CLEAN  ... BIRTH_YEAR AGE OVERTIME_HOURS  \\\n",
      "4941    5-10 miles              Other  ...       1986  38              6   \n",
      "51775   5-10 miles              Other  ...       1988  36             17   \n",
      "115253   >10 miles   Bachelors Degree  ...       1987  37              4   \n",
      "299321   2-5 miles  Associates Degree  ...       1973  51             11   \n",
      "173570    <2 miles  Associates Degree  ...       1987  37             11   \n",
      "\n",
      "       PERCENTAGE_SALARY_HIKE    USER_ID EMPLOYEE_ID JOB_STARTDATE  \\\n",
      "4941                       19  344356384    61027530    2021-08-01   \n",
      "51775                      12  263220838    27369998    2015-09-01   \n",
      "115253                     12  810298642    87349671    2013-09-01   \n",
      "299321                     13  128778652    30311511    2016-09-01   \n",
      "173570                     21  163456955    99437561    2009-11-01   \n",
      "\n",
      "       JOB_ENDDATE  SCHOOL_ENDDATE  Model_Output  \n",
      "4941    2022-03-01      2008-01-31             1  \n",
      "51775   2015-11-01      2014-01-31             1  \n",
      "115253        None      2010-01-01             0  \n",
      "299321  2019-10-01      1994-01-31             0  \n",
      "173570  2013-09-01      2008-01-01             0  \n",
      "\n",
      "[5 rows x 32 columns]\n"
     ]
    }
   ],
   "source": [
    "# Display the first few rows to verify\n",
    "print(X_test_with_predictions.head())"
   ]
  },
  {
   "cell_type": "code",
   "execution_count": null,
   "id": "399db09d",
   "metadata": {},
   "outputs": [],
   "source": [
    "snowflake.execute_query(f\"PUT file://data/combined_predictions.csv @HR_ANALYTIC.HR_ATTRITION.HR_ANALYTICAL_DATA_ATTRITION_STAGE\")"
   ]
  },
  {
   "cell_type": "code",
   "execution_count": 43,
   "id": "084db9d4",
   "metadata": {},
   "outputs": [
    {
     "name": "stdout",
     "output_type": "stream",
     "text": [
      "Exception occurred in getting snowflake connection: 'connectionSources'\n"
     ]
    }
   ],
   "source": [
    "con = snowflake.get_connection(\"HR_Attrition_Data\")"
   ]
  },
  {
   "cell_type": "code",
   "execution_count": 44,
   "id": "22082d73",
   "metadata": {},
   "outputs": [],
   "source": [
    "file = 'HR_Attrition_Model_Data.csv'\n",
    "X_test_with_predictions.to_csv(file , index=False)"
   ]
  },
  {
   "cell_type": "code",
   "execution_count": 45,
   "id": "af66dd4d",
   "metadata": {},
   "outputs": [
    {
     "data": {
      "text/plain": [
       "'HR_Attrition_Model_Data.csv'"
      ]
     },
     "execution_count": 45,
     "metadata": {},
     "output_type": "execute_result"
    }
   ],
   "source": [
    "file"
   ]
  },
  {
   "cell_type": "code",
   "execution_count": null,
   "id": "0c1f5ccb",
   "metadata": {},
   "outputs": [],
   "source": [
    "snowflake.execute_query(f\"PUT file://{file} @HR_ANALYTIC.HR_ATTRITION.HR_ANALYTICAL_DATA_ATTRITION_STAGE\")"
   ]
  },
  {
   "cell_type": "code",
   "execution_count": 46,
   "id": "9ac08174",
   "metadata": {},
   "outputs": [
    {
     "name": "stdout",
     "output_type": "stream",
     "text": [
      "User name picked from OS env: vishal.baldwa@fosfor.com\n",
      "Fetching connections created by vishal.baldwa@fosfor.com user\n",
      "Connection names fetched ['HR Attrition conn'], created by vishal.baldwa@fosfor.com\n",
      "Connection object created: <snowflake.connector.connection.SnowflakeConnection object at 0x7f31842d2850>\n",
      "Please close the connection after use!\n",
      "Exception occurred in execute_query: 253006: Not a file but a directory: /notebooks/notebooks/\n"
     ]
    }
   ],
   "source": [
    "snowflake.execute_query(f\"PUT file:// @HR_ANALYTIC.HR_ATTRITION.HR_ANALYTICAL_DATA_ATTRITION_STAGE\")"
   ]
  },
  {
   "cell_type": "code",
   "execution_count": null,
   "id": "2e2e3f9f",
   "metadata": {},
   "outputs": [],
   "source": []
  }
 ],
 "metadata": {
  "kernelspec": {
   "display_name": "Python 3",
   "language": "python",
   "name": "python3"
  },
  "language_info": {
   "codemirror_mode": {
    "name": "ipython",
    "version": 3
   },
   "file_extension": ".py",
   "mimetype": "text/x-python",
   "name": "python",
   "nbconvert_exporter": "python",
   "pygments_lexer": "ipython3",
   "version": "3.9.18"
  }
 },
 "nbformat": 4,
 "nbformat_minor": 5
}
