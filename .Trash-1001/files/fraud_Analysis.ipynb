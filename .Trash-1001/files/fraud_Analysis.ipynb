{
 "cells": [
  {
   "cell_type": "code",
   "execution_count": null,
   "id": "beef529b-d70b-4196-b3d2-c08170d18ab1",
   "metadata": {},
   "outputs": [],
   "source": [
    "!pip install fosforml"
   ]
  },
  {
   "cell_type": "code",
   "execution_count": null,
   "id": "e3efccc8-8246-425a-8bd5-ab3b6f929a16",
   "metadata": {},
   "outputs": [],
   "source": [
    "from fosforml.model_manager.snowflakesession import get_session\n",
    "my_session = get_session()"
   ]
  },
  {
   "cell_type": "code",
   "execution_count": null,
   "id": "6842e45f-9936-421e-bd98-7506b1f7be04",
   "metadata": {},
   "outputs": [],
   "source": [
    "table_name = 'FRAUD_TABLE_FULL_JOIN'"
   ]
  },
  {
   "cell_type": "code",
   "execution_count": null,
   "id": "88d247f0-7cea-4308-9a28-9bdb2a90700f",
   "metadata": {},
   "outputs": [],
   "source": [
    "sf_df = my_session.sql(\"select * from {}\".format(table_name))\n",
    "sf_df = sf_df.randomSplit([0.8,0.2])"
   ]
  },
  {
   "cell_type": "code",
   "execution_count": null,
   "id": "99b6fe4c-50b8-4a8f-9e18-84f44da4059f",
   "metadata": {},
   "outputs": [],
   "source": []
  }
 ],
 "metadata": {
  "kernelspec": {
   "display_name": "Python 3 (ipykernel)",
   "language": "python",
   "name": "python3"
  },
  "language_info": {
   "codemirror_mode": {
    "name": "ipython",
    "version": 3
   },
   "file_extension": ".py",
   "mimetype": "text/x-python",
   "name": "python",
   "nbconvert_exporter": "python",
   "pygments_lexer": "ipython3",
   "version": "3.9.19"
  }
 },
 "nbformat": 4,
 "nbformat_minor": 5
}
