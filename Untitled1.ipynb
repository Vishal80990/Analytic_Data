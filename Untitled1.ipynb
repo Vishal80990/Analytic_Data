{
 "cells": [
  {
   "cell_type": "code",
   "execution_count": null,
   "id": "200bbdfa",
   "metadata": {},
   "outputs": [],
   "source": [
    "!pip install --upgrade pip\n",
    "!pip install fosforml numpy pandas matplotlib scikit-learn seaborn python-dateutil\n",
    "!pip uninstall urllib3 -y\n",
    "!pip install urllib3==1.26.15\n",
    "!pip install fosforml \n",
    "!pip install fosforio\n",
    "!pip install refractio\n",
    "!pip install refractml"
   ]
  },
  {
   "cell_type": "code",
   "execution_count": null,
   "id": "d827afd2",
   "metadata": {},
   "outputs": [],
   "source": [
    "!pip install seaborn scipy xgboost pandas Faker dice-ml tabulate numpy scikit-learn pandas-profiling plotly matplotlib scipy statsmodels seaborn pydantic-settings"
   ]
  },
  {
   "cell_type": "code",
   "execution_count": 1,
   "id": "5dae6010",
   "metadata": {},
   "outputs": [],
   "source": [
    "import pandas as pd\n",
    "import numpy as np\n",
    "from faker import Faker\n",
    "import matplotlib.pyplot as plt\n",
    "from sklearn.preprocessing import LabelEncoder, MinMaxScaler, OneHotEncoder, OrdinalEncoder\n",
    "from sklearn.model_selection import train_test_split\n",
    "from sklearn.ensemble import RandomForestClassifier\n",
    "from sklearn.metrics import accuracy_score, confusion_matrix, classification_report\n",
    "import seaborn as sns\n",
    "from scipy.stats.mstats import winsorize\n",
    "from xgboost import XGBClassifier\n",
    "from sklearn.compose import ColumnTransformer\n",
    "from sklearn.ensemble import RandomForestClassifier\n",
    "from sklearn.pipeline import Pipeline\n",
    "import joblib\n",
    "from fosforml import *\n",
    "from fosforml.constants import MLModelFlavours\n",
    "import warnings\n",
    "warnings.filterwarnings(\"ignore\", message=\"numpy.dtype size changed\")\n",
    "warnings.filterwarnings(\"ignore\", message=\"numpy.ufunc size changed\")"
   ]
  },
  {
   "cell_type": "code",
   "execution_count": 2,
   "id": "dd80a387",
   "metadata": {},
   "outputs": [
    {
     "ename": "AttributeError",
     "evalue": "'Generator' object has no attribute 'county'",
     "output_type": "error",
     "traceback": [
      "\u001b[0;31m---------------------------------------------------------------------------\u001b[0m",
      "\u001b[0;31mAttributeError\u001b[0m                            Traceback (most recent call last)",
      "Cell \u001b[0;32mIn[2], line 20\u001b[0m\n\u001b[1;32m     18\u001b[0m cities\u001b[38;5;241m.\u001b[39mappend(fake\u001b[38;5;241m.\u001b[39mcity())\n\u001b[1;32m     19\u001b[0m states\u001b[38;5;241m.\u001b[39mappend(fake\u001b[38;5;241m.\u001b[39mstate())\n\u001b[0;32m---> 20\u001b[0m counties\u001b[38;5;241m.\u001b[39mappend(\u001b[43mfake\u001b[49m\u001b[38;5;241;43m.\u001b[39;49m\u001b[43mcounty\u001b[49m())\n\u001b[1;32m     21\u001b[0m postal_codes\u001b[38;5;241m.\u001b[39mappend(fake\u001b[38;5;241m.\u001b[39mzipcode())\n\u001b[1;32m     22\u001b[0m names\u001b[38;5;241m.\u001b[39mappend(fake\u001b[38;5;241m.\u001b[39mname())\n",
      "File \u001b[0;32m/tmp/pip_packages/faker/proxy.py:130\u001b[0m, in \u001b[0;36mFaker.__getattr__\u001b[0;34m(self, attr)\u001b[0m\n\u001b[1;32m    123\u001b[0m \u001b[38;5;250m\u001b[39m\u001b[38;5;124;03m\"\"\"\u001b[39;00m\n\u001b[1;32m    124\u001b[0m \u001b[38;5;124;03mHandles cache access and proxying behavior\u001b[39;00m\n\u001b[1;32m    125\u001b[0m \n\u001b[1;32m    126\u001b[0m \u001b[38;5;124;03m:param attr: attribute name\u001b[39;00m\n\u001b[1;32m    127\u001b[0m \u001b[38;5;124;03m:return: the appropriate attribute\u001b[39;00m\n\u001b[1;32m    128\u001b[0m \u001b[38;5;124;03m\"\"\"\u001b[39;00m\n\u001b[1;32m    129\u001b[0m \u001b[38;5;28;01mif\u001b[39;00m \u001b[38;5;28mlen\u001b[39m(\u001b[38;5;28mself\u001b[39m\u001b[38;5;241m.\u001b[39m_factories) \u001b[38;5;241m==\u001b[39m \u001b[38;5;241m1\u001b[39m:\n\u001b[0;32m--> 130\u001b[0m     \u001b[38;5;28;01mreturn\u001b[39;00m \u001b[38;5;28;43mgetattr\u001b[39;49m\u001b[43m(\u001b[49m\u001b[38;5;28;43mself\u001b[39;49m\u001b[38;5;241;43m.\u001b[39;49m\u001b[43m_factories\u001b[49m\u001b[43m[\u001b[49m\u001b[38;5;241;43m0\u001b[39;49m\u001b[43m]\u001b[49m\u001b[43m,\u001b[49m\u001b[43m \u001b[49m\u001b[43mattr\u001b[49m\u001b[43m)\u001b[49m\n\u001b[1;32m    131\u001b[0m \u001b[38;5;28;01melif\u001b[39;00m attr \u001b[38;5;129;01min\u001b[39;00m \u001b[38;5;28mself\u001b[39m\u001b[38;5;241m.\u001b[39mgenerator_attrs:\n\u001b[1;32m    132\u001b[0m     msg \u001b[38;5;241m=\u001b[39m \u001b[38;5;124m\"\u001b[39m\u001b[38;5;124mProxying calls to `\u001b[39m\u001b[38;5;132;01m%s\u001b[39;00m\u001b[38;5;124m` is not implemented in multiple locale mode.\u001b[39m\u001b[38;5;124m\"\u001b[39m \u001b[38;5;241m%\u001b[39m attr\n",
      "\u001b[0;31mAttributeError\u001b[0m: 'Generator' object has no attribute 'county'"
     ]
    }
   ],
   "source": [
    " \n",
    "# Initialize Faker\n",
    "fake = Faker('en_US')\n",
    " \n",
    "# Number of records to generate\n",
    "num_records = 300000\n",
    " \n",
    "# Create lists to store generated data\n",
    "cities = []\n",
    "states = []\n",
    "counties = []\n",
    "postal_codes = []\n",
    "names = []\n",
    "genders = []\n",
    "dob = []\n",
    " \n",
    "# Generate data\n",
    "for _ in range(num_records):\n",
    "    cities.append(fake.city())\n",
    "    states.append(fake.state())\n",
    "    counties.append(fake.county())\n",
    "    postal_codes.append(fake.zipcode())\n",
    "    names.append(fake.name())\n",
    "    genders.append(np.random.choice(['Male', 'Female']))\n",
    "    dob.append(fake.date_of_birth(minimum_age=18, maximum_age=90))\n",
    " \n",
    "# Create a DataFrame\n",
    "data = {\n",
    "    'City': cities,\n",
    "    'State': states,\n",
    "    'County': counties,\n",
    "    'Postal Code': postal_codes,\n",
    "    'Name': names,\n",
    "    'Gender': genders,\n",
    "    'Date of Birth': dob\n",
    "}\n",
    "df = pd.DataFrame(data)\n",
    " \n",
    "# Display the first 10 rows of the generated dataset\n",
    "print(df.head())\n",
    " \n",
    "# Optionally, save the generated data to a CSV file\n",
    "#df.to_csv('generated_us_data.csv', index=False)"
   ]
  },
  {
   "cell_type": "code",
   "execution_count": null,
   "id": "91d050d1",
   "metadata": {},
   "outputs": [],
   "source": []
  }
 ],
 "metadata": {
  "kernelspec": {
   "display_name": "Python 3",
   "language": "python",
   "name": "python3"
  },
  "language_info": {
   "codemirror_mode": {
    "name": "ipython",
    "version": 3
   },
   "file_extension": ".py",
   "mimetype": "text/x-python",
   "name": "python",
   "nbconvert_exporter": "python",
   "pygments_lexer": "ipython3",
   "version": "3.9.18"
  }
 },
 "nbformat": 4,
 "nbformat_minor": 5
}
