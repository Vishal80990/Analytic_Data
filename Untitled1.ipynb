{
 "cells": [
  {
   "cell_type": "code",
   "execution_count": null,
   "id": "200bbdfa",
   "metadata": {},
   "outputs": [],
   "source": [
    "!pip install --upgrade pip\n",
    "!pip install fosforml numpy pandas matplotlib scikit-learn seaborn python-dateutil\n",
    "!pip uninstall urllib3 -y\n",
    "!pip install urllib3==1.26.15\n",
    "!pip install fosforml \n",
    "!pip install fosforio\n",
    "!pip install refractio\n",
    "!pip install refractml"
   ]
  },
  {
   "cell_type": "code",
   "execution_count": null,
   "id": "d827afd2",
   "metadata": {},
   "outputs": [],
   "source": [
    "!pip install seaborn scipy xgboost pandas Faker dice-ml tabulate numpy scikit-learn pandas-profiling plotly matplotlib scipy statsmodels seaborn pydantic-settings"
   ]
  },
  {
   "cell_type": "code",
   "execution_count": 1,
   "id": "5dae6010",
   "metadata": {},
   "outputs": [],
   "source": [
    "import pandas as pd\n",
    "import numpy as np\n",
    "from faker import Faker\n",
    "import matplotlib.pyplot as plt\n",
    "from sklearn.preprocessing import LabelEncoder, MinMaxScaler, OneHotEncoder, OrdinalEncoder\n",
    "from sklearn.model_selection import train_test_split\n",
    "from sklearn.ensemble import RandomForestClassifier\n",
    "from sklearn.metrics import accuracy_score, confusion_matrix, classification_report\n",
    "import seaborn as sns\n",
    "from scipy.stats.mstats import winsorize\n",
    "from xgboost import XGBClassifier\n",
    "from sklearn.compose import ColumnTransformer\n",
    "from sklearn.ensemble import RandomForestClassifier\n",
    "from sklearn.pipeline import Pipeline\n",
    "import joblib\n",
    "from fosforml import *\n",
    "from fosforml.constants import MLModelFlavours\n",
    "import warnings\n",
    "warnings.filterwarnings(\"ignore\", message=\"numpy.dtype size changed\")\n",
    "warnings.filterwarnings(\"ignore\", message=\"numpy.ufunc size changed\")"
   ]
  },
  {
   "cell_type": "code",
   "execution_count": 9,
   "id": "0ea836e5",
   "metadata": {},
   "outputs": [
    {
     "ename": "IndexError",
     "evalue": "list index out of range",
     "output_type": "error",
     "traceback": [
      "\u001b[0;31m---------------------------------------------------------------------------\u001b[0m",
      "\u001b[0;31mIndexError\u001b[0m                                Traceback (most recent call last)",
      "Cell \u001b[0;32mIn[9], line 23\u001b[0m\n\u001b[1;32m     21\u001b[0m city_state \u001b[38;5;241m=\u001b[39m address[\u001b[38;5;241m1\u001b[39m]\u001b[38;5;241m.\u001b[39msplit(\u001b[38;5;124m'\u001b[39m\u001b[38;5;124m,\u001b[39m\u001b[38;5;124m'\u001b[39m)\n\u001b[1;32m     22\u001b[0m cities\u001b[38;5;241m.\u001b[39mappend(city_state[\u001b[38;5;241m0\u001b[39m])\n\u001b[0;32m---> 23\u001b[0m states\u001b[38;5;241m.\u001b[39mappend(\u001b[43mcity_state\u001b[49m\u001b[43m[\u001b[49m\u001b[38;5;241;43m1\u001b[39;49m\u001b[43m]\u001b[49m\u001b[38;5;241m.\u001b[39mstrip()\u001b[38;5;241m.\u001b[39msplit(\u001b[38;5;124m'\u001b[39m\u001b[38;5;124m \u001b[39m\u001b[38;5;124m'\u001b[39m)[\u001b[38;5;241m0\u001b[39m])\n\u001b[1;32m     25\u001b[0m \u001b[38;5;66;03m# Generate name and gender\u001b[39;00m\n\u001b[1;32m     26\u001b[0m \u001b[38;5;28;01mif\u001b[39;00m random\u001b[38;5;241m.\u001b[39mchoice([\u001b[38;5;28;01mTrue\u001b[39;00m, \u001b[38;5;28;01mFalse\u001b[39;00m]):\n",
      "\u001b[0;31mIndexError\u001b[0m: list index out of range"
     ]
    }
   ],
   "source": [
    "\n",
    "import random\n",
    "\n",
    "# Initialize Faker and set the locale to 'en_US' for US-based data\n",
    "fake = Faker('en_US')\n",
    "\n",
    "# Define the number of records\n",
    "num_records = 300000\n",
    "\n",
    "# Prepare lists to store the generated data\n",
    "cities = []\n",
    "states = []\n",
    "first_names = []\n",
    "last_names = []\n",
    "genders = []\n",
    "dobs = []\n",
    "\n",
    "# Generate the data\n",
    "for _ in range(num_records):\n",
    "    # Generate a full address and extract city and state\n",
    "    address = fake.address().split('\\n')\n",
    "    city_state = address[1].split(',')\n",
    "    cities.append(city_state[0])\n",
    "    states.append(city_state[1].strip().split(' ')[0])\n",
    "\n",
    "    # Generate name and gender\n",
    "    if random.choice([True, False]):\n",
    "        first_names.append(fake.first_name_male())\n",
    "        last_names.append(fake.last_name_male())\n",
    "        genders.append('Male')\n",
    "    else:\n",
    "        first_names.append(fake.first_name_female())\n",
    "        last_names.append(fake.last_name_female())\n",
    "        genders.append('Female')\n",
    "\n",
    "    # Generate DOB\n",
    "    dobs.append(fake.date_of_birth(minimum_age=18, maximum_age=90).strftime('%Y-%m-%d'))\n",
    "\n",
    "# Create a DataFrame\n",
    "data = pd.DataFrame({\n",
    "    'City': cities,\n",
    "    'State': states,\n",
    "    'First Name': first_names,\n",
    "    'Last Name': last_names,\n",
    "    'Gender': genders,\n",
    "    'DOB': dobs\n",
    "})\n",
    "\n",
    "# Save the data to a CSV file\n",
    "data.to_csv('us_data.csv', index=False)\n"
   ]
  },
  {
   "cell_type": "code",
   "execution_count": null,
   "id": "b5ac6ca9",
   "metadata": {},
   "outputs": [],
   "source": []
  }
 ],
 "metadata": {
  "kernelspec": {
   "display_name": "Python 3",
   "language": "python",
   "name": "python3"
  },
  "language_info": {
   "codemirror_mode": {
    "name": "ipython",
    "version": 3
   },
   "file_extension": ".py",
   "mimetype": "text/x-python",
   "name": "python",
   "nbconvert_exporter": "python",
   "pygments_lexer": "ipython3",
   "version": "3.9.18"
  }
 },
 "nbformat": 4,
 "nbformat_minor": 5
}
