{
 "cells": [
  {
   "cell_type": "code",
   "execution_count": null,
   "id": "200bbdfa",
   "metadata": {},
   "outputs": [],
   "source": [
    "!pip install --upgrade pip\n",
    "!pip install fosforml numpy pandas matplotlib scikit-learn seaborn python-dateutil\n",
    "!pip uninstall urllib3 -y\n",
    "!pip install urllib3==1.26.15\n",
    "!pip install fosforml \n",
    "!pip install fosforio\n",
    "!pip install refractio\n",
    "!pip install refractml"
   ]
  },
  {
   "cell_type": "code",
   "execution_count": null,
   "id": "d827afd2",
   "metadata": {},
   "outputs": [],
   "source": [
    "!pip install seaborn scipy xgboost pandas Faker dice-ml tabulate numpy scikit-learn pandas-profiling plotly matplotlib scipy statsmodels seaborn pydantic-settings"
   ]
  },
  {
   "cell_type": "code",
   "execution_count": 1,
   "id": "5dae6010",
   "metadata": {},
   "outputs": [],
   "source": [
    "import pandas as pd\n",
    "import numpy as np\n",
    "from faker import Faker\n",
    "import matplotlib.pyplot as plt\n",
    "from sklearn.preprocessing import LabelEncoder, MinMaxScaler, OneHotEncoder, OrdinalEncoder\n",
    "from sklearn.model_selection import train_test_split\n",
    "from sklearn.ensemble import RandomForestClassifier\n",
    "from sklearn.metrics import accuracy_score, confusion_matrix, classification_report\n",
    "import seaborn as sns\n",
    "from scipy.stats.mstats import winsorize\n",
    "from xgboost import XGBClassifier\n",
    "from sklearn.compose import ColumnTransformer\n",
    "from sklearn.ensemble import RandomForestClassifier\n",
    "from sklearn.pipeline import Pipeline\n",
    "import joblib\n",
    "from fosforml import *\n",
    "from fosforml.constants import MLModelFlavours\n",
    "import warnings\n",
    "warnings.filterwarnings(\"ignore\", message=\"numpy.dtype size changed\")\n",
    "warnings.filterwarnings(\"ignore\", message=\"numpy.ufunc size changed\")"
   ]
  },
  {
   "cell_type": "code",
   "execution_count": null,
   "id": "42a4a5b9",
   "metadata": {},
   "outputs": [],
   "source": [
    "import pandas as pd\n",
    "import numpy as np\n",
    "from faker import Faker\n",
    " \n",
    "# Initialize Faker\n",
    "fake = Faker('en_US')\n",
    " \n",
    "# Load city-county-state data\n",
    "# Example CSV file: 'us_city_county_state.csv'\n",
    "# The CSV should have columns: 'City', 'County', 'State'\n",
    " \n",
    "city_county_state_df = pd.read_csv('realistic_data_with_dob.csv')\n",
    " \n",
    "# Number of records to generate\n",
    "num_records = 300000\n",
    " \n",
    "# Create lists to store generated data\n",
    "cities = []\n",
    "states = []\n",
    "counties = []\n",
    "countries = []\n",
    "postal_codes = []\n",
    "names = []\n",
    "genders = []\n",
    "dob = []\n",
    " \n",
    "# Generate data\n",
    "for _ in range(num_records):\n",
    "    # Randomly choose a row from the dataframe\n",
    "    location = city_county_state_df.sample().iloc[0]\n",
    "    city = location['City']\n",
    "    state = location['State']\n",
    "    county = location['County']\n",
    "    \n",
    "    cities.append(city)\n",
    "    states.append(state)\n",
    "    counties.append(county)\n",
    "    countries.append('United States')\n",
    "    postal_codes.append(fake.zipcode_in_state(state))\n",
    "    names.append(fake.name())\n",
    "    genders.append(np.random.choice(['Male', 'Female']))\n",
    "    dob.append(fake.date_of_birth(minimum_age=18, maximum_age=90))\n",
    " \n",
    "# Create a DataFrame\n",
    "data = {\n",
    "    'City': cities,\n",
    "    'State': states,\n",
    "    'County': counties,\n",
    "    'Country': countries,\n",
    "    'Postal Code': postal_codes,\n",
    "    'Name': names,\n",
    "    'Gender': genders,\n",
    "    'Date of Birth': dob\n",
    "}\n",
    "df = pd.DataFrame(data)\n",
    " \n",
    "# Display the first 10 rows of the generated dataset\n",
    "print(df.head(10))\n",
    " \n",
    "# Optionally, save the generated data to a CSV file\n",
    "df.to_csv('generated_us_data.csv', index=False)"
   ]
  },
  {
   "cell_type": "code",
   "execution_count": null,
   "id": "a0e5ca34",
   "metadata": {},
   "outputs": [],
   "source": []
  }
 ],
 "metadata": {
  "kernelspec": {
   "display_name": "Python 3",
   "language": "python",
   "name": "python3"
  },
  "language_info": {
   "codemirror_mode": {
    "name": "ipython",
    "version": 3
   },
   "file_extension": ".py",
   "mimetype": "text/x-python",
   "name": "python",
   "nbconvert_exporter": "python",
   "pygments_lexer": "ipython3",
   "version": "3.9.18"
  }
 },
 "nbformat": 4,
 "nbformat_minor": 5
}
