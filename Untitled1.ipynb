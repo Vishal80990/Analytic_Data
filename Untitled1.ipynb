{
 "cells": [
  {
   "cell_type": "code",
   "execution_count": null,
   "id": "200bbdfa",
   "metadata": {},
   "outputs": [],
   "source": [
    "!pip install --upgrade pip\n",
    "!pip install fosforml numpy pandas matplotlib scikit-learn seaborn python-dateutil\n",
    "!pip uninstall urllib3 -y\n",
    "!pip install urllib3==1.26.15\n",
    "!pip install fosforml \n",
    "!pip install fosforio\n",
    "!pip install refractio\n",
    "!pip install refractml"
   ]
  },
  {
   "cell_type": "code",
   "execution_count": null,
   "id": "d827afd2",
   "metadata": {},
   "outputs": [],
   "source": [
    "!pip install seaborn scipy xgboost pandas Faker dice-ml tabulate numpy scikit-learn pandas-profiling plotly matplotlib scipy statsmodels seaborn pydantic-settings"
   ]
  },
  {
   "cell_type": "code",
   "execution_count": 1,
   "id": "5dae6010",
   "metadata": {},
   "outputs": [],
   "source": [
    "import pandas as pd\n",
    "import numpy as np\n",
    "from faker import Faker\n",
    "import matplotlib.pyplot as plt\n",
    "from sklearn.preprocessing import LabelEncoder, MinMaxScaler, OneHotEncoder, OrdinalEncoder\n",
    "from sklearn.model_selection import train_test_split\n",
    "from sklearn.ensemble import RandomForestClassifier\n",
    "from sklearn.metrics import accuracy_score, confusion_matrix, classification_report\n",
    "import seaborn as sns\n",
    "from scipy.stats.mstats import winsorize\n",
    "from xgboost import XGBClassifier\n",
    "from sklearn.compose import ColumnTransformer\n",
    "from sklearn.ensemble import RandomForestClassifier\n",
    "from sklearn.pipeline import Pipeline\n",
    "import joblib\n",
    "from fosforml import *\n",
    "from fosforml.constants import MLModelFlavours\n",
    "import warnings\n",
    "warnings.filterwarnings(\"ignore\", message=\"numpy.dtype size changed\")\n",
    "warnings.filterwarnings(\"ignore\", message=\"numpy.ufunc size changed\")"
   ]
  },
  {
   "cell_type": "code",
   "execution_count": 3,
   "id": "c8f4a2d6",
   "metadata": {},
   "outputs": [
    {
     "ename": "AttributeError",
     "evalue": "'list' object has no attribute 'random'",
     "output_type": "error",
     "traceback": [
      "\u001b[0;31m---------------------------------------------------------------------------\u001b[0m",
      "\u001b[0;31mAttributeError\u001b[0m                            Traceback (most recent call last)",
      "Cell \u001b[0;32mIn[3], line 20\u001b[0m\n\u001b[1;32m     18\u001b[0m cities\u001b[38;5;241m.\u001b[39mappend(fake\u001b[38;5;241m.\u001b[39mcity())\n\u001b[1;32m     19\u001b[0m states\u001b[38;5;241m.\u001b[39mappend(fake\u001b[38;5;241m.\u001b[39mstate())\n\u001b[0;32m---> 20\u001b[0m \u001b[43mcounties\u001b[49m\u001b[38;5;241;43m.\u001b[39;49m\u001b[43mrandom\u001b[49m\u001b[38;5;241m.\u001b[39mchoice(counties())\n\u001b[1;32m     21\u001b[0m postal_codes\u001b[38;5;241m.\u001b[39mappend(fake\u001b[38;5;241m.\u001b[39mzipcode())\n\u001b[1;32m     22\u001b[0m names\u001b[38;5;241m.\u001b[39mappend(fake\u001b[38;5;241m.\u001b[39mname())\n",
      "\u001b[0;31mAttributeError\u001b[0m: 'list' object has no attribute 'random'"
     ]
    }
   ],
   "source": [
    " \n",
    "# Initialize Faker\n",
    "fake = Faker('en_US')\n",
    " \n",
    "# Number of records to generate\n",
    "num_records = 300000\n",
    " \n",
    "# Create lists to store generated data\n",
    "cities = []\n",
    "states = []\n",
    "counties = []\n",
    "postal_codes = []\n",
    "names = []\n",
    "genders = []\n",
    "dob = []\n",
    " \n",
    "# Generate data\n",
    "for _ in range(num_records):\n",
    "    cities.append(fake.city())\n",
    "    states.append(fake.state())\n",
    "    counties.random.choice(counties())\n",
    "    postal_codes.append(fake.zipcode())\n",
    "    names.append(fake.name())\n",
    "    genders.append(np.random.choice(['Male', 'Female']))\n",
    "    dob.append(fake.date_of_birth(minimum_age=18, maximum_age=90))\n",
    " \n",
    "# Create a DataFrame\n",
    "data = {\n",
    "    'City': cities,\n",
    "    'State': states,\n",
    "    'County': counties,\n",
    "    'Postal Code': postal_codes,\n",
    "    'Name': names,\n",
    "    'Gender': genders,\n",
    "    'Date of Birth': dob\n",
    "}\n",
    "df = pd.DataFrame(data)\n",
    " \n",
    "# Display the first 10 rows of the generated dataset\n",
    "print(df.head())\n",
    " \n",
    "# Optionally, save the generated data to a CSV file\n",
    "#df.to_csv('generated_us_data.csv', index=False)"
   ]
  },
  {
   "cell_type": "code",
   "execution_count": null,
   "id": "59633fc8",
   "metadata": {},
   "outputs": [],
   "source": []
  }
 ],
 "metadata": {
  "kernelspec": {
   "display_name": "Python 3",
   "language": "python",
   "name": "python3"
  },
  "language_info": {
   "codemirror_mode": {
    "name": "ipython",
    "version": 3
   },
   "file_extension": ".py",
   "mimetype": "text/x-python",
   "name": "python",
   "nbconvert_exporter": "python",
   "pygments_lexer": "ipython3",
   "version": "3.9.18"
  }
 },
 "nbformat": 4,
 "nbformat_minor": 5
}
