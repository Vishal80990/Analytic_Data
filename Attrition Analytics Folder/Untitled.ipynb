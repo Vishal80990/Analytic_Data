{
 "cells": [
  {
   "cell_type": "code",
   "execution_count": null,
   "id": "b49a86fa-5bf6-400f-913c-28758ce8e87b",
   "metadata": {},
   "outputs": [],
   "source": [
    "!pip install fosforml"
   ]
  },
  {
   "cell_type": "code",
   "execution_count": 2,
   "id": "6b8dad83-ed64-4037-8503-107938e21db7",
   "metadata": {},
   "outputs": [],
   "source": [
    "import pandas as pd\n",
    "import numpy as np\n",
    "import matplotlib.pyplot as plt\n",
    "from sklearn.preprocessing import LabelEncoder, MinMaxScaler, OneHotEncoder, OrdinalEncoder\n",
    "from sklearn.model_selection import train_test_split\n",
    "from sklearn.ensemble import RandomForestClassifier\n",
    "from sklearn.metrics import accuracy_score, confusion_matrix, classification_report\n",
    "#import seaborn as sns\n",
    "from scipy.stats.mstats import winsorize\n",
    "from xgboost import XGBClassifier\n",
    "from sklearn.compose import ColumnTransformer\n",
    "from sklearn.ensemble import RandomForestClassifier\n",
    "from sklearn.pipeline import Pipeline\n",
    "import joblib\n",
    "from fosforml import *\n",
    "from fosforml.constants import MLModelFlavours\n",
    "import warnings\n",
    "warnings.filterwarnings(\"ignore\", message=\"numpy.dtype size changed\")\n",
    "warnings.filterwarnings(\"ignore\", message=\"numpy.ufunc size changed\")"
   ]
  },
  {
   "cell_type": "code",
   "execution_count": 3,
   "id": "4ba1e261-3e3b-49a9-949a-bac998a833b2",
   "metadata": {},
   "outputs": [],
   "source": [
    "from fosforml.model_manager.snowflakesession import get_session\n",
    "\n",
    "my_session = get_session()"
   ]
  },
  {
   "cell_type": "code",
   "execution_count": 4,
   "id": "9edc066a-b26a-45a1-a4c3-3a96dd54d575",
   "metadata": {},
   "outputs": [],
   "source": [
    "df = 'ATTRITION_PREDICTIVE_DATA'"
   ]
  },
  {
   "cell_type": "code",
   "execution_count": 5,
   "id": "d78d4582-f6eb-4e59-8e0a-5daaf8d70433",
   "metadata": {},
   "outputs": [],
   "source": [
    "sf_df = my_session.sql(\"select * from {}\".format(df))"
   ]
  },
  {
   "cell_type": "code",
   "execution_count": 6,
   "id": "ed538e93-a62a-49f5-b3f0-8a03ee310ac9",
   "metadata": {},
   "outputs": [],
   "source": [
    "import pandas as pd\n",
    "pandas_df = sf_df.to_pandas()"
   ]
  },
  {
   "cell_type": "code",
   "execution_count": 7,
   "id": "bb735877-46af-4508-9ee7-f91b45175de6",
   "metadata": {},
   "outputs": [
    {
     "name": "stdout",
     "output_type": "stream",
     "text": [
      "EMPLOYEE_ID                      0\n",
      "TENURE_MONTHS                    0\n",
      "BIRTH_YEAR                       0\n",
      "AGE                              0\n",
      "SENIORITY                        0\n",
      "SCHOOL_ENDDATE                   0\n",
      "JOB_STARTDATE                    0\n",
      "JOB_ENDDATE                  90076\n",
      "CITY                             0\n",
      "DISTANCE                         0\n",
      "DEGREE_CLEAN                     0\n",
      "ETHNICITY                        0\n",
      "MARITAL_STATUS                   0\n",
      "ROLE                             0\n",
      "COMPANY_NAME                     0\n",
      "ORGANIZATION_TYPE                0\n",
      "ORGANIZATION_OWNERSHIP           0\n",
      "STATE                            0\n",
      "COUNTRY                          0\n",
      "GENDER                           0\n",
      "WORK_LIFE_BALANCE                0\n",
      "BUSINESS_TRAVEL                  0\n",
      "ENVIRONMENT_SATISFACTION         0\n",
      "SALARY                           0\n",
      "JOB_SATISFACTION                 0\n",
      "PERCENTAGE_SALARY_HIKE           0\n",
      "PERFORMANCE_RATING               0\n",
      "OVER_TIME                        0\n",
      "RELATIONSHIP_SATISFACTION        0\n",
      "CHURN                            0\n",
      "dtype: int64\n"
     ]
    }
   ],
   "source": [
    "print(pandas_df.isnull().sum())"
   ]
  },
  {
   "cell_type": "code",
   "execution_count": 8,
   "id": "9343ba21-69e1-4ac0-a2fd-67a9ae514274",
   "metadata": {},
   "outputs": [],
   "source": [
    "Original_df = pandas_df.dropna()"
   ]
  },
  {
   "cell_type": "code",
   "execution_count": 9,
   "id": "cf3916a4-a50c-4494-acfb-c0dc94bfa5d5",
   "metadata": {},
   "outputs": [
    {
     "name": "stdout",
     "output_type": "stream",
     "text": [
      "EMPLOYEE_ID                  0\n",
      "TENURE_MONTHS                0\n",
      "BIRTH_YEAR                   0\n",
      "AGE                          0\n",
      "SENIORITY                    0\n",
      "SCHOOL_ENDDATE               0\n",
      "JOB_STARTDATE                0\n",
      "JOB_ENDDATE                  0\n",
      "CITY                         0\n",
      "DISTANCE                     0\n",
      "DEGREE_CLEAN                 0\n",
      "ETHNICITY                    0\n",
      "MARITAL_STATUS               0\n",
      "ROLE                         0\n",
      "COMPANY_NAME                 0\n",
      "ORGANIZATION_TYPE            0\n",
      "ORGANIZATION_OWNERSHIP       0\n",
      "STATE                        0\n",
      "COUNTRY                      0\n",
      "GENDER                       0\n",
      "WORK_LIFE_BALANCE            0\n",
      "BUSINESS_TRAVEL              0\n",
      "ENVIRONMENT_SATISFACTION     0\n",
      "SALARY                       0\n",
      "JOB_SATISFACTION             0\n",
      "PERCENTAGE_SALARY_HIKE       0\n",
      "PERFORMANCE_RATING           0\n",
      "OVER_TIME                    0\n",
      "RELATIONSHIP_SATISFACTION    0\n",
      "CHURN                        0\n",
      "dtype: int64\n"
     ]
    }
   ],
   "source": [
    "print(Original_df.isnull().sum())"
   ]
  },
  {
   "cell_type": "code",
   "execution_count": null,
   "id": "e89f510b-f872-4de7-a842-dbdb120bf59b",
   "metadata": {},
   "outputs": [],
   "source": [
    "Original_df['JOB_ENDDATE'] = pd.to_datetime(Original_df['JOB_ENDDATE'])\n",
    "monthly_data = Original_df.resample('M', on='JOB_ENDDATE').sum()"
   ]
  }
 ],
 "metadata": {
  "kernelspec": {
   "display_name": "Python 3 (ipykernel)",
   "language": "python",
   "name": "python3"
  },
  "language_info": {
   "codemirror_mode": {
    "name": "ipython",
    "version": 3
   },
   "file_extension": ".py",
   "mimetype": "text/x-python",
   "name": "python",
   "nbconvert_exporter": "python",
   "pygments_lexer": "ipython3",
   "version": "3.9.19"
  }
 },
 "nbformat": 4,
 "nbformat_minor": 5
}
