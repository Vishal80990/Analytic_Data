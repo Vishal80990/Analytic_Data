{
 "cells": [
  {
   "cell_type": "code",
   "execution_count": null,
   "id": "f1c5a1ed-b48c-4344-8e4b-7e3a730c7c77",
   "metadata": {},
   "outputs": [],
   "source": [
    "!pip install fosforml"
   ]
  },
  {
   "cell_type": "code",
   "execution_count": 1,
   "id": "422a07d8-eb7a-4bc7-839e-4c4d61fe5e7d",
   "metadata": {},
   "outputs": [],
   "source": [
    "from fosforml.model_manager.snowflakesession import get_session\n",
    "\n",
    "my_session = get_session()"
   ]
  },
  {
   "cell_type": "code",
   "execution_count": 2,
   "id": "bef1d1f2-bf92-4a03-89c2-67ac07738ad1",
   "metadata": {},
   "outputs": [],
   "source": [
    "file_name = 'ATTRITION_PREDICTIVE_DATA1'"
   ]
  },
  {
   "cell_type": "code",
   "execution_count": 3,
   "id": "6dbe40bb-eef8-4985-86d4-ff80cb2f7f19",
   "metadata": {},
   "outputs": [],
   "source": [
    "sf_df = my_session.sql(\"select * from {}\".format(file_name ))\n"
   ]
  },
  {
   "cell_type": "code",
   "execution_count": 4,
   "id": "b35b1ac4-4412-4348-926c-68fd35618dac",
   "metadata": {},
   "outputs": [],
   "source": [
    "import pandas as pd\n",
    "pandas_df = sf_df.to_pandas()\n",
    "#pandas_df = pd.read_csv(file_name)"
   ]
  },
  {
   "cell_type": "code",
   "execution_count": 5,
   "id": "1359f3e2-b992-4497-b94e-ce778d6759b0",
   "metadata": {},
   "outputs": [
    {
     "name": "stdout",
     "output_type": "stream",
     "text": [
      "EMPLOYEE_ID                      0\n",
      "TENURE_MONTHS                    0\n",
      "BIRTH_YEAR                       0\n",
      "AGE                              0\n",
      "SENIORITY                        0\n",
      "SCHOOL_ENDDATE                   0\n",
      "JOB_STARTDATE                    0\n",
      "JOB_ENDDATE                  90076\n",
      "CITY                             0\n",
      "DISTANCE                         0\n",
      "DEGREE_CLEAN                     0\n",
      "ETHNICITY                        0\n",
      "MARITAL_STATUS                   0\n",
      "ROLE                             0\n",
      "COMPANY_NAME                     0\n",
      "ORGANIZATION_TYPE                0\n",
      "ORGANIZATION_OWNERSHIP           0\n",
      "STATE                            0\n",
      "COUNTRY                          0\n",
      "GENDER                           0\n",
      "WORK_LIFE_BALANCE                0\n",
      "BUSINESS_TRAVEL                  0\n",
      "ENVIRONMENT_SATISFACTION         0\n",
      "SALARY                           0\n",
      "JOB_SATISFACTION                 0\n",
      "PERCENTAGE_SALARY_HIKE           0\n",
      "PERFORMANCE_RATING               0\n",
      "OVER_TIME                        0\n",
      "RELATIONSHIP_SATISFACTION        0\n",
      "CHURN                            0\n",
      "dtype: int64\n"
     ]
    }
   ],
   "source": [
    "print(pandas_df.isnull().sum())"
   ]
  },
  {
   "cell_type": "code",
   "execution_count": 6,
   "id": "7376a717-bf58-4ac0-8dad-85dd0810faae",
   "metadata": {},
   "outputs": [],
   "source": [
    "pandas_df = pandas_df.dropna()"
   ]
  },
  {
   "cell_type": "code",
   "execution_count": 7,
   "id": "dd96f344-6bbc-469f-8df3-1e2267342e64",
   "metadata": {},
   "outputs": [
    {
     "name": "stdout",
     "output_type": "stream",
     "text": [
      "EMPLOYEE_ID                  0\n",
      "TENURE_MONTHS                0\n",
      "BIRTH_YEAR                   0\n",
      "AGE                          0\n",
      "SENIORITY                    0\n",
      "SCHOOL_ENDDATE               0\n",
      "JOB_STARTDATE                0\n",
      "JOB_ENDDATE                  0\n",
      "CITY                         0\n",
      "DISTANCE                     0\n",
      "DEGREE_CLEAN                 0\n",
      "ETHNICITY                    0\n",
      "MARITAL_STATUS               0\n",
      "ROLE                         0\n",
      "COMPANY_NAME                 0\n",
      "ORGANIZATION_TYPE            0\n",
      "ORGANIZATION_OWNERSHIP       0\n",
      "STATE                        0\n",
      "COUNTRY                      0\n",
      "GENDER                       0\n",
      "WORK_LIFE_BALANCE            0\n",
      "BUSINESS_TRAVEL              0\n",
      "ENVIRONMENT_SATISFACTION     0\n",
      "SALARY                       0\n",
      "JOB_SATISFACTION             0\n",
      "PERCENTAGE_SALARY_HIKE       0\n",
      "PERFORMANCE_RATING           0\n",
      "OVER_TIME                    0\n",
      "RELATIONSHIP_SATISFACTION    0\n",
      "CHURN                        0\n",
      "dtype: int64\n"
     ]
    }
   ],
   "source": [
    "print(pandas_df.isnull().sum())"
   ]
  },
  {
   "cell_type": "code",
   "execution_count": 8,
   "id": "8403d863-9f14-4be0-98bc-34b27d2c6a08",
   "metadata": {},
   "outputs": [],
   "source": [
    "#dataset = pandas_df[[\"DISTANCE\",\"DEGREE_CLEAN\",\"ROLE\",\"COMPANY_NAME\",\"ORGANIZATION_TYPE\",\"ORGANIZATION_OWNERSHIP\",\"JOB_ENDDATE\",\"CHURN\"]]\n",
    "dataset = pandas_df[[\"ORGANIZATION_TYPE\",\"JOB_ENDDATE\",\"CHURN\"]]"
   ]
  },
  {
   "cell_type": "code",
   "execution_count": 9,
   "id": "d6cb34e6-1a17-4dda-a7e0-922fc1fbc769",
   "metadata": {},
   "outputs": [
    {
     "name": "stdout",
     "output_type": "stream",
     "text": [
      "         ORGANIZATION_TYPE JOB_ENDDATE  CHURN\n",
      "0       Financial Services  2019-08-01      0\n",
      "1                Aerospace  2021-06-01      1\n",
      "3       Financial Services  2017-07-01      1\n",
      "4               E-commerce  2019-08-01      0\n",
      "6               E-commerce  2018-07-01      1\n",
      "...                    ...         ...    ...\n",
      "299995          Investment  2023-05-01      0\n",
      "299996          Technology  2023-05-01      0\n",
      "299997       Environmental  2023-05-01      0\n",
      "299998          Technology  2023-05-01      0\n",
      "299999       Environmental  2023-06-01      0\n",
      "\n",
      "[209924 rows x 3 columns]\n"
     ]
    }
   ],
   "source": [
    "print(dataset)"
   ]
  },
  {
   "cell_type": "code",
   "execution_count": 10,
   "id": "3f54b782-d010-44b0-81dd-16c3726259b3",
   "metadata": {},
   "outputs": [],
   "source": [
    "dataset['JOB_ENDDATE'] = pd.to_datetime(dataset['JOB_ENDDATE'],format= '%d-%m-%Y').dt.strftime('%d-%m-%Y')"
   ]
  },
  {
   "cell_type": "code",
   "execution_count": null,
   "id": "5c1740b0-47ef-4ed7-b294-c6371a41be70",
   "metadata": {},
   "outputs": [],
   "source": []
  }
 ],
 "metadata": {
  "kernelspec": {
   "display_name": "Python 3 (ipykernel)",
   "language": "python",
   "name": "python3"
  },
  "language_info": {
   "codemirror_mode": {
    "name": "ipython",
    "version": 3
   },
   "file_extension": ".py",
   "mimetype": "text/x-python",
   "name": "python",
   "nbconvert_exporter": "python",
   "pygments_lexer": "ipython3",
   "version": "3.9.19"
  }
 },
 "nbformat": 4,
 "nbformat_minor": 5
}
