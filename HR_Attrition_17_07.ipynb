{
 "cells": [
  {
   "cell_type": "code",
   "execution_count": null,
   "id": "4b9171e6",
   "metadata": {},
   "outputs": [],
   "source": [
    "!pip install --upgrade pip\n",
    "!pip install fosforml numpy pandas matplotlib scikit-learn seaborn python-dateutil\n",
    "!pip uninstall urllib3 -y\n",
    "!pip install urllib3==1.26.15\n",
    "!pip install fosforml \n",
    "!pip install fosforio\n",
    "!pip install refractio\n",
    "!pip install refractml"
   ]
  },
  {
   "cell_type": "code",
   "execution_count": null,
   "id": "fd71dec0",
   "metadata": {},
   "outputs": [],
   "source": [
    "!pip install seaborn scipy xgboost pandas dice-ml tabulate numpy scikit-learn pandas-profiling plotly matplotlib scipy statsmodels seaborn pydantic-settings"
   ]
  },
  {
   "cell_type": "code",
   "execution_count": 1,
   "id": "aae2425b",
   "metadata": {},
   "outputs": [],
   "source": [
    "import pandas as pd\n",
    "import numpy as np\n",
    "import matplotlib.pyplot as plt\n",
    "from sklearn.preprocessing import LabelEncoder, MinMaxScaler, OneHotEncoder, OrdinalEncoder\n",
    "from sklearn.model_selection import train_test_split\n",
    "from sklearn.ensemble import RandomForestClassifier\n",
    "from sklearn.metrics import accuracy_score, confusion_matrix, classification_report\n",
    "import seaborn as sns\n",
    "from scipy.stats.mstats import winsorize\n",
    "from xgboost import XGBClassifier\n",
    "from sklearn.compose import ColumnTransformer\n",
    "from sklearn.ensemble import RandomForestClassifier\n",
    "from sklearn.pipeline import Pipeline\n",
    "import joblib\n",
    "from fosforml import *\n",
    "from fosforml.constants import MLModelFlavours\n",
    "import warnings\n",
    "warnings.filterwarnings(\"ignore\", message=\"numpy.dtype size changed\")\n",
    "warnings.filterwarnings(\"ignore\", message=\"numpy.ufunc size changed\")"
   ]
  },
  {
   "cell_type": "code",
   "execution_count": 2,
   "id": "38a54005",
   "metadata": {},
   "outputs": [
    {
     "name": "stdout",
     "output_type": "stream",
     "text": [
      "Connection manager service url initialised to http://fdc-project-manager:80/project-manager\n",
      "If you need to update its value then update the variable CONNECTION_MANAGER_BASE_URL in os env.\n",
      "Exception occurred in getting snowflake connection: 'connectionSources'\n"
     ]
    }
   ],
   "source": [
    "from refractio import snowflake\n",
    "snowflake.get_connection(connection_name=\"Final hr attrition data\")"
   ]
  },
  {
   "cell_type": "code",
   "execution_count": 3,
   "id": "3bab597f",
   "metadata": {},
   "outputs": [
    {
     "data": {
      "text/html": [
       "<div>\n",
       "<style scoped>\n",
       "    .dataframe tbody tr th:only-of-type {\n",
       "        vertical-align: middle;\n",
       "    }\n",
       "\n",
       "    .dataframe tbody tr th {\n",
       "        vertical-align: top;\n",
       "    }\n",
       "\n",
       "    .dataframe thead th {\n",
       "        text-align: right;\n",
       "    }\n",
       "</style>\n",
       "<table border=\"1\" class=\"dataframe\">\n",
       "  <thead>\n",
       "    <tr style=\"text-align: right;\">\n",
       "      <th></th>\n",
       "      <th>SALARY</th>\n",
       "      <th>SENIORITY</th>\n",
       "      <th>TENURE_MONTHS</th>\n",
       "      <th>MONTHS_AFTER_COLLEGE</th>\n",
       "      <th>BIRTH_YEAR</th>\n",
       "      <th>AGE</th>\n",
       "      <th>MAPPED_ROLE_CLEAN</th>\n",
       "      <th>SEX</th>\n",
       "      <th>ETHNICITY</th>\n",
       "      <th>HOSPITAL_TYPE</th>\n",
       "      <th>...</th>\n",
       "      <th>OVER_TIME_HOURS</th>\n",
       "      <th>CHURN</th>\n",
       "      <th>BUSINESS_TRAVEL</th>\n",
       "      <th>ENVIRONMENT_SATISFACTION</th>\n",
       "      <th>JOB_SATISFACTION</th>\n",
       "      <th>MARTIAL_STATUS</th>\n",
       "      <th>PERCENTAGE_SALARY_HIKE</th>\n",
       "      <th>PERFORMANCE_RATING</th>\n",
       "      <th>RELATIONSHIP_SATISFACTION</th>\n",
       "      <th>WORK_LIFE_BALANCE</th>\n",
       "    </tr>\n",
       "  </thead>\n",
       "  <tbody>\n",
       "    <tr>\n",
       "      <th>0</th>\n",
       "      <td>31657.073</td>\n",
       "      <td>1</td>\n",
       "      <td>13</td>\n",
       "      <td>161</td>\n",
       "      <td>1986</td>\n",
       "      <td>38</td>\n",
       "      <td>occupational</td>\n",
       "      <td>F</td>\n",
       "      <td>Black</td>\n",
       "      <td>Psychiatric</td>\n",
       "      <td>...</td>\n",
       "      <td>7</td>\n",
       "      <td>True</td>\n",
       "      <td>Travel_Rarely</td>\n",
       "      <td>High</td>\n",
       "      <td>Medium</td>\n",
       "      <td>Married</td>\n",
       "      <td>18</td>\n",
       "      <td>Excellent</td>\n",
       "      <td>Medium</td>\n",
       "      <td>Better</td>\n",
       "    </tr>\n",
       "    <tr>\n",
       "      <th>1</th>\n",
       "      <td>82697.324</td>\n",
       "      <td>2</td>\n",
       "      <td>10</td>\n",
       "      <td>72</td>\n",
       "      <td>1988</td>\n",
       "      <td>36</td>\n",
       "      <td>social</td>\n",
       "      <td>M</td>\n",
       "      <td>API</td>\n",
       "      <td>Acute Care - Department of Defense</td>\n",
       "      <td>...</td>\n",
       "      <td>6</td>\n",
       "      <td>False</td>\n",
       "      <td>Travel_Rarely</td>\n",
       "      <td>High</td>\n",
       "      <td>Very High</td>\n",
       "      <td>Married</td>\n",
       "      <td>19</td>\n",
       "      <td>Excellent</td>\n",
       "      <td>Low</td>\n",
       "      <td>Good</td>\n",
       "    </tr>\n",
       "    <tr>\n",
       "      <th>2</th>\n",
       "      <td>67291.312</td>\n",
       "      <td>1</td>\n",
       "      <td>65</td>\n",
       "      <td>7</td>\n",
       "      <td>1986</td>\n",
       "      <td>38</td>\n",
       "      <td>nurse</td>\n",
       "      <td>M</td>\n",
       "      <td>Black</td>\n",
       "      <td>Acute Care - Department of Defense</td>\n",
       "      <td>...</td>\n",
       "      <td>9</td>\n",
       "      <td>False</td>\n",
       "      <td>Non-Travel</td>\n",
       "      <td>High</td>\n",
       "      <td>Low</td>\n",
       "      <td>Married</td>\n",
       "      <td>14</td>\n",
       "      <td>Excellent</td>\n",
       "      <td>Very High</td>\n",
       "      <td>Bad</td>\n",
       "    </tr>\n",
       "    <tr>\n",
       "      <th>3</th>\n",
       "      <td>41186.945</td>\n",
       "      <td>1</td>\n",
       "      <td>36</td>\n",
       "      <td>33</td>\n",
       "      <td>1988</td>\n",
       "      <td>36</td>\n",
       "      <td>technologist</td>\n",
       "      <td>F</td>\n",
       "      <td>Hispanic</td>\n",
       "      <td>Psychiatric</td>\n",
       "      <td>...</td>\n",
       "      <td>8</td>\n",
       "      <td>False</td>\n",
       "      <td>Travel_Rarely</td>\n",
       "      <td>Low</td>\n",
       "      <td>Very High</td>\n",
       "      <td>Divorced</td>\n",
       "      <td>21</td>\n",
       "      <td>Low</td>\n",
       "      <td>Medium</td>\n",
       "      <td>Bad</td>\n",
       "    </tr>\n",
       "    <tr>\n",
       "      <th>4</th>\n",
       "      <td>54826.128</td>\n",
       "      <td>2</td>\n",
       "      <td>9</td>\n",
       "      <td>23</td>\n",
       "      <td>1990</td>\n",
       "      <td>34</td>\n",
       "      <td>physician</td>\n",
       "      <td>M</td>\n",
       "      <td>Black</td>\n",
       "      <td>Childrens</td>\n",
       "      <td>...</td>\n",
       "      <td>11</td>\n",
       "      <td>True</td>\n",
       "      <td>Travel_Rarely</td>\n",
       "      <td>High</td>\n",
       "      <td>Very High</td>\n",
       "      <td>Single</td>\n",
       "      <td>16</td>\n",
       "      <td>Good</td>\n",
       "      <td>High</td>\n",
       "      <td>Better</td>\n",
       "    </tr>\n",
       "    <tr>\n",
       "      <th>...</th>\n",
       "      <td>...</td>\n",
       "      <td>...</td>\n",
       "      <td>...</td>\n",
       "      <td>...</td>\n",
       "      <td>...</td>\n",
       "      <td>...</td>\n",
       "      <td>...</td>\n",
       "      <td>...</td>\n",
       "      <td>...</td>\n",
       "      <td>...</td>\n",
       "      <td>...</td>\n",
       "      <td>...</td>\n",
       "      <td>...</td>\n",
       "      <td>...</td>\n",
       "      <td>...</td>\n",
       "      <td>...</td>\n",
       "      <td>...</td>\n",
       "      <td>...</td>\n",
       "      <td>...</td>\n",
       "      <td>...</td>\n",
       "      <td>...</td>\n",
       "    </tr>\n",
       "    <tr>\n",
       "      <th>299995</th>\n",
       "      <td>97520.177</td>\n",
       "      <td>5</td>\n",
       "      <td>45</td>\n",
       "      <td>113</td>\n",
       "      <td>1969</td>\n",
       "      <td>55</td>\n",
       "      <td>physician</td>\n",
       "      <td>M</td>\n",
       "      <td>Hispanic</td>\n",
       "      <td>Acute Care Hospitals</td>\n",
       "      <td>...</td>\n",
       "      <td>1</td>\n",
       "      <td>False</td>\n",
       "      <td>Travel_Rarely</td>\n",
       "      <td>High</td>\n",
       "      <td>High</td>\n",
       "      <td>Divorced</td>\n",
       "      <td>20</td>\n",
       "      <td>Outstanding</td>\n",
       "      <td>Low</td>\n",
       "      <td>Best</td>\n",
       "    </tr>\n",
       "    <tr>\n",
       "      <th>299996</th>\n",
       "      <td>55666.168</td>\n",
       "      <td>2</td>\n",
       "      <td>32</td>\n",
       "      <td>5</td>\n",
       "      <td>1987</td>\n",
       "      <td>37</td>\n",
       "      <td>emt</td>\n",
       "      <td>M</td>\n",
       "      <td>White</td>\n",
       "      <td>Childrens</td>\n",
       "      <td>...</td>\n",
       "      <td>9</td>\n",
       "      <td>True</td>\n",
       "      <td>Travel_Rarely</td>\n",
       "      <td>Medium</td>\n",
       "      <td>Low</td>\n",
       "      <td>Married</td>\n",
       "      <td>23</td>\n",
       "      <td>Low</td>\n",
       "      <td>Very High</td>\n",
       "      <td>Best</td>\n",
       "    </tr>\n",
       "    <tr>\n",
       "      <th>299997</th>\n",
       "      <td>49866.716</td>\n",
       "      <td>2</td>\n",
       "      <td>34</td>\n",
       "      <td>4</td>\n",
       "      <td>1986</td>\n",
       "      <td>38</td>\n",
       "      <td>physician</td>\n",
       "      <td>F</td>\n",
       "      <td>White</td>\n",
       "      <td>Childrens</td>\n",
       "      <td>...</td>\n",
       "      <td>0</td>\n",
       "      <td>True</td>\n",
       "      <td>Travel_Rarely</td>\n",
       "      <td>Medium</td>\n",
       "      <td>Medium</td>\n",
       "      <td>Single</td>\n",
       "      <td>14</td>\n",
       "      <td>Excellent</td>\n",
       "      <td>Medium</td>\n",
       "      <td>Bad</td>\n",
       "    </tr>\n",
       "    <tr>\n",
       "      <th>299998</th>\n",
       "      <td>77706.113</td>\n",
       "      <td>2</td>\n",
       "      <td>6</td>\n",
       "      <td>26</td>\n",
       "      <td>1996</td>\n",
       "      <td>28</td>\n",
       "      <td>physician</td>\n",
       "      <td>F</td>\n",
       "      <td>API</td>\n",
       "      <td>Childrens</td>\n",
       "      <td>...</td>\n",
       "      <td>1</td>\n",
       "      <td>False</td>\n",
       "      <td>Travel_Rarely</td>\n",
       "      <td>High</td>\n",
       "      <td>High</td>\n",
       "      <td>Single</td>\n",
       "      <td>11</td>\n",
       "      <td>Good</td>\n",
       "      <td>Very High</td>\n",
       "      <td>Good</td>\n",
       "    </tr>\n",
       "    <tr>\n",
       "      <th>299999</th>\n",
       "      <td>34940.150</td>\n",
       "      <td>1</td>\n",
       "      <td>24</td>\n",
       "      <td>5</td>\n",
       "      <td>1984</td>\n",
       "      <td>40</td>\n",
       "      <td>emt</td>\n",
       "      <td>F</td>\n",
       "      <td>Black</td>\n",
       "      <td>Acute Care Hospitals</td>\n",
       "      <td>...</td>\n",
       "      <td>1</td>\n",
       "      <td>False</td>\n",
       "      <td>Non-Travel</td>\n",
       "      <td>Medium</td>\n",
       "      <td>Very High</td>\n",
       "      <td>Single</td>\n",
       "      <td>12</td>\n",
       "      <td>Outstanding</td>\n",
       "      <td>Low</td>\n",
       "      <td>Best</td>\n",
       "    </tr>\n",
       "  </tbody>\n",
       "</table>\n",
       "<p>300000 rows × 30 columns</p>\n",
       "</div>"
      ],
      "text/plain": [
       "           SALARY  SENIORITY  TENURE_MONTHS  MONTHS_AFTER_COLLEGE  BIRTH_YEAR  \\\n",
       "0       31657.073          1             13                   161        1986   \n",
       "1       82697.324          2             10                    72        1988   \n",
       "2       67291.312          1             65                     7        1986   \n",
       "3       41186.945          1             36                    33        1988   \n",
       "4       54826.128          2              9                    23        1990   \n",
       "...           ...        ...            ...                   ...         ...   \n",
       "299995  97520.177          5             45                   113        1969   \n",
       "299996  55666.168          2             32                     5        1987   \n",
       "299997  49866.716          2             34                     4        1986   \n",
       "299998  77706.113          2              6                    26        1996   \n",
       "299999  34940.150          1             24                     5        1984   \n",
       "\n",
       "        AGE MAPPED_ROLE_CLEAN SEX ETHNICITY  \\\n",
       "0        38      occupational   F     Black   \n",
       "1        36            social   M       API   \n",
       "2        38             nurse   M     Black   \n",
       "3        36      technologist   F  Hispanic   \n",
       "4        34         physician   M     Black   \n",
       "...     ...               ...  ..       ...   \n",
       "299995   55         physician   M  Hispanic   \n",
       "299996   37               emt   M     White   \n",
       "299997   38         physician   F     White   \n",
       "299998   28         physician   F       API   \n",
       "299999   40               emt   F     Black   \n",
       "\n",
       "                             HOSPITAL_TYPE  ... OVER_TIME_HOURS  CHURN  \\\n",
       "0                              Psychiatric  ...               7   True   \n",
       "1       Acute Care - Department of Defense  ...               6  False   \n",
       "2       Acute Care - Department of Defense  ...               9  False   \n",
       "3                              Psychiatric  ...               8  False   \n",
       "4                                Childrens  ...              11   True   \n",
       "...                                    ...  ...             ...    ...   \n",
       "299995                Acute Care Hospitals  ...               1  False   \n",
       "299996                           Childrens  ...               9   True   \n",
       "299997                           Childrens  ...               0   True   \n",
       "299998                           Childrens  ...               1  False   \n",
       "299999                Acute Care Hospitals  ...               1  False   \n",
       "\n",
       "       BUSINESS_TRAVEL ENVIRONMENT_SATISFACTION JOB_SATISFACTION  \\\n",
       "0        Travel_Rarely                     High           Medium   \n",
       "1        Travel_Rarely                     High        Very High   \n",
       "2           Non-Travel                     High              Low   \n",
       "3        Travel_Rarely                      Low        Very High   \n",
       "4        Travel_Rarely                     High        Very High   \n",
       "...                ...                      ...              ...   \n",
       "299995   Travel_Rarely                     High             High   \n",
       "299996   Travel_Rarely                   Medium              Low   \n",
       "299997   Travel_Rarely                   Medium           Medium   \n",
       "299998   Travel_Rarely                     High             High   \n",
       "299999      Non-Travel                   Medium        Very High   \n",
       "\n",
       "       MARTIAL_STATUS PERCENTAGE_SALARY_HIKE PERFORMANCE_RATING  \\\n",
       "0             Married                     18          Excellent   \n",
       "1             Married                     19          Excellent   \n",
       "2             Married                     14          Excellent   \n",
       "3            Divorced                     21                Low   \n",
       "4              Single                     16               Good   \n",
       "...               ...                    ...                ...   \n",
       "299995       Divorced                     20        Outstanding   \n",
       "299996        Married                     23                Low   \n",
       "299997         Single                     14          Excellent   \n",
       "299998         Single                     11               Good   \n",
       "299999         Single                     12        Outstanding   \n",
       "\n",
       "       RELATIONSHIP_SATISFACTION  WORK_LIFE_BALANCE  \n",
       "0                         Medium             Better  \n",
       "1                            Low               Good  \n",
       "2                      Very High                Bad  \n",
       "3                         Medium                Bad  \n",
       "4                           High             Better  \n",
       "...                          ...                ...  \n",
       "299995                       Low               Best  \n",
       "299996                 Very High               Best  \n",
       "299997                    Medium                Bad  \n",
       "299998                 Very High               Good  \n",
       "299999                       Low               Best  \n",
       "\n",
       "[300000 rows x 30 columns]"
      ]
     },
     "execution_count": 3,
     "metadata": {},
     "output_type": "execute_result"
    }
   ],
   "source": [
    "df = snowflake.get_dataframe(\"Final_HR_Attrition_Data\")\n",
    "df"
   ]
  },
  {
   "cell_type": "code",
   "execution_count": 4,
   "id": "ce575fcc",
   "metadata": {},
   "outputs": [
    {
     "name": "stdout",
     "output_type": "stream",
     "text": [
      "SALARY                           0\n",
      "SENIORITY                        0\n",
      "TENURE_MONTHS                    0\n",
      "MONTHS_AFTER_COLLEGE             0\n",
      "BIRTH_YEAR                       0\n",
      "AGE                              0\n",
      "MAPPED_ROLE_CLEAN                0\n",
      "SEX                              0\n",
      "ETHNICITY                        0\n",
      "HOSPITAL_TYPE                    0\n",
      "HOSPITAL_OWNERSHIP               0\n",
      "COMPANY_NAME                     0\n",
      "CITY                             0\n",
      "STATE                            0\n",
      "DISTANCE                         0\n",
      "DEGREE_CLEAN                     0\n",
      "SCHOOL_END_DATE                  0\n",
      "JOB_START_DATE                   0\n",
      "JOB_END_DATE                 90102\n",
      "USER_ID                          0\n",
      "OVER_TIME_HOURS                  0\n",
      "CHURN                            0\n",
      "BUSINESS_TRAVEL                  0\n",
      "ENVIRONMENT_SATISFACTION         0\n",
      "JOB_SATISFACTION                 0\n",
      "MARTIAL_STATUS                   0\n",
      "PERCENTAGE_SALARY_HIKE           0\n",
      "PERFORMANCE_RATING               0\n",
      "RELATIONSHIP_SATISFACTION        0\n",
      "WORK_LIFE_BALANCE                0\n",
      "dtype: int64\n"
     ]
    }
   ],
   "source": [
    "print(df.isnull().sum())"
   ]
  },
  {
   "cell_type": "code",
   "execution_count": 5,
   "id": "b2196984",
   "metadata": {},
   "outputs": [],
   "source": [
    "df = df.dropna()"
   ]
  },
  {
   "cell_type": "code",
   "execution_count": 6,
   "id": "58b59b63",
   "metadata": {},
   "outputs": [
    {
     "name": "stdout",
     "output_type": "stream",
     "text": [
      "SALARY                       0\n",
      "SENIORITY                    0\n",
      "TENURE_MONTHS                0\n",
      "MONTHS_AFTER_COLLEGE         0\n",
      "BIRTH_YEAR                   0\n",
      "AGE                          0\n",
      "MAPPED_ROLE_CLEAN            0\n",
      "SEX                          0\n",
      "ETHNICITY                    0\n",
      "HOSPITAL_TYPE                0\n",
      "HOSPITAL_OWNERSHIP           0\n",
      "COMPANY_NAME                 0\n",
      "CITY                         0\n",
      "STATE                        0\n",
      "DISTANCE                     0\n",
      "DEGREE_CLEAN                 0\n",
      "SCHOOL_END_DATE              0\n",
      "JOB_START_DATE               0\n",
      "JOB_END_DATE                 0\n",
      "USER_ID                      0\n",
      "OVER_TIME_HOURS              0\n",
      "CHURN                        0\n",
      "BUSINESS_TRAVEL              0\n",
      "ENVIRONMENT_SATISFACTION     0\n",
      "JOB_SATISFACTION             0\n",
      "MARTIAL_STATUS               0\n",
      "PERCENTAGE_SALARY_HIKE       0\n",
      "PERFORMANCE_RATING           0\n",
      "RELATIONSHIP_SATISFACTION    0\n",
      "WORK_LIFE_BALANCE            0\n",
      "dtype: int64\n"
     ]
    }
   ],
   "source": [
    "print(df.isnull().sum())"
   ]
  },
  {
   "cell_type": "code",
   "execution_count": 7,
   "id": "e6a3d13d",
   "metadata": {},
   "outputs": [],
   "source": [
    "df = df.drop([\"USER_ID\", \"JOB_START_DATE\", \"JOB_END_DATE\", \"SCHOOL_END_DATE\"], axis = 1)"
   ]
  },
  {
   "cell_type": "code",
   "execution_count": 8,
   "id": "70758be2",
   "metadata": {},
   "outputs": [],
   "source": [
    "CATEGORICAL_COLUMNS = [\"MAPPED_ROLE_CLEAN\",\"SEX\", \"ETHNICITY\",\"HOSPITAL_TYPE\", \"HOSPITAL_OWNERSHIP\",\"COMPANY_NAME\",\"CITY\",\"STATE\",\"DISTANCE\", \n",
    "                       \"DEGREE_CLEAN\",\"BUSINESS_TRAVEL\",\"ENVIRONMENT_SATISFACTION\",\"JOB_SATISFACTION\",\"MARTIAL_STATUS\",\"PERFORMANCE_RATING\",\"RELATIONSHIP_SATISFACTION\",\"WORK_LIFE_BALANCE\"]\n",
    "NUMERICAL_COLUMNS = [\"SALARY\", \"SENIORITY\", \"TENURE_MONTHS\", \"MONTHS_AFTER_COLLEGE\", \"BIRTH_YEAR\",\"AGE\", \"OVER_TIME_HOURS\", \"PERCENTAGE_SALARY_HIKE\",]\n",
    "LABEL_COLUMNS = [\"CHURN\"]\n",
    "OUTPUT_COLUMNS = [\"PREDICTION\"]"
   ]
  },
  {
   "cell_type": "code",
   "execution_count": 9,
   "id": "ee84751f",
   "metadata": {},
   "outputs": [],
   "source": [
    "# Filter feature columns\n",
    "feature_columns = CATEGORICAL_COLUMNS + NUMERICAL_COLUMNS\n",
    "feature_columns = [col for col in feature_columns if col in df.columns]\n",
    "LABEL_COLUMNS = [col for col in LABEL_COLUMNS if col in df.columns]\n",
    " \n",
    "# Split data into features and labels\n",
    "X = df[feature_columns]\n",
    "y = df[LABEL_COLUMNS].values.ravel()  # Flatten to 1D array for consistency"
   ]
  },
  {
   "cell_type": "code",
   "execution_count": 10,
   "id": "403356ca",
   "metadata": {},
   "outputs": [],
   "source": [
    "from sklearn.model_selection import train_test_split"
   ]
  },
  {
   "cell_type": "code",
   "execution_count": 11,
   "id": "ebbe4255",
   "metadata": {},
   "outputs": [],
   "source": [
    "X_train, X_test, y_train, y_test = train_test_split(X, y, test_size=0.20, random_state=42)"
   ]
  },
  {
   "cell_type": "code",
   "execution_count": 13,
   "id": "45ce2383",
   "metadata": {},
   "outputs": [],
   "source": [
    "from sklearn.pipeline import Pipeline\n",
    "from sklearn.preprocessing import OrdinalEncoder, MinMaxScaler\n",
    "from xgboost import XGBClassifier\n",
    "from sklearn.compose import ColumnTransformer\n",
    "from sklearn.impute import SimpleImputer\n",
    "from sklearn.pipeline import make_pipeline\n",
    " \n",
    "# Define transformers\n",
    "categorical_transformer = make_pipeline(\n",
    "    SimpleImputer(strategy='constant', fill_value='missing'),\n",
    "    OrdinalEncoder(handle_unknown='use_encoded_value', unknown_value=-1)\n",
    ")\n",
    " \n",
    "numerical_transformer = make_pipeline(\n",
    "    SimpleImputer(strategy='mean'),\n",
    "    MinMaxScaler(clip=True)\n",
    ")\n",
    " \n",
    "# Create preprocessor\n",
    "preprocessor = ColumnTransformer(\n",
    "    transformers=[\n",
    "        ('cat', categorical_transformer, CATEGORICAL_COLUMNS),\n",
    "        ('num', numerical_transformer, NUMERICAL_COLUMNS)\n",
    "    ]\n",
    ")\n",
    " \n",
    "# Create pipeline\n",
    "pipeline = Pipeline(steps=[\n",
    "    ('preprocessor', preprocessor),\n",
    "    ('classifier', XGBClassifier())\n",
    "])"
   ]
  },
  {
   "cell_type": "code",
   "execution_count": 15,
   "id": "051f8d31",
   "metadata": {},
   "outputs": [],
   "source": [
    "pipeline.fit(X_train, y_train)\n",
    "\n",
    "result = pipeline.predict(X_test)"
   ]
  },
  {
   "cell_type": "code",
   "execution_count": 16,
   "id": "3d944a70",
   "metadata": {},
   "outputs": [
    {
     "data": {
      "text/plain": [
       "array([0, 1, 1, ..., 1, 1, 1])"
      ]
     },
     "execution_count": 16,
     "metadata": {},
     "output_type": "execute_result"
    }
   ],
   "source": [
    "result"
   ]
  },
  {
   "cell_type": "code",
   "execution_count": 17,
   "id": "9d7e68aa",
   "metadata": {},
   "outputs": [
    {
     "data": {
      "text/plain": [
       "['HR_Attrition_ml_model_Analysis.joblib']"
      ]
     },
     "execution_count": 17,
     "metadata": {},
     "output_type": "execute_result"
    }
   ],
   "source": [
    "from joblib import dump, load\n",
    "filename = \"HR_Attrition_ml_model_Analysis.joblib\"\n",
    "dump(pipeline, filename)"
   ]
  },
  {
   "cell_type": "code",
   "execution_count": 18,
   "id": "831b0100",
   "metadata": {},
   "outputs": [],
   "source": [
    "y_pred = pipeline.predict(X_test)\n",
    "y_prob = pipeline.predict_proba(X_test)"
   ]
  },
  {
   "cell_type": "code",
   "execution_count": 19,
   "id": "6e39eedb",
   "metadata": {},
   "outputs": [
    {
     "name": "stderr",
     "output_type": "stream",
     "text": [
      "/tmp/pip_packages/_distutils_hack/__init__.py:32: UserWarning: Setuptools is replacing distutils. Support for replacing an already imported distutils is deprecated. In the future, this condition will fail. Register concerns at https://github.com/pypa/setuptools/issues/new?template=distutils-deprecation.yml\n",
      "  warnings.warn(\n"
     ]
    }
   ],
   "source": [
    "from refractml import *\n",
    "\n",
    "from refractml.constants import MLModelFlavours"
   ]
  },
  {
   "cell_type": "code",
   "execution_count": 20,
   "id": "924a4526",
   "metadata": {},
   "outputs": [],
   "source": [
    "@scoring_func\n",
    "def score(model, request):\n",
    "    payload_dict = request.json[\"payload\"]\n",
    "    data_json = eval(payload)\n",
    "    data = pd.DataFrame([data_json])\n",
    "    prediction = str(model.predict(data)[0])\n",
    "    return prediction"
   ]
  },
  {
   "cell_type": "code",
   "execution_count": 21,
   "id": "3e6843ca",
   "metadata": {},
   "outputs": [
    {
     "name": "stdout",
     "output_type": "stream",
     "text": [
      "1\n"
     ]
    }
   ],
   "source": [
    "import requests\n",
    "payload = str(X_test.iloc[123].to_dict())\n",
    "req = requests.Request()\n",
    "req.json = {\"payload\": payload}\n",
    "\n",
    "print(score(pipeline, req))"
   ]
  },
  {
   "cell_type": "code",
   "execution_count": 22,
   "id": "f3a1b629",
   "metadata": {},
   "outputs": [
    {
     "data": {
      "text/plain": [
       "{'payload': \"{'MAPPED_ROLE_CLEAN': 'occupational', 'SEX': 'M', 'ETHNICITY': 'White', 'HOSPITAL_TYPE': 'Childrens', 'HOSPITAL_OWNERSHIP': 'Physician', 'COMPANY_NAME': 'Johnson & Johnson', 'CITY': 'Morgantown', 'STATE': 'WV', 'DISTANCE': '>10 Miles', 'DEGREE_CLEAN': 'Masters Degree', 'BUSINESS_TRAVEL': 'Travel_Rarely', 'ENVIRONMENT_SATISFACTION': 'Low', 'JOB_SATISFACTION': 'Low', 'MARTIAL_STATUS': 'Divorced', 'PERFORMANCE_RATING': 'Excellent', 'RELATIONSHIP_SATISFACTION': 'Medium', 'WORK_LIFE_BALANCE': 'Better', 'SALARY': 63456.001, 'SENIORITY': 3, 'TENURE_MONTHS': 14, 'MONTHS_AFTER_COLLEGE': 51, 'BIRTH_YEAR': 1989, 'AGE': 35, 'OVER_TIME_HOURS': 3, 'PERCENTAGE_SALARY_HIKE': 19}\"}"
      ]
     },
     "execution_count": 22,
     "metadata": {},
     "output_type": "execute_result"
    }
   ],
   "source": [
    "req.json"
   ]
  },
  {
   "cell_type": "code",
   "execution_count": 25,
   "id": "3c8c6207",
   "metadata": {},
   "outputs": [
    {
     "name": "stdout",
     "output_type": "stream",
     "text": [
      "Calculating build time metrics\n",
      "\n",
      "Progress: ██████████████████████████████████████████████████████████████████████ 100.0%\n"
     ]
    },
    {
     "data": {
      "application/vnd.jupyter.widget-view+json": {
       "model_id": "67d1bbdc12624cfcaee02a1063ff9a8f",
       "version_major": 2,
       "version_minor": 0
      },
      "text/plain": [
       "VBox(children=(HTML(value='<style>.grad_1{background: #2468a4;} .grad_2{ color:white; background: #2468a4;}</s…"
      ]
     },
     "metadata": {},
     "output_type": "display_data"
    }
   ],
   "source": [
    "## registering the model in refract.\n",
    "tmp = register_model(pipeline, \n",
    "               score, \n",
    "               name=\"HR_Attrition_ml_model\", \n",
    "               description=\"Final_HR_Attrition_model_trained_using _ml\",\n",
    "               flavour=MLModelFlavours.sklearn,\n",
    "               model_type=\"classification\",\n",
    "               init_script=\"\\\\n pip install fosforml \\\\n pip install seaborn \\\\n pip install snowflake-connector-python[pandas] \\\\n pip install joblib==1.3.2 scikit-learn=1.3.2\",\n",
    "               y_true=y_test,\n",
    "               y_pred=y_pred, \n",
    "               features=X_train.columns,\n",
    "               labels=[0,1],\n",
    "               input_type=\"json\", \n",
    "               explain_ai=True,\n",
    "               prob=y_prob,\n",
    "               x_train=X_train, \n",
    "               x_test=X_test, \n",
    "               y_train=y_train,\n",
    "               y_test=y_test,\n",
    "               feature_names=X_train.columns.tolist(),\n",
    "               original_features=X_train.columns.tolist(),\n",
    "               feature_ids=X_train.columns,\n",
    "               target_names=['NOT LEFT','LEFT'],\n",
    "               kyd=True, kyd_score = True)\n"
   ]
  },
  {
   "cell_type": "code",
   "execution_count": 26,
   "id": "435026b0",
   "metadata": {},
   "outputs": [
    {
     "data": {
      "text/plain": [
       "{'payload': {'MAPPED_ROLE_CLEAN': 'occupational',\n",
       "  'SEX': 'M',\n",
       "  'ETHNICITY': 'API',\n",
       "  'HOSPITAL_TYPE': 'Acute Care - Department of Defense',\n",
       "  'HOSPITAL_OWNERSHIP': 'Voluntary non-profit - Other',\n",
       "  'COMPANY_NAME': 'Encompass Health Corp.',\n",
       "  'CITY': 'Texarkana',\n",
       "  'STATE': 'TX',\n",
       "  'DISTANCE': '5-10 Miles',\n",
       "  'DEGREE_CLEAN': 'Associates Degree',\n",
       "  'BUSINESS_TRAVEL': 'Travel_Rarely',\n",
       "  'ENVIRONMENT_SATISFACTION': 'Very High',\n",
       "  'JOB_SATISFACTION': 'High',\n",
       "  'MARTIAL_STATUS': 'Married',\n",
       "  'PERFORMANCE_RATING': 'Low',\n",
       "  'RELATIONSHIP_SATISFACTION': 'High',\n",
       "  'WORK_LIFE_BALANCE': 'Bad',\n",
       "  'SALARY': 50805.547,\n",
       "  'SENIORITY': 2,\n",
       "  'TENURE_MONTHS': 26,\n",
       "  'MONTHS_AFTER_COLLEGE': 105,\n",
       "  'BIRTH_YEAR': 1981,\n",
       "  'AGE': 43,\n",
       "  'OVER_TIME_HOURS': 3,\n",
       "  'PERCENTAGE_SALARY_HIKE': 21}}"
      ]
     },
     "execution_count": 26,
     "metadata": {},
     "output_type": "execute_result"
    }
   ],
   "source": [
    "payload  = {\"payload\": X_test.iloc[0].to_dict()}\n",
    "payload"
   ]
  },
  {
   "cell_type": "code",
   "execution_count": 29,
   "id": "bbd3aff3",
   "metadata": {},
   "outputs": [
    {
     "data": {
      "text/plain": [
       "{'data': '1', 'request_id': '601a40aa-718e-4d67-8e28-6cea05b34ded'}"
      ]
     },
     "execution_count": 29,
     "metadata": {},
     "output_type": "execute_result"
    }
   ],
   "source": [
    "headers={\"Content-type\":\"application/json\"}\n",
    "url = \"http://svc-4053cae7-6cef-4af9-8bb9-dbee8dec31c3:5001/hrattritionmlmodel/576dde3f-edb7-42d6-9913-b61743e4ee2a/score\"\n",
    "data={\"payload\": payload}\n",
    "response = requests.post(url, json=data, headers=headers) \n",
    "response.json()"
   ]
  },
  {
   "cell_type": "code",
   "execution_count": 30,
   "id": "d44091aa",
   "metadata": {},
   "outputs": [],
   "source": [
    "result = pipeline.predict(X_test)\n",
    "result_prob = pipeline.predict_proba(X_test)\n",
    "pred_df = X_test.copy()\n",
    "result = result\n",
    "result_prob = result_prob\n",
    "pred_df[\"PREDICTION\"] = result\n",
    "pred_df[\"PROB\"] = result_prob[:, 1]"
   ]
  },
  {
   "cell_type": "code",
   "execution_count": 31,
   "id": "c0d9ddae",
   "metadata": {},
   "outputs": [
    {
     "name": "stdout",
     "output_type": "stream",
     "text": [
      "Length of y_test: 41980\n",
      "Length of y_pred: 41980\n",
      "              precision    recall  f1-score   support\n",
      "\n",
      "       False       0.51      0.50      0.50     21205\n",
      "        True       0.50      0.50      0.50     20775\n",
      "\n",
      "    accuracy                           0.50     41980\n",
      "   macro avg       0.50      0.50      0.50     41980\n",
      "weighted avg       0.50      0.50      0.50     41980\n",
      "\n",
      "Accuracy: 0.5002382086707956\n",
      "Log Loss: 0.7003753569904368\n",
      "ROC AUC Score: 0.5026587989402631\n"
     ]
    }
   ],
   "source": [
    "from sklearn.metrics import classification_report, log_loss, roc_auc_score\n",
    " \n",
    "# Check lengths\n",
    "print(\"Length of y_test:\", len(y_test))\n",
    "print(\"Length of y_pred:\", len(y_pred))\n",
    " \n",
    "# Print classification report\n",
    "print(classification_report(y_test, y_pred))\n",
    " \n",
    "# Calculate accuracy\n",
    "accuracy = sum(y_test == y_pred) / len(y_test)\n",
    "print(\"Accuracy:\", accuracy)\n",
    " \n",
    "# Calculate additional metrics\n",
    "log_loss_value = log_loss(y_test, y_prob)\n",
    "roc_auc = roc_auc_score(y_test, y_prob[:, 1])  # Assuming class 1 is the positive class\n",
    " \n",
    "print(\"Log Loss:\", log_loss_value)\n",
    "print(\"ROC AUC Score:\", roc_auc)"
   ]
  },
  {
   "cell_type": "code",
   "execution_count": null,
   "id": "8381b22c",
   "metadata": {},
   "outputs": [],
   "source": [
    "from sklearn.model_selection import GridSearchCV\n",
    "from sklearn.metrics import classification_report, log_loss, roc_auc_score\n",
    " \n",
    "# Hyperparameter tuning\n",
    "param_grid = {\n",
    "    'classifier__n_estimators': [100, 200, 300],\n",
    "    'classifier__max_depth': [3, 5, 7],\n",
    "    'classifier__learning_rate': [0.01, 0.1, 0.2]\n",
    "}\n",
    " \n",
    "grid_search = GridSearchCV(pipeline, param_grid, cv=5, scoring='roc_auc')\n",
    "grid_search.fit(X_train, y_train)\n",
    " \n",
    "best_pipeline = grid_search.best_estimator_\n",
    " \n",
    "# Evaluate tuned model\n",
    "y_pred = best_pipeline.predict(X_test)\n",
    "y_prob = best_pipeline.predict_proba(X_test)\n",
    " \n",
    "print(classification_report(y_test, y_pred))\n",
    " \n",
    "accuracy = sum(y_test == y_pred) / len(y_test)\n",
    "print(\"Accuracy:\", accuracy)\n",
    " \n",
    "log_loss_value = log_loss(y_test, y_prob)\n",
    "roc_auc = roc_auc_score(y_test, y_prob[:, 1])\n",
    " \n",
    "print(\"Log Loss:\", log_loss_value)\n",
    "print(\"ROC AUC Score:\", roc_auc)"
   ]
  },
  {
   "cell_type": "code",
   "execution_count": 32,
   "id": "61740fda",
   "metadata": {},
   "outputs": [
    {
     "data": {
      "text/plain": [
       "0.7003753569904368"
      ]
     },
     "execution_count": 32,
     "metadata": {},
     "output_type": "execute_result"
    }
   ],
   "source": [
    "log_loss(y_test,pred_df[\"PROB\"] )"
   ]
  },
  {
   "cell_type": "code",
   "execution_count": 33,
   "id": "f05cfbcd",
   "metadata": {},
   "outputs": [
    {
     "data": {
      "image/png": "[encoded data removed]",
      "text/plain": [
       "<Figure size 432x288 with 1 Axes>"
      ]
     },
     "metadata": {
      "needs_background": "light"
     },
     "output_type": "display_data"
    }
   ],
   "source": [
    "from sklearn.metrics import roc_curve, precision_recall_curve, confusion_matrix\n",
    "from sklearn.metrics import roc_auc_score\n",
    "from matplotlib import pyplot as plt\n",
    "import seaborn as sns\n",
    "ns_probs = [0 for _ in range(len(y_test))]\n",
    "ns_auc = roc_auc_score(y_test, ns_probs)\n",
    "lr_auc = roc_auc_score(y_test, pred_df[\"PROB\"])\n",
    "ns_fpr, ns_tpr, _ = roc_curve(y_test, ns_probs)\n",
    "lr_fpr, lr_tpr, _ = roc_curve(y_test, pred_df[\"PROB\"])\n",
    "# plot the roc curve for the model\n",
    "plt.plot(ns_fpr, ns_tpr, linestyle='--', label='No Skill')\n",
    "plt.plot(lr_fpr, lr_tpr, marker='.', label='Radnomforest')\n",
    "# axis labels\n",
    "plt.xlabel('False Positive Rate')\n",
    "plt.ylabel('True Positive Rate')\n",
    "# show the legend\n",
    "plt.legend()\n",
    "# show the plot\n",
    "plt.show()"
   ]
  },
  {
   "cell_type": "code",
   "execution_count": 34,
   "id": "d5790c1a",
   "metadata": {},
   "outputs": [
    {
     "data": {
      "image/png": "[encoded data removed]",
      "text/plain": [
       "<Figure size 432x288 with 1 Axes>"
      ]
     },
     "metadata": {
      "needs_background": "light"
     },
     "output_type": "display_data"
    }
   ],
   "source": [
    "lr_precision, lr_recall, _ = precision_recall_curve(y_test, pred_df[\"PROB\"])\n",
    "plt.plot(lr_recall, lr_precision, marker='.', label='Randomforest')\n",
    "# axis labels\n",
    "plt.xlabel('Recall')\n",
    "plt.ylabel('Precision')\n",
    "# show the legend\n",
    "plt.legend()\n",
    "# show the plot\n",
    "plt.show()"
   ]
  },
  {
   "cell_type": "code",
   "execution_count": 35,
   "id": "92ec613a",
   "metadata": {},
   "outputs": [
    {
     "data": {
      "image/png": "[encoded data removed]",
      "text/plain": [
       "<Figure size 432x288 with 2 Axes>"
      ]
     },
     "metadata": {
      "needs_background": "light"
     },
     "output_type": "display_data"
    }
   ],
   "source": [
    "cm = confusion_matrix(y_test,y_pred)\n",
    " \n",
    "#Plot the confusion matrix.\n",
    "sns.heatmap(cm,\n",
    "            annot=True,\n",
    "            fmt='g',\n",
    "            xticklabels=['Not Churn','Churn'],\n",
    "            yticklabels=['Not CHurn','Churn'])\n",
    "plt.ylabel('Prediction',fontsize=13)\n",
    "plt.xlabel('Actual',fontsize=13)\n",
    "plt.title('Confusion Matrix',fontsize=17)\n",
    "plt.show()"
   ]
  },
  {
   "cell_type": "code",
   "execution_count": 36,
   "id": "cb071c39",
   "metadata": {},
   "outputs": [],
   "source": [
    "scores_data = pd.DataFrame({\"ns_probs\":ns_probs,\n",
    "                            \"y_test\":y_test,\n",
    "                            \"y_pred\":pred_df[\"PREDICTION\"],\n",
    "                            \"act_probs\":pred_df[\"PROB\"]})"
   ]
  },
  {
   "cell_type": "code",
   "execution_count": 37,
   "id": "2608ce39",
   "metadata": {},
   "outputs": [
    {
     "data": {
      "text/html": [
       "<div>\n",
       "<style scoped>\n",
       "    .dataframe tbody tr th:only-of-type {\n",
       "        vertical-align: middle;\n",
       "    }\n",
       "\n",
       "    .dataframe tbody tr th {\n",
       "        vertical-align: top;\n",
       "    }\n",
       "\n",
       "    .dataframe thead th {\n",
       "        text-align: right;\n",
       "    }\n",
       "</style>\n",
       "<table border=\"1\" class=\"dataframe\">\n",
       "  <thead>\n",
       "    <tr style=\"text-align: right;\">\n",
       "      <th></th>\n",
       "      <th>ns_probs</th>\n",
       "      <th>y_test</th>\n",
       "      <th>y_pred</th>\n",
       "      <th>act_probs</th>\n",
       "    </tr>\n",
       "  </thead>\n",
       "  <tbody>\n",
       "    <tr>\n",
       "      <th>85051</th>\n",
       "      <td>0</td>\n",
       "      <td>False</td>\n",
       "      <td>0</td>\n",
       "      <td>0.485079</td>\n",
       "    </tr>\n",
       "    <tr>\n",
       "      <th>20907</th>\n",
       "      <td>0</td>\n",
       "      <td>True</td>\n",
       "      <td>1</td>\n",
       "      <td>0.579075</td>\n",
       "    </tr>\n",
       "    <tr>\n",
       "      <th>129259</th>\n",
       "      <td>0</td>\n",
       "      <td>True</td>\n",
       "      <td>1</td>\n",
       "      <td>0.579828</td>\n",
       "    </tr>\n",
       "    <tr>\n",
       "      <th>137849</th>\n",
       "      <td>0</td>\n",
       "      <td>True</td>\n",
       "      <td>0</td>\n",
       "      <td>0.486532</td>\n",
       "    </tr>\n",
       "    <tr>\n",
       "      <th>107412</th>\n",
       "      <td>0</td>\n",
       "      <td>False</td>\n",
       "      <td>0</td>\n",
       "      <td>0.320745</td>\n",
       "    </tr>\n",
       "    <tr>\n",
       "      <th>...</th>\n",
       "      <td>...</td>\n",
       "      <td>...</td>\n",
       "      <td>...</td>\n",
       "      <td>...</td>\n",
       "    </tr>\n",
       "    <tr>\n",
       "      <th>123870</th>\n",
       "      <td>0</td>\n",
       "      <td>True</td>\n",
       "      <td>1</td>\n",
       "      <td>0.546528</td>\n",
       "    </tr>\n",
       "    <tr>\n",
       "      <th>120207</th>\n",
       "      <td>0</td>\n",
       "      <td>True</td>\n",
       "      <td>0</td>\n",
       "      <td>0.498057</td>\n",
       "    </tr>\n",
       "    <tr>\n",
       "      <th>99479</th>\n",
       "      <td>0</td>\n",
       "      <td>False</td>\n",
       "      <td>1</td>\n",
       "      <td>0.510342</td>\n",
       "    </tr>\n",
       "    <tr>\n",
       "      <th>263304</th>\n",
       "      <td>0</td>\n",
       "      <td>False</td>\n",
       "      <td>1</td>\n",
       "      <td>0.645208</td>\n",
       "    </tr>\n",
       "    <tr>\n",
       "      <th>14134</th>\n",
       "      <td>0</td>\n",
       "      <td>False</td>\n",
       "      <td>1</td>\n",
       "      <td>0.562585</td>\n",
       "    </tr>\n",
       "  </tbody>\n",
       "</table>\n",
       "<p>41980 rows × 4 columns</p>\n",
       "</div>"
      ],
      "text/plain": [
       "        ns_probs  y_test  y_pred  act_probs\n",
       "85051          0   False       0   0.485079\n",
       "20907          0    True       1   0.579075\n",
       "129259         0    True       1   0.579828\n",
       "137849         0    True       0   0.486532\n",
       "107412         0   False       0   0.320745\n",
       "...          ...     ...     ...        ...\n",
       "123870         0    True       1   0.546528\n",
       "120207         0    True       0   0.498057\n",
       "99479          0   False       1   0.510342\n",
       "263304         0   False       1   0.645208\n",
       "14134          0   False       1   0.562585\n",
       "\n",
       "[41980 rows x 4 columns]"
      ]
     },
     "execution_count": 37,
     "metadata": {},
     "output_type": "execute_result"
    }
   ],
   "source": [
    "scores_data"
   ]
  },
  {
   "cell_type": "code",
   "execution_count": null,
   "id": "ddaff474",
   "metadata": {},
   "outputs": [],
   "source": []
  }
 ],
 "metadata": {
  "kernelspec": {
   "display_name": "Python 3",
   "language": "python",
   "name": "python3"
  },
  "language_info": {
   "codemirror_mode": {
    "name": "ipython",
    "version": 3
   },
   "file_extension": ".py",
   "mimetype": "text/x-python",
   "name": "python",
   "nbconvert_exporter": "python",
   "pygments_lexer": "ipython3",
   "version": "3.9.18"
  }
 },
 "nbformat": 4,
 "nbformat_minor": 5
}
