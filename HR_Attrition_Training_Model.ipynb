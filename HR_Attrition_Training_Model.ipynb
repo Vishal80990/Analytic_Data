{
 "cells": [
  {
   "cell_type": "code",
   "execution_count": null,
   "id": "09a1f177",
   "metadata": {},
   "outputs": [],
   "source": [
    "!pip install --upgrade pip\n",
    "!pip install \"snowflake-connector-python[pandas]\" \"snowflake-snowpark-python[pandas]\" snowflake-snowpark-python==1.9.0 fosforio fosforml numpy pandas matplotlib scikit-learn xgboost seaborn python-dateutil tqdm holidays faker\n",
    "!pip install --upgrade --q snowflake-snowpark-python==1.9.0\n",
    "!pip uninstall urllib3 -y\n",
    "!pip install urllib3==1.26.15"
   ]
  },
  {
   "cell_type": "code",
   "execution_count": 1,
   "id": "7de740a7",
   "metadata": {},
   "outputs": [
    {
     "name": "stdout",
     "output_type": "stream",
     "text": [
      "Connection manager service url initialised to http://fdc-project-manager:80/project-manager\n",
      "If you need to update its value then update the variable CONNECTION_MANAGER_BASE_URL in os env.\n"
     ]
    },
    {
     "name": "stderr",
     "output_type": "stream",
     "text": [
      "Matplotlib created a temporary cache directory at /tmp/matplotlib-azq0gb22 because the default path (/home/mosaic-ai/.cache/matplotlib) is not a writable directory; it is highly recommended to set the MPLCONFIGDIR environment variable to a writable directory, in particular to speed up the import of Matplotlib and to better support multiprocessing.\n"
     ]
    }
   ],
   "source": [
    "from fosforio import snowflake\n",
    "from fosforio import get_dataframe\n",
    "import pandas as pd\n",
    "import numpy as np\n",
    "import matplotlib.pyplot as plt\n",
    "from sklearn.preprocessing import LabelEncoder\n",
    "from sklearn.model_selection import train_test_split\n",
    "from sklearn.ensemble import RandomForestClassifier\n",
    "from sklearn.metrics import accuracy_score, confusion_matrix, classification_report\n",
    "#import seaborn as sns\n",
    "#from imblearn.over_sampling import SMOTE\n",
    "from scipy.stats.mstats import winsorize\n",
    "from xgboost import XGBClassifier\n",
    "from sklearn.compose import ColumnTransformer\n",
    "from sklearn.ensemble import RandomForestClassifier\n",
    "from sklearn.pipeline import Pipeline\n",
    "import joblib"
   ]
  },
  {
   "cell_type": "code",
   "execution_count": 2,
   "id": "f080375a",
   "metadata": {},
   "outputs": [
    {
     "name": "stdout",
     "output_type": "stream",
     "text": [
      "Connection object created: <snowflake.connector.connection.SnowflakeConnection object at 0x7f84183d8040>\n",
      "Please close the connection after use!\n",
      "project_id: 0133ca36-0076-4cbc-93c0-b96ef2bb76f9\n",
      "Connection details fetched: {'errorCode': 'CNM-404', 'message': 'Asset not found', 'detailMessage': 'Datasource not found by name HR_Analytical_Data_Attrition.csv', 'timeStamp': '2024-07-10 08:38:57.295', 'api': '/v1/external/getConnConfig/{dataSourceName}/{userId}/{projectId}'}\n",
      "Exception occurred in get_dataframe: 'params'\n"
     ]
    }
   ],
   "source": [
    "snowflake.get_connection(connection_name=\"HR Attrition conn\")\n",
    "data = get_dataframe(\"Final_HR_Attrition_Data\")\n",
    "data"
   ]
  },
  {
   "cell_type": "code",
   "execution_count": null,
   "id": "48ad997f",
   "metadata": {},
   "outputs": [],
   "source": [
    "df = pd.read_csv(\"HR_Analytical_Data_Attrition.csv\")\n",
    "df"
   ]
  },
  {
   "cell_type": "code",
   "execution_count": 3,
   "id": "0a768981",
   "metadata": {},
   "outputs": [
    {
     "ename": "AttributeError",
     "evalue": "'NoneType' object has no attribute 'head'",
     "output_type": "error",
     "traceback": [
      "\u001b[0;31m---------------------------------------------------------------------------\u001b[0m",
      "\u001b[0;31mAttributeError\u001b[0m                            Traceback (most recent call last)",
      "Cell \u001b[0;32mIn[3], line 1\u001b[0m\n\u001b[0;32m----> 1\u001b[0m \u001b[43mdata\u001b[49m\u001b[38;5;241;43m.\u001b[39;49m\u001b[43mhead\u001b[49m()\n",
      "\u001b[0;31mAttributeError\u001b[0m: 'NoneType' object has no attribute 'head'"
     ]
    }
   ],
   "source": [
    "data.head()"
   ]
  },
  {
   "cell_type": "code",
   "execution_count": null,
   "id": "1fa86868",
   "metadata": {},
   "outputs": [],
   "source": [
    "print(df.isnull().sum())"
   ]
  },
  {
   "cell_type": "code",
   "execution_count": null,
   "id": "16a90e93",
   "metadata": {},
   "outputs": [],
   "source": [
    "df = df.dropna()"
   ]
  },
  {
   "cell_type": "code",
   "execution_count": null,
   "id": "f6a54582",
   "metadata": {},
   "outputs": [],
   "source": [
    "print(df.isnull().sum())"
   ]
  },
  {
   "cell_type": "code",
   "execution_count": null,
   "id": "e4521113",
   "metadata": {},
   "outputs": [],
   "source": [
    "sf_df = table(df)"
   ]
  },
  {
   "cell_type": "code",
   "execution_count": null,
   "id": "b49a908b",
   "metadata": {},
   "outputs": [],
   "source": [
    "CATEGORICAL_COLUMNS = [\"MAPPED ROLE CLEAN\",\"SEX\", \"ETHNICITY\",\"HOSPITAL TYPE\", \"HOSPITAL OWNERSHIP\",\"COMPANY NAME\",\"CITY\",\"STATE\",\"DISTANCE\", \n",
    "                       \"DEGREE CLEAN\",\"BUSINESS TRAVEL\",\"ENVIRONMENT SATISFACTION\",\"JOB SATISFACTION\",\"MARTIAL STATUS\",\"PERFORMANCE RATING\",\"RELATIONSHIP SATISFACTION\",\"WORK LIFE BALANCE\"]\n",
    "NUMERICAL_COLUMNS = [\"SALARY\", \"SENIORITY\", \"TENURE MONTHS\", \"MONTHS AFTER COLLEGE\", \"BIRTH YEAR\",\"AGE\",\"USER ID\", \"OVER TIME HOURS\", \"PERCENTAGE SALARY HIKE\",]\n",
    "Date_COLUMNS = ['SCHOOL END DATE', 'JOB START DATE', 'JOB END DATE']\n",
    "LABEL_COLUMNS = [\"CHURN\"]\n",
    "OUTPUT_COLUMNS = [\"PREDICTION\"]"
   ]
  },
  {
   "cell_type": "code",
   "execution_count": null,
   "id": "4cac659d",
   "metadata": {},
   "outputs": [],
   "source": []
  }
 ],
 "metadata": {
  "kernelspec": {
   "display_name": "Python 3",
   "language": "python",
   "name": "python3"
  },
  "language_info": {
   "codemirror_mode": {
    "name": "ipython",
    "version": 3
   },
   "file_extension": ".py",
   "mimetype": "text/x-python",
   "name": "python",
   "nbconvert_exporter": "python",
   "pygments_lexer": "ipython3",
   "version": "3.8.18"
  }
 },
 "nbformat": 4,
 "nbformat_minor": 5
}
