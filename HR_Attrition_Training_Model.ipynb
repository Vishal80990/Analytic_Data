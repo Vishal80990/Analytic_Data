{
 "cells": [
  {
   "cell_type": "code",
   "execution_count": null,
   "id": "09a1f177",
   "metadata": {},
   "outputs": [],
   "source": [
    "!pip install --upgrade pip\n",
    "!pip install fosforml numpy pandas matplotlib scikit-learn seaborn python-dateutil\n",
    "!pip uninstall urllib3 -y\n",
    "!pip install urllib3==1.26.15\n",
    "!pip install fosforml \n",
    "!pip install fosforio\n",
    "!pip install refractio\n",
    "!pip install refractml"
   ]
  },
  {
   "cell_type": "code",
   "execution_count": null,
   "id": "60fbc49e",
   "metadata": {},
   "outputs": [],
   "source": [
    "!pip install seaborn scipy xgboost pandas dice-ml tabulate numpy scikit-learn pandas-profiling plotly matplotlib scipy statsmodels seaborn pydantic-settings"
   ]
  },
  {
   "cell_type": "code",
   "execution_count": 1,
   "id": "7de740a7",
   "metadata": {},
   "outputs": [],
   "source": [
    "import pandas as pd\n",
    "import numpy as np\n",
    "import matplotlib.pyplot as plt\n",
    "from sklearn.preprocessing import LabelEncoder, MinMaxScaler, OneHotEncoder, OrdinalEncoder\n",
    "from sklearn.model_selection import train_test_split\n",
    "from sklearn.ensemble import RandomForestClassifier\n",
    "from sklearn.metrics import accuracy_score, confusion_matrix, classification_report\n",
    "import seaborn as sns\n",
    "from scipy.stats.mstats import winsorize\n",
    "from xgboost import XGBClassifier\n",
    "from sklearn.compose import ColumnTransformer\n",
    "from sklearn.ensemble import RandomForestClassifier\n",
    "from sklearn.pipeline import Pipeline\n",
    "import joblib\n",
    "from fosforml import *\n",
    "from fosforml.constants import MLModelFlavours\n",
    "import warnings\n",
    "warnings.filterwarnings(\"ignore\", message=\"numpy.dtype size changed\")\n",
    "warnings.filterwarnings(\"ignore\", message=\"numpy.ufunc size changed\")"
   ]
  },
  {
   "cell_type": "code",
   "execution_count": 2,
   "id": "302ab417",
   "metadata": {},
   "outputs": [
    {
     "name": "stdout",
     "output_type": "stream",
     "text": [
      "Connection manager service url initialised to http://fdc-project-manager:80/project-manager\n",
      "If you need to update its value then update the variable CONNECTION_MANAGER_BASE_URL in os env.\n",
      "Exception occurred in getting snowflake connection: 'connectionSources'\n"
     ]
    }
   ],
   "source": [
    "from refractio import snowflake\n",
    "snowflake.get_connection(connection_name=\"Final hr attrition data\")"
   ]
  },
  {
   "cell_type": "code",
   "execution_count": 3,
   "id": "f080375a",
   "metadata": {},
   "outputs": [
    {
     "data": {
      "text/html": [
       "<div>\n",
       "<style scoped>\n",
       "    .dataframe tbody tr th:only-of-type {\n",
       "        vertical-align: middle;\n",
       "    }\n",
       "\n",
       "    .dataframe tbody tr th {\n",
       "        vertical-align: top;\n",
       "    }\n",
       "\n",
       "    .dataframe thead th {\n",
       "        text-align: right;\n",
       "    }\n",
       "</style>\n",
       "<table border=\"1\" class=\"dataframe\">\n",
       "  <thead>\n",
       "    <tr style=\"text-align: right;\">\n",
       "      <th></th>\n",
       "      <th>SALARY</th>\n",
       "      <th>SENIORITY</th>\n",
       "      <th>TENURE_MONTHS</th>\n",
       "      <th>MONTHS_AFTER_COLLEGE</th>\n",
       "      <th>BIRTH_YEAR</th>\n",
       "      <th>AGE</th>\n",
       "      <th>MAPPED_ROLE_CLEAN</th>\n",
       "      <th>SEX</th>\n",
       "      <th>ETHNICITY</th>\n",
       "      <th>HOSPITAL_TYPE</th>\n",
       "      <th>...</th>\n",
       "      <th>OVER_TIME_HOURS</th>\n",
       "      <th>CHURN</th>\n",
       "      <th>BUSINESS_TRAVEL</th>\n",
       "      <th>ENVIRONMENT_SATISFACTION</th>\n",
       "      <th>JOB_SATISFACTION</th>\n",
       "      <th>MARTIAL_STATUS</th>\n",
       "      <th>PERCENTAGE_SALARY_HIKE</th>\n",
       "      <th>PERFORMANCE_RATING</th>\n",
       "      <th>RELATIONSHIP_SATISFACTION</th>\n",
       "      <th>WORK_LIFE_BALANCE</th>\n",
       "    </tr>\n",
       "  </thead>\n",
       "  <tbody>\n",
       "    <tr>\n",
       "      <th>0</th>\n",
       "      <td>31657.073</td>\n",
       "      <td>1</td>\n",
       "      <td>13</td>\n",
       "      <td>161</td>\n",
       "      <td>1986</td>\n",
       "      <td>38</td>\n",
       "      <td>occupational</td>\n",
       "      <td>F</td>\n",
       "      <td>Black</td>\n",
       "      <td>Psychiatric</td>\n",
       "      <td>...</td>\n",
       "      <td>7</td>\n",
       "      <td>True</td>\n",
       "      <td>Travel_Rarely</td>\n",
       "      <td>High</td>\n",
       "      <td>Medium</td>\n",
       "      <td>Married</td>\n",
       "      <td>18</td>\n",
       "      <td>Excellent</td>\n",
       "      <td>Medium</td>\n",
       "      <td>Better</td>\n",
       "    </tr>\n",
       "    <tr>\n",
       "      <th>1</th>\n",
       "      <td>82697.324</td>\n",
       "      <td>2</td>\n",
       "      <td>10</td>\n",
       "      <td>72</td>\n",
       "      <td>1988</td>\n",
       "      <td>36</td>\n",
       "      <td>social</td>\n",
       "      <td>M</td>\n",
       "      <td>API</td>\n",
       "      <td>Acute Care - Department of Defense</td>\n",
       "      <td>...</td>\n",
       "      <td>6</td>\n",
       "      <td>False</td>\n",
       "      <td>Travel_Rarely</td>\n",
       "      <td>High</td>\n",
       "      <td>Very High</td>\n",
       "      <td>Married</td>\n",
       "      <td>19</td>\n",
       "      <td>Excellent</td>\n",
       "      <td>Low</td>\n",
       "      <td>Good</td>\n",
       "    </tr>\n",
       "    <tr>\n",
       "      <th>2</th>\n",
       "      <td>67291.312</td>\n",
       "      <td>1</td>\n",
       "      <td>65</td>\n",
       "      <td>7</td>\n",
       "      <td>1986</td>\n",
       "      <td>38</td>\n",
       "      <td>nurse</td>\n",
       "      <td>M</td>\n",
       "      <td>Black</td>\n",
       "      <td>Acute Care - Department of Defense</td>\n",
       "      <td>...</td>\n",
       "      <td>9</td>\n",
       "      <td>False</td>\n",
       "      <td>Non-Travel</td>\n",
       "      <td>High</td>\n",
       "      <td>Low</td>\n",
       "      <td>Married</td>\n",
       "      <td>14</td>\n",
       "      <td>Excellent</td>\n",
       "      <td>Very High</td>\n",
       "      <td>Bad</td>\n",
       "    </tr>\n",
       "    <tr>\n",
       "      <th>3</th>\n",
       "      <td>41186.945</td>\n",
       "      <td>1</td>\n",
       "      <td>36</td>\n",
       "      <td>33</td>\n",
       "      <td>1988</td>\n",
       "      <td>36</td>\n",
       "      <td>technologist</td>\n",
       "      <td>F</td>\n",
       "      <td>Hispanic</td>\n",
       "      <td>Psychiatric</td>\n",
       "      <td>...</td>\n",
       "      <td>8</td>\n",
       "      <td>False</td>\n",
       "      <td>Travel_Rarely</td>\n",
       "      <td>Low</td>\n",
       "      <td>Very High</td>\n",
       "      <td>Divorced</td>\n",
       "      <td>21</td>\n",
       "      <td>Low</td>\n",
       "      <td>Medium</td>\n",
       "      <td>Bad</td>\n",
       "    </tr>\n",
       "    <tr>\n",
       "      <th>4</th>\n",
       "      <td>54826.128</td>\n",
       "      <td>2</td>\n",
       "      <td>9</td>\n",
       "      <td>23</td>\n",
       "      <td>1990</td>\n",
       "      <td>34</td>\n",
       "      <td>physician</td>\n",
       "      <td>M</td>\n",
       "      <td>Black</td>\n",
       "      <td>Childrens</td>\n",
       "      <td>...</td>\n",
       "      <td>11</td>\n",
       "      <td>True</td>\n",
       "      <td>Travel_Rarely</td>\n",
       "      <td>High</td>\n",
       "      <td>Very High</td>\n",
       "      <td>Single</td>\n",
       "      <td>16</td>\n",
       "      <td>Good</td>\n",
       "      <td>High</td>\n",
       "      <td>Better</td>\n",
       "    </tr>\n",
       "    <tr>\n",
       "      <th>...</th>\n",
       "      <td>...</td>\n",
       "      <td>...</td>\n",
       "      <td>...</td>\n",
       "      <td>...</td>\n",
       "      <td>...</td>\n",
       "      <td>...</td>\n",
       "      <td>...</td>\n",
       "      <td>...</td>\n",
       "      <td>...</td>\n",
       "      <td>...</td>\n",
       "      <td>...</td>\n",
       "      <td>...</td>\n",
       "      <td>...</td>\n",
       "      <td>...</td>\n",
       "      <td>...</td>\n",
       "      <td>...</td>\n",
       "      <td>...</td>\n",
       "      <td>...</td>\n",
       "      <td>...</td>\n",
       "      <td>...</td>\n",
       "      <td>...</td>\n",
       "    </tr>\n",
       "    <tr>\n",
       "      <th>299995</th>\n",
       "      <td>97520.177</td>\n",
       "      <td>5</td>\n",
       "      <td>45</td>\n",
       "      <td>113</td>\n",
       "      <td>1969</td>\n",
       "      <td>55</td>\n",
       "      <td>physician</td>\n",
       "      <td>M</td>\n",
       "      <td>Hispanic</td>\n",
       "      <td>Acute Care Hospitals</td>\n",
       "      <td>...</td>\n",
       "      <td>1</td>\n",
       "      <td>False</td>\n",
       "      <td>Travel_Rarely</td>\n",
       "      <td>High</td>\n",
       "      <td>High</td>\n",
       "      <td>Divorced</td>\n",
       "      <td>20</td>\n",
       "      <td>Outstanding</td>\n",
       "      <td>Low</td>\n",
       "      <td>Best</td>\n",
       "    </tr>\n",
       "    <tr>\n",
       "      <th>299996</th>\n",
       "      <td>55666.168</td>\n",
       "      <td>2</td>\n",
       "      <td>32</td>\n",
       "      <td>5</td>\n",
       "      <td>1987</td>\n",
       "      <td>37</td>\n",
       "      <td>emt</td>\n",
       "      <td>M</td>\n",
       "      <td>White</td>\n",
       "      <td>Childrens</td>\n",
       "      <td>...</td>\n",
       "      <td>9</td>\n",
       "      <td>True</td>\n",
       "      <td>Travel_Rarely</td>\n",
       "      <td>Medium</td>\n",
       "      <td>Low</td>\n",
       "      <td>Married</td>\n",
       "      <td>23</td>\n",
       "      <td>Low</td>\n",
       "      <td>Very High</td>\n",
       "      <td>Best</td>\n",
       "    </tr>\n",
       "    <tr>\n",
       "      <th>299997</th>\n",
       "      <td>49866.716</td>\n",
       "      <td>2</td>\n",
       "      <td>34</td>\n",
       "      <td>4</td>\n",
       "      <td>1986</td>\n",
       "      <td>38</td>\n",
       "      <td>physician</td>\n",
       "      <td>F</td>\n",
       "      <td>White</td>\n",
       "      <td>Childrens</td>\n",
       "      <td>...</td>\n",
       "      <td>0</td>\n",
       "      <td>True</td>\n",
       "      <td>Travel_Rarely</td>\n",
       "      <td>Medium</td>\n",
       "      <td>Medium</td>\n",
       "      <td>Single</td>\n",
       "      <td>14</td>\n",
       "      <td>Excellent</td>\n",
       "      <td>Medium</td>\n",
       "      <td>Bad</td>\n",
       "    </tr>\n",
       "    <tr>\n",
       "      <th>299998</th>\n",
       "      <td>77706.113</td>\n",
       "      <td>2</td>\n",
       "      <td>6</td>\n",
       "      <td>26</td>\n",
       "      <td>1996</td>\n",
       "      <td>28</td>\n",
       "      <td>physician</td>\n",
       "      <td>F</td>\n",
       "      <td>API</td>\n",
       "      <td>Childrens</td>\n",
       "      <td>...</td>\n",
       "      <td>1</td>\n",
       "      <td>False</td>\n",
       "      <td>Travel_Rarely</td>\n",
       "      <td>High</td>\n",
       "      <td>High</td>\n",
       "      <td>Single</td>\n",
       "      <td>11</td>\n",
       "      <td>Good</td>\n",
       "      <td>Very High</td>\n",
       "      <td>Good</td>\n",
       "    </tr>\n",
       "    <tr>\n",
       "      <th>299999</th>\n",
       "      <td>34940.150</td>\n",
       "      <td>1</td>\n",
       "      <td>24</td>\n",
       "      <td>5</td>\n",
       "      <td>1984</td>\n",
       "      <td>40</td>\n",
       "      <td>emt</td>\n",
       "      <td>F</td>\n",
       "      <td>Black</td>\n",
       "      <td>Acute Care Hospitals</td>\n",
       "      <td>...</td>\n",
       "      <td>1</td>\n",
       "      <td>False</td>\n",
       "      <td>Non-Travel</td>\n",
       "      <td>Medium</td>\n",
       "      <td>Very High</td>\n",
       "      <td>Single</td>\n",
       "      <td>12</td>\n",
       "      <td>Outstanding</td>\n",
       "      <td>Low</td>\n",
       "      <td>Best</td>\n",
       "    </tr>\n",
       "  </tbody>\n",
       "</table>\n",
       "<p>300000 rows × 30 columns</p>\n",
       "</div>"
      ],
      "text/plain": [
       "           SALARY  SENIORITY  TENURE_MONTHS  MONTHS_AFTER_COLLEGE  BIRTH_YEAR  \\\n",
       "0       31657.073          1             13                   161        1986   \n",
       "1       82697.324          2             10                    72        1988   \n",
       "2       67291.312          1             65                     7        1986   \n",
       "3       41186.945          1             36                    33        1988   \n",
       "4       54826.128          2              9                    23        1990   \n",
       "...           ...        ...            ...                   ...         ...   \n",
       "299995  97520.177          5             45                   113        1969   \n",
       "299996  55666.168          2             32                     5        1987   \n",
       "299997  49866.716          2             34                     4        1986   \n",
       "299998  77706.113          2              6                    26        1996   \n",
       "299999  34940.150          1             24                     5        1984   \n",
       "\n",
       "        AGE MAPPED_ROLE_CLEAN SEX ETHNICITY  \\\n",
       "0        38      occupational   F     Black   \n",
       "1        36            social   M       API   \n",
       "2        38             nurse   M     Black   \n",
       "3        36      technologist   F  Hispanic   \n",
       "4        34         physician   M     Black   \n",
       "...     ...               ...  ..       ...   \n",
       "299995   55         physician   M  Hispanic   \n",
       "299996   37               emt   M     White   \n",
       "299997   38         physician   F     White   \n",
       "299998   28         physician   F       API   \n",
       "299999   40               emt   F     Black   \n",
       "\n",
       "                             HOSPITAL_TYPE  ... OVER_TIME_HOURS  CHURN  \\\n",
       "0                              Psychiatric  ...               7   True   \n",
       "1       Acute Care - Department of Defense  ...               6  False   \n",
       "2       Acute Care - Department of Defense  ...               9  False   \n",
       "3                              Psychiatric  ...               8  False   \n",
       "4                                Childrens  ...              11   True   \n",
       "...                                    ...  ...             ...    ...   \n",
       "299995                Acute Care Hospitals  ...               1  False   \n",
       "299996                           Childrens  ...               9   True   \n",
       "299997                           Childrens  ...               0   True   \n",
       "299998                           Childrens  ...               1  False   \n",
       "299999                Acute Care Hospitals  ...               1  False   \n",
       "\n",
       "       BUSINESS_TRAVEL ENVIRONMENT_SATISFACTION JOB_SATISFACTION  \\\n",
       "0        Travel_Rarely                     High           Medium   \n",
       "1        Travel_Rarely                     High        Very High   \n",
       "2           Non-Travel                     High              Low   \n",
       "3        Travel_Rarely                      Low        Very High   \n",
       "4        Travel_Rarely                     High        Very High   \n",
       "...                ...                      ...              ...   \n",
       "299995   Travel_Rarely                     High             High   \n",
       "299996   Travel_Rarely                   Medium              Low   \n",
       "299997   Travel_Rarely                   Medium           Medium   \n",
       "299998   Travel_Rarely                     High             High   \n",
       "299999      Non-Travel                   Medium        Very High   \n",
       "\n",
       "       MARTIAL_STATUS PERCENTAGE_SALARY_HIKE PERFORMANCE_RATING  \\\n",
       "0             Married                     18          Excellent   \n",
       "1             Married                     19          Excellent   \n",
       "2             Married                     14          Excellent   \n",
       "3            Divorced                     21                Low   \n",
       "4              Single                     16               Good   \n",
       "...               ...                    ...                ...   \n",
       "299995       Divorced                     20        Outstanding   \n",
       "299996        Married                     23                Low   \n",
       "299997         Single                     14          Excellent   \n",
       "299998         Single                     11               Good   \n",
       "299999         Single                     12        Outstanding   \n",
       "\n",
       "       RELATIONSHIP_SATISFACTION  WORK_LIFE_BALANCE  \n",
       "0                         Medium             Better  \n",
       "1                            Low               Good  \n",
       "2                      Very High                Bad  \n",
       "3                         Medium                Bad  \n",
       "4                           High             Better  \n",
       "...                          ...                ...  \n",
       "299995                       Low               Best  \n",
       "299996                 Very High               Best  \n",
       "299997                    Medium                Bad  \n",
       "299998                 Very High               Good  \n",
       "299999                       Low               Best  \n",
       "\n",
       "[300000 rows x 30 columns]"
      ]
     },
     "execution_count": 3,
     "metadata": {},
     "output_type": "execute_result"
    }
   ],
   "source": [
    "df = snowflake.get_dataframe(\"Final_HR_Attrition_Data\")\n",
    "df"
   ]
  },
  {
   "cell_type": "code",
   "execution_count": 4,
   "id": "1fa86868",
   "metadata": {},
   "outputs": [
    {
     "name": "stdout",
     "output_type": "stream",
     "text": [
      "SALARY                           0\n",
      "SENIORITY                        0\n",
      "TENURE_MONTHS                    0\n",
      "MONTHS_AFTER_COLLEGE             0\n",
      "BIRTH_YEAR                       0\n",
      "AGE                              0\n",
      "MAPPED_ROLE_CLEAN                0\n",
      "SEX                              0\n",
      "ETHNICITY                        0\n",
      "HOSPITAL_TYPE                    0\n",
      "HOSPITAL_OWNERSHIP               0\n",
      "COMPANY_NAME                     0\n",
      "CITY                             0\n",
      "STATE                            0\n",
      "DISTANCE                         0\n",
      "DEGREE_CLEAN                     0\n",
      "SCHOOL_END_DATE                  0\n",
      "JOB_START_DATE                   0\n",
      "JOB_END_DATE                 90102\n",
      "USER_ID                          0\n",
      "OVER_TIME_HOURS                  0\n",
      "CHURN                            0\n",
      "BUSINESS_TRAVEL                  0\n",
      "ENVIRONMENT_SATISFACTION         0\n",
      "JOB_SATISFACTION                 0\n",
      "MARTIAL_STATUS                   0\n",
      "PERCENTAGE_SALARY_HIKE           0\n",
      "PERFORMANCE_RATING               0\n",
      "RELATIONSHIP_SATISFACTION        0\n",
      "WORK_LIFE_BALANCE                0\n",
      "dtype: int64\n"
     ]
    }
   ],
   "source": [
    "print(df.isnull().sum())"
   ]
  },
  {
   "cell_type": "code",
   "execution_count": 5,
   "id": "16a90e93",
   "metadata": {},
   "outputs": [],
   "source": [
    "df = df.dropna()"
   ]
  },
  {
   "cell_type": "code",
   "execution_count": 6,
   "id": "f6a54582",
   "metadata": {},
   "outputs": [
    {
     "name": "stdout",
     "output_type": "stream",
     "text": [
      "SALARY                       0\n",
      "SENIORITY                    0\n",
      "TENURE_MONTHS                0\n",
      "MONTHS_AFTER_COLLEGE         0\n",
      "BIRTH_YEAR                   0\n",
      "AGE                          0\n",
      "MAPPED_ROLE_CLEAN            0\n",
      "SEX                          0\n",
      "ETHNICITY                    0\n",
      "HOSPITAL_TYPE                0\n",
      "HOSPITAL_OWNERSHIP           0\n",
      "COMPANY_NAME                 0\n",
      "CITY                         0\n",
      "STATE                        0\n",
      "DISTANCE                     0\n",
      "DEGREE_CLEAN                 0\n",
      "SCHOOL_END_DATE              0\n",
      "JOB_START_DATE               0\n",
      "JOB_END_DATE                 0\n",
      "USER_ID                      0\n",
      "OVER_TIME_HOURS              0\n",
      "CHURN                        0\n",
      "BUSINESS_TRAVEL              0\n",
      "ENVIRONMENT_SATISFACTION     0\n",
      "JOB_SATISFACTION             0\n",
      "MARTIAL_STATUS               0\n",
      "PERCENTAGE_SALARY_HIKE       0\n",
      "PERFORMANCE_RATING           0\n",
      "RELATIONSHIP_SATISFACTION    0\n",
      "WORK_LIFE_BALANCE            0\n",
      "dtype: int64\n"
     ]
    }
   ],
   "source": [
    "print(df.isnull().sum())"
   ]
  },
  {
   "cell_type": "code",
   "execution_count": 7,
   "id": "e4521113",
   "metadata": {},
   "outputs": [],
   "source": [
    "df = df.drop([\"USER_ID\", \"JOB_START_DATE\", \"JOB_END_DATE\", \"SCHOOL_END_DATE\"], axis = 1)"
   ]
  },
  {
   "cell_type": "code",
   "execution_count": 8,
   "id": "f1290f3a",
   "metadata": {},
   "outputs": [],
   "source": [
    "from sklearn.model_selection import train_test_split"
   ]
  },
  {
   "cell_type": "code",
   "execution_count": 9,
   "id": "78521dcd",
   "metadata": {},
   "outputs": [],
   "source": [
    "CATEGORICAL_COLUMNS = [\"MAPPED_ROLE_CLEAN\",\"SEX\", \"ETHNICITY\",\"HOSPITAL_TYPE\", \"HOSPITAL_OWNERSHIP\",\"COMPANY_NAME\",\"CITY\",\"STATE\",\"DISTANCE\", \n",
    "                       \"DEGREE_CLEAN\",\"BUSINESS_TRAVEL\",\"ENVIRONMENT_SATISFACTION\",\"JOB_SATISFACTION\",\"MARTIAL_STATUS\",\"PERFORMANCE_RATING\",\"RELATIONSHIP_SATISFACTION\",\"WORK_LIFE_BALANCE\"]\n",
    "NUMERICAL_COLUMNS = [\"SALARY\", \"SENIORITY\", \"TENURE_MONTHS\", \"MONTHS_AFTER_COLLEGE\", \"BIRTH_YEAR\",\"AGE\", \"OVER_TIME_HOURS\", \"PERCENTAGE_SALARY_HIKE\",]\n",
    "LABEL_COLUMNS = [\"CHURN\"]\n",
    "OUTPUT_COLUMNS = [\"PREDICTION\"]"
   ]
  },
  {
   "cell_type": "code",
   "execution_count": 10,
   "id": "042fd143",
   "metadata": {},
   "outputs": [],
   "source": [
    "feature_columns = CATEGORICAL_COLUMNS + NUMERICAL_COLUMNS "
   ]
  },
  {
   "cell_type": "code",
   "execution_count": 11,
   "id": "d8b8a36d",
   "metadata": {},
   "outputs": [],
   "source": [
    "feature_columns = [col for col in feature_columns if col in df.columns]\n",
    "LABEL_COLUMNS = [col for col in LABEL_COLUMNS if col in df.columns]"
   ]
  },
  {
   "cell_type": "code",
   "execution_count": 12,
   "id": "edef63ea",
   "metadata": {},
   "outputs": [],
   "source": [
    "X = df[feature_columns]\n",
    "Y = df[LABEL_COLUMNS]"
   ]
  },
  {
   "cell_type": "code",
   "execution_count": 13,
   "id": "f3dd0fa7",
   "metadata": {},
   "outputs": [
    {
     "data": {
      "text/html": [
       "<div>\n",
       "<style scoped>\n",
       "    .dataframe tbody tr th:only-of-type {\n",
       "        vertical-align: middle;\n",
       "    }\n",
       "\n",
       "    .dataframe tbody tr th {\n",
       "        vertical-align: top;\n",
       "    }\n",
       "\n",
       "    .dataframe thead th {\n",
       "        text-align: right;\n",
       "    }\n",
       "</style>\n",
       "<table border=\"1\" class=\"dataframe\">\n",
       "  <thead>\n",
       "    <tr style=\"text-align: right;\">\n",
       "      <th></th>\n",
       "      <th>MAPPED_ROLE_CLEAN</th>\n",
       "      <th>SEX</th>\n",
       "      <th>ETHNICITY</th>\n",
       "      <th>HOSPITAL_TYPE</th>\n",
       "      <th>HOSPITAL_OWNERSHIP</th>\n",
       "      <th>COMPANY_NAME</th>\n",
       "      <th>CITY</th>\n",
       "      <th>STATE</th>\n",
       "      <th>DISTANCE</th>\n",
       "      <th>DEGREE_CLEAN</th>\n",
       "      <th>...</th>\n",
       "      <th>RELATIONSHIP_SATISFACTION</th>\n",
       "      <th>WORK_LIFE_BALANCE</th>\n",
       "      <th>SALARY</th>\n",
       "      <th>SENIORITY</th>\n",
       "      <th>TENURE_MONTHS</th>\n",
       "      <th>MONTHS_AFTER_COLLEGE</th>\n",
       "      <th>BIRTH_YEAR</th>\n",
       "      <th>AGE</th>\n",
       "      <th>OVER_TIME_HOURS</th>\n",
       "      <th>PERCENTAGE_SALARY_HIKE</th>\n",
       "    </tr>\n",
       "  </thead>\n",
       "  <tbody>\n",
       "    <tr>\n",
       "      <th>0</th>\n",
       "      <td>occupational</td>\n",
       "      <td>F</td>\n",
       "      <td>Black</td>\n",
       "      <td>Psychiatric</td>\n",
       "      <td>Government - Local</td>\n",
       "      <td>24-7 Bright Star Healthcare LLC</td>\n",
       "      <td>Jacksonville</td>\n",
       "      <td>FL</td>\n",
       "      <td>5-10 Miles</td>\n",
       "      <td>Bachelors Degree</td>\n",
       "      <td>...</td>\n",
       "      <td>Medium</td>\n",
       "      <td>Better</td>\n",
       "      <td>31657.073</td>\n",
       "      <td>1</td>\n",
       "      <td>13</td>\n",
       "      <td>161</td>\n",
       "      <td>1986</td>\n",
       "      <td>38</td>\n",
       "      <td>7</td>\n",
       "      <td>18</td>\n",
       "    </tr>\n",
       "    <tr>\n",
       "      <th>1</th>\n",
       "      <td>social</td>\n",
       "      <td>M</td>\n",
       "      <td>API</td>\n",
       "      <td>Acute Care - Department of Defense</td>\n",
       "      <td>Government - Hospital District or Authority</td>\n",
       "      <td>Mayo Clinic</td>\n",
       "      <td>Deltona</td>\n",
       "      <td>FL</td>\n",
       "      <td>&lt;2 Miles</td>\n",
       "      <td>Masters Degree</td>\n",
       "      <td>...</td>\n",
       "      <td>Low</td>\n",
       "      <td>Good</td>\n",
       "      <td>82697.324</td>\n",
       "      <td>2</td>\n",
       "      <td>10</td>\n",
       "      <td>72</td>\n",
       "      <td>1988</td>\n",
       "      <td>36</td>\n",
       "      <td>6</td>\n",
       "      <td>19</td>\n",
       "    </tr>\n",
       "    <tr>\n",
       "      <th>2</th>\n",
       "      <td>nurse</td>\n",
       "      <td>M</td>\n",
       "      <td>Black</td>\n",
       "      <td>Acute Care - Department of Defense</td>\n",
       "      <td>Physician</td>\n",
       "      <td>Cleveland Clinic</td>\n",
       "      <td>Reno</td>\n",
       "      <td>NV</td>\n",
       "      <td>&lt;2 Miles</td>\n",
       "      <td>Masters Degree</td>\n",
       "      <td>...</td>\n",
       "      <td>Very High</td>\n",
       "      <td>Bad</td>\n",
       "      <td>67291.312</td>\n",
       "      <td>1</td>\n",
       "      <td>65</td>\n",
       "      <td>7</td>\n",
       "      <td>1986</td>\n",
       "      <td>38</td>\n",
       "      <td>9</td>\n",
       "      <td>14</td>\n",
       "    </tr>\n",
       "    <tr>\n",
       "      <th>3</th>\n",
       "      <td>technologist</td>\n",
       "      <td>F</td>\n",
       "      <td>Hispanic</td>\n",
       "      <td>Psychiatric</td>\n",
       "      <td>Government - State</td>\n",
       "      <td>24-7 Bright Star Healthcare LLC</td>\n",
       "      <td>Phoenix</td>\n",
       "      <td>AZ</td>\n",
       "      <td>5-10 Miles</td>\n",
       "      <td>Undergraduate Diploma</td>\n",
       "      <td>...</td>\n",
       "      <td>Medium</td>\n",
       "      <td>Bad</td>\n",
       "      <td>41186.945</td>\n",
       "      <td>1</td>\n",
       "      <td>36</td>\n",
       "      <td>33</td>\n",
       "      <td>1988</td>\n",
       "      <td>36</td>\n",
       "      <td>8</td>\n",
       "      <td>21</td>\n",
       "    </tr>\n",
       "    <tr>\n",
       "      <th>4</th>\n",
       "      <td>physician</td>\n",
       "      <td>M</td>\n",
       "      <td>Black</td>\n",
       "      <td>Childrens</td>\n",
       "      <td>Voluntary non-profit - Other</td>\n",
       "      <td>McKesson Corp.</td>\n",
       "      <td>Janesville</td>\n",
       "      <td>WI</td>\n",
       "      <td>5-10 Miles</td>\n",
       "      <td>Doctoral Degree</td>\n",
       "      <td>...</td>\n",
       "      <td>High</td>\n",
       "      <td>Better</td>\n",
       "      <td>54826.128</td>\n",
       "      <td>2</td>\n",
       "      <td>9</td>\n",
       "      <td>23</td>\n",
       "      <td>1990</td>\n",
       "      <td>34</td>\n",
       "      <td>11</td>\n",
       "      <td>16</td>\n",
       "    </tr>\n",
       "  </tbody>\n",
       "</table>\n",
       "<p>5 rows × 25 columns</p>\n",
       "</div>"
      ],
      "text/plain": [
       "  MAPPED_ROLE_CLEAN SEX ETHNICITY                       HOSPITAL_TYPE  \\\n",
       "0      occupational   F     Black                         Psychiatric   \n",
       "1            social   M       API  Acute Care - Department of Defense   \n",
       "2             nurse   M     Black  Acute Care - Department of Defense   \n",
       "3      technologist   F  Hispanic                         Psychiatric   \n",
       "4         physician   M     Black                           Childrens   \n",
       "\n",
       "                            HOSPITAL_OWNERSHIP  \\\n",
       "0                           Government - Local   \n",
       "1  Government - Hospital District or Authority   \n",
       "2                                    Physician   \n",
       "3                           Government - State   \n",
       "4                 Voluntary non-profit - Other   \n",
       "\n",
       "                      COMPANY_NAME          CITY STATE    DISTANCE  \\\n",
       "0  24-7 Bright Star Healthcare LLC  Jacksonville    FL  5-10 Miles   \n",
       "1                      Mayo Clinic       Deltona    FL    <2 Miles   \n",
       "2                 Cleveland Clinic          Reno    NV    <2 Miles   \n",
       "3  24-7 Bright Star Healthcare LLC       Phoenix    AZ  5-10 Miles   \n",
       "4                   McKesson Corp.    Janesville    WI  5-10 Miles   \n",
       "\n",
       "            DEGREE_CLEAN  ... RELATIONSHIP_SATISFACTION WORK_LIFE_BALANCE  \\\n",
       "0       Bachelors Degree  ...                    Medium            Better   \n",
       "1         Masters Degree  ...                       Low              Good   \n",
       "2         Masters Degree  ...                 Very High               Bad   \n",
       "3  Undergraduate Diploma  ...                    Medium               Bad   \n",
       "4        Doctoral Degree  ...                      High            Better   \n",
       "\n",
       "      SALARY SENIORITY TENURE_MONTHS MONTHS_AFTER_COLLEGE BIRTH_YEAR  AGE  \\\n",
       "0  31657.073         1            13                  161       1986   38   \n",
       "1  82697.324         2            10                   72       1988   36   \n",
       "2  67291.312         1            65                    7       1986   38   \n",
       "3  41186.945         1            36                   33       1988   36   \n",
       "4  54826.128         2             9                   23       1990   34   \n",
       "\n",
       "   OVER_TIME_HOURS  PERCENTAGE_SALARY_HIKE  \n",
       "0                7                      18  \n",
       "1                6                      19  \n",
       "2                9                      14  \n",
       "3                8                      21  \n",
       "4               11                      16  \n",
       "\n",
       "[5 rows x 25 columns]"
      ]
     },
     "execution_count": 13,
     "metadata": {},
     "output_type": "execute_result"
    }
   ],
   "source": [
    "X.head()"
   ]
  },
  {
   "cell_type": "code",
   "execution_count": 14,
   "id": "7cab8a56",
   "metadata": {},
   "outputs": [
    {
     "data": {
      "text/html": [
       "<div>\n",
       "<style scoped>\n",
       "    .dataframe tbody tr th:only-of-type {\n",
       "        vertical-align: middle;\n",
       "    }\n",
       "\n",
       "    .dataframe tbody tr th {\n",
       "        vertical-align: top;\n",
       "    }\n",
       "\n",
       "    .dataframe thead th {\n",
       "        text-align: right;\n",
       "    }\n",
       "</style>\n",
       "<table border=\"1\" class=\"dataframe\">\n",
       "  <thead>\n",
       "    <tr style=\"text-align: right;\">\n",
       "      <th></th>\n",
       "      <th>CHURN</th>\n",
       "    </tr>\n",
       "  </thead>\n",
       "  <tbody>\n",
       "    <tr>\n",
       "      <th>0</th>\n",
       "      <td>True</td>\n",
       "    </tr>\n",
       "    <tr>\n",
       "      <th>1</th>\n",
       "      <td>False</td>\n",
       "    </tr>\n",
       "    <tr>\n",
       "      <th>2</th>\n",
       "      <td>False</td>\n",
       "    </tr>\n",
       "    <tr>\n",
       "      <th>3</th>\n",
       "      <td>False</td>\n",
       "    </tr>\n",
       "    <tr>\n",
       "      <th>4</th>\n",
       "      <td>True</td>\n",
       "    </tr>\n",
       "  </tbody>\n",
       "</table>\n",
       "</div>"
      ],
      "text/plain": [
       "   CHURN\n",
       "0   True\n",
       "1  False\n",
       "2  False\n",
       "3  False\n",
       "4   True"
      ]
     },
     "execution_count": 14,
     "metadata": {},
     "output_type": "execute_result"
    }
   ],
   "source": [
    "Y.head()"
   ]
  },
  {
   "cell_type": "code",
   "execution_count": null,
   "id": "b49a908b",
   "metadata": {},
   "outputs": [],
   "source": [
    "X_train, X_test, y_train, y_test = train_test_split(X, y,test_size = 0.20, random_state = 42)"
   ]
  },
  {
   "cell_type": "code",
   "execution_count": 16,
   "id": "c0f66216",
   "metadata": {},
   "outputs": [],
   "source": [
    "## train_df and test_df are both snowpark dataframes\n",
    "from sklearn.pipeline import Pipeline\n",
    "from sklearn.preprocessing import OrdinalEncoder, MinMaxScaler\n",
    "from xgboost import XGBClassifier\n",
    "from sklearn.compose import ColumnTransformer\n",
    "from sklearn.impute import SimpleImputer\n",
    "from sklearn.pipeline import make_pipeline\n",
    "\n",
    "categorical_transformer = make_pipeline(\n",
    "    SimpleImputer(strategy='constant', fill_value='missing'),\n",
    "    OrdinalEncoder(handle_unknown='use_encoded_value', unknown_value=-1)\n",
    ")\n",
    "\n",
    "numerical_transformer = make_pipeline(\n",
    "    SimpleImputer(strategy='mean'),\n",
    "    MinMaxScaler(clip=True)\n",
    ")\n",
    "\n",
    "preprocessor = ColumnTransformer(\n",
    "    transformers=[\n",
    "        ('cat', categorical_transformer, CATEGORICAL_COLUMNS),\n",
    "        ('num', numerical_transformer, NUMERICAL_COLUMNS)\n",
    "    ]\n",
    ")\n",
    "\n",
    "\n",
    "pipeline = Pipeline(steps=[\n",
    "    ('preprocessor', preprocessor),\n",
    "    ('classifier', XGBClassifier())\n",
    "])\n",
    "\n",
    "pipeline.fit(X_train, y_train)\n",
    "\n",
    "result = pipeline.predict(X_test)"
   ]
  },
  {
   "cell_type": "code",
   "execution_count": 17,
   "id": "229d9500",
   "metadata": {},
   "outputs": [
    {
     "data": {
      "text/plain": [
       "array([0, 1, 1, ..., 1, 1, 1])"
      ]
     },
     "execution_count": 17,
     "metadata": {},
     "output_type": "execute_result"
    }
   ],
   "source": [
    "result"
   ]
  },
  {
   "cell_type": "code",
   "execution_count": 52,
   "id": "82498b78",
   "metadata": {},
   "outputs": [
    {
     "name": "stdout",
     "output_type": "stream",
     "text": [
      "Prediction: [0 1 1 ... 1 1 1]\n"
     ]
    }
   ],
   "source": [
    "print(\"Prediction:\", result)"
   ]
  },
  {
   "cell_type": "code",
   "execution_count": 18,
   "id": "3f74cca8",
   "metadata": {},
   "outputs": [
    {
     "data": {
      "text/plain": [
       "['HR_Attrition_ml_model.joblib']"
      ]
     },
     "execution_count": 18,
     "metadata": {},
     "output_type": "execute_result"
    }
   ],
   "source": [
    "from joblib import dump, load\n",
    "filename = \"HR_Attrition_ml_model.joblib\"\n",
    "dump(pipeline, filename)"
   ]
  },
  {
   "cell_type": "code",
   "execution_count": 19,
   "id": "1f59b710",
   "metadata": {},
   "outputs": [],
   "source": [
    "import requests"
   ]
  },
  {
   "cell_type": "code",
   "execution_count": 20,
   "id": "0e69a967",
   "metadata": {},
   "outputs": [
    {
     "data": {
      "text/plain": [
       "Index(['CHURN'], dtype='object')"
      ]
     },
     "execution_count": 20,
     "metadata": {},
     "output_type": "execute_result"
    }
   ],
   "source": [
    "y_train.columns"
   ]
  },
  {
   "cell_type": "code",
   "execution_count": 21,
   "id": "bdcbca77",
   "metadata": {},
   "outputs": [],
   "source": [
    "model = load(filename)"
   ]
  },
  {
   "cell_type": "code",
   "execution_count": 22,
   "id": "30ed0a0a",
   "metadata": {},
   "outputs": [],
   "source": [
    "y_pred = pipeline.predict(X_test)\n",
    "y_prob = pipeline.predict_proba(X_test)"
   ]
  },
  {
   "cell_type": "code",
   "execution_count": 53,
   "id": "fb3aeded",
   "metadata": {},
   "outputs": [
    {
     "name": "stdout",
     "output_type": "stream",
     "text": [
      "Prediction: [0 1 1 ... 1 1 1]\n",
      "Predicted probabilities: [[0.51492083 0.48507917]\n",
      " [0.42092532 0.5790747 ]\n",
      " [0.42017162 0.5798284 ]\n",
      " ...\n",
      " [0.489658   0.510342  ]\n",
      " [0.35479176 0.64520824]\n",
      " [0.43741506 0.56258494]]\n"
     ]
    }
   ],
   "source": [
    "print(\"Prediction:\", y_pred)\n",
    "print(\"Predicted probabilities:\", y_prob)"
   ]
  },
  {
   "cell_type": "code",
   "execution_count": 23,
   "id": "5c7ab0ee",
   "metadata": {},
   "outputs": [
    {
     "name": "stderr",
     "output_type": "stream",
     "text": [
      "/tmp/pip_packages/_distutils_hack/__init__.py:32: UserWarning: Setuptools is replacing distutils. Support for replacing an already imported distutils is deprecated. In the future, this condition will fail. Register concerns at https://github.com/pypa/setuptools/issues/new?template=distutils-deprecation.yml\n",
      "  warnings.warn(\n"
     ]
    }
   ],
   "source": [
    "from refractml import *\n",
    "\n",
    "from refractml.constants import MLModelFlavours"
   ]
  },
  {
   "cell_type": "code",
   "execution_count": 30,
   "id": "3d346ec7",
   "metadata": {},
   "outputs": [],
   "source": [
    "@scoring_func\n",
    "def score(model, request):\n",
    "    payload_dict = request.json[\"payload\"]\n",
    "    data_json = eval(payload)\n",
    "    data = pd.DataFrame([data_json])\n",
    "    prediction = str(model.predict(data)[0])\n",
    "    return prediction"
   ]
  },
  {
   "cell_type": "code",
   "execution_count": 31,
   "id": "5852c26f",
   "metadata": {},
   "outputs": [
    {
     "name": "stdout",
     "output_type": "stream",
     "text": [
      "1\n"
     ]
    }
   ],
   "source": [
    "import requests\n",
    "payload = str(X_test.iloc[123].to_dict())\n",
    "req = requests.Request()\n",
    "req.json = {\"payload\": payload}\n",
    "\n",
    "print(score(pipeline, req))"
   ]
  },
  {
   "cell_type": "code",
   "execution_count": 33,
   "id": "57a0f1f3",
   "metadata": {},
   "outputs": [
    {
     "data": {
      "text/plain": [
       "{'payload': \"{'MAPPED_ROLE_CLEAN': 'occupational', 'SEX': 'M', 'ETHNICITY': 'White', 'HOSPITAL_TYPE': 'Childrens', 'HOSPITAL_OWNERSHIP': 'Physician', 'COMPANY_NAME': 'Johnson & Johnson', 'CITY': 'Morgantown', 'STATE': 'WV', 'DISTANCE': '>10 Miles', 'DEGREE_CLEAN': 'Masters Degree', 'BUSINESS_TRAVEL': 'Travel_Rarely', 'ENVIRONMENT_SATISFACTION': 'Low', 'JOB_SATISFACTION': 'Low', 'MARTIAL_STATUS': 'Divorced', 'PERFORMANCE_RATING': 'Excellent', 'RELATIONSHIP_SATISFACTION': 'Medium', 'WORK_LIFE_BALANCE': 'Better', 'SALARY': 63456.001, 'SENIORITY': 3, 'TENURE_MONTHS': 14, 'MONTHS_AFTER_COLLEGE': 51, 'BIRTH_YEAR': 1989, 'AGE': 35, 'OVER_TIME_HOURS': 3, 'PERCENTAGE_SALARY_HIKE': 19}\"}"
      ]
     },
     "execution_count": 33,
     "metadata": {},
     "output_type": "execute_result"
    }
   ],
   "source": [
    "req.json"
   ]
  },
  {
   "cell_type": "code",
   "execution_count": null,
   "id": "1f113832",
   "metadata": {},
   "outputs": [],
   "source": [
    "{\"payload\": \"{'MAPPED_ROLE_CLEAN': 'occupational', 'SEX': 'M', 'ETHNICITY': 'White', 'HOSPITAL_TYPE': 'Childrens', 'HOSPITAL_OWNERSHIP': 'Physician', 'COMPANY_NAME': 'Johnson & Johnson', 'CITY': 'Morgantown', 'STATE': 'WV', 'DISTANCE': '>10 Miles', 'DEGREE_CLEAN': 'Masters Degree', 'BUSINESS_TRAVEL': 'Travel_Rarely', 'ENVIRONMENT_SATISFACTION': 'Low', 'JOB_SATISFACTION': 'Low', 'MARTIAL_STATUS': 'Divorced', 'PERFORMANCE_RATING': 'Excellent', 'RELATIONSHIP_SATISFACTION': 'Medium', 'WORK_LIFE_BALANCE': 'Better', 'SALARY': 63456.001, 'SENIORITY': 3, 'TENURE_MONTHS': 14, 'MONTHS_AFTER_COLLEGE': 51, 'BIRTH_YEAR': 1989, 'AGE': 35, 'OVER_TIME_HOURS': 3, 'PERCENTAGE_SALARY_HIKE': 19}\"}"
   ]
  },
  {
   "cell_type": "code",
   "execution_count": 34,
   "id": "365cec5b",
   "metadata": {},
   "outputs": [
    {
     "name": "stdout",
     "output_type": "stream",
     "text": [
      "Calculating build time metrics\n",
      "\n",
      "Progress: ██████████████████████████████████████████████████████████████████████ 100.0%\n"
     ]
    },
    {
     "data": {
      "application/vnd.jupyter.widget-view+json": {
       "model_id": "002f296a25684c5cb8a09833bffb443c",
       "version_major": 2,
       "version_minor": 0
      },
      "text/plain": [
       "VBox(children=(HTML(value='<style>.grad_1{background: #2468a4;} .grad_2{ color:white; background: #2468a4;}</s…"
      ]
     },
     "metadata": {},
     "output_type": "display_data"
    }
   ],
   "source": [
    "## registering the model in refract.\n",
    "tmp = register_model(pipeline, \n",
    "               score, \n",
    "               name=\"HR_Analytic_ml_model_Final\", \n",
    "               description=\"Final_HR_ANALYTICS_model_trained_using _ml\",\n",
    "               flavour=MLModelFlavours.sklearn,\n",
    "               model_type=\"classification\",\n",
    "               init_script=\"\\\\n pip install fosforml \\\\n pip install seaborn \\\\n pip install snowflake-connector-python[pandas] \\\\n pip install joblib==1.3.2 scikit-learn=1.3.2\",\n",
    "               y_true=y_test,\n",
    "               y_pred=y_pred, \n",
    "               features=X_train.columns,\n",
    "               labels=[0,1],\n",
    "               input_type=\"json\", \n",
    "               explain_ai=True,\n",
    "               prob=y_prob,\n",
    "               x_train=X_train, \n",
    "               x_test=X_test, \n",
    "               y_train=y_train,\n",
    "               y_test=y_test,\n",
    "               feature_names=X_train.columns.tolist(),\n",
    "               original_features=X_train.columns.tolist(),\n",
    "               feature_ids=X_train.columns,\n",
    "               target_names=['NOT LEFT','LEFT'],\n",
    "               kyd=True, kyd_score = True)\n"
   ]
  },
  {
   "cell_type": "code",
   "execution_count": 35,
   "id": "6801d371",
   "metadata": {},
   "outputs": [
    {
     "data": {
      "text/plain": [
       "{'payload': {'MAPPED_ROLE_CLEAN': 'occupational',\n",
       "  'SEX': 'M',\n",
       "  'ETHNICITY': 'API',\n",
       "  'HOSPITAL_TYPE': 'Acute Care - Department of Defense',\n",
       "  'HOSPITAL_OWNERSHIP': 'Voluntary non-profit - Other',\n",
       "  'COMPANY_NAME': 'Encompass Health Corp.',\n",
       "  'CITY': 'Texarkana',\n",
       "  'STATE': 'TX',\n",
       "  'DISTANCE': '5-10 Miles',\n",
       "  'DEGREE_CLEAN': 'Associates Degree',\n",
       "  'BUSINESS_TRAVEL': 'Travel_Rarely',\n",
       "  'ENVIRONMENT_SATISFACTION': 'Very High',\n",
       "  'JOB_SATISFACTION': 'High',\n",
       "  'MARTIAL_STATUS': 'Married',\n",
       "  'PERFORMANCE_RATING': 'Low',\n",
       "  'RELATIONSHIP_SATISFACTION': 'High',\n",
       "  'WORK_LIFE_BALANCE': 'Bad',\n",
       "  'SALARY': 50805.547,\n",
       "  'SENIORITY': 2,\n",
       "  'TENURE_MONTHS': 26,\n",
       "  'MONTHS_AFTER_COLLEGE': 105,\n",
       "  'BIRTH_YEAR': 1981,\n",
       "  'AGE': 43,\n",
       "  'OVER_TIME_HOURS': 3,\n",
       "  'PERCENTAGE_SALARY_HIKE': 21}}"
      ]
     },
     "execution_count": 35,
     "metadata": {},
     "output_type": "execute_result"
    }
   ],
   "source": [
    "payload  = {\"payload\": X_test.iloc[0].to_dict()}\n",
    "payload"
   ]
  },
  {
   "cell_type": "code",
   "execution_count": 37,
   "id": "062e6f9b",
   "metadata": {},
   "outputs": [
    {
     "data": {
      "text/plain": [
       "dict_keys(['MAPPED_ROLE_CLEAN', 'SEX', 'ETHNICITY', 'HOSPITAL_TYPE', 'HOSPITAL_OWNERSHIP', 'COMPANY_NAME', 'CITY', 'STATE', 'DISTANCE', 'DEGREE_CLEAN', 'BUSINESS_TRAVEL', 'ENVIRONMENT_SATISFACTION', 'JOB_SATISFACTION', 'MARTIAL_STATUS', 'PERFORMANCE_RATING', 'RELATIONSHIP_SATISFACTION', 'WORK_LIFE_BALANCE', 'SALARY', 'SENIORITY', 'TENURE_MONTHS', 'MONTHS_AFTER_COLLEGE', 'BIRTH_YEAR', 'AGE', 'OVER_TIME_HOURS', 'PERCENTAGE_SALARY_HIKE'])"
      ]
     },
     "execution_count": 37,
     "metadata": {},
     "output_type": "execute_result"
    }
   ],
   "source": [
    "payload[\"payload\"].keys()"
   ]
  },
  {
   "cell_type": "code",
   "execution_count": 45,
   "id": "ce4ab26a",
   "metadata": {},
   "outputs": [
    {
     "data": {
      "text/plain": [
       "{'data': '1', 'request_id': '55f4640e-337d-4e27-afba-45ae6c20c249'}"
      ]
     },
     "execution_count": 45,
     "metadata": {},
     "output_type": "execute_result"
    }
   ],
   "source": [
    "headers={\"Content-type\":\"application/json\"}\n",
    "url = \"http://svc-de32d652-d845-462d-8e8e-a95b2c068241:5001/hranalyticmlmodelfinal/cf744423-f68a-456b-b737-8b9dd9678361/score\"\n",
    "data={\"payload\": payload}\n",
    "response = requests.post(url, json=data, headers=headers) \n",
    "response.json()"
   ]
  },
  {
   "cell_type": "code",
   "execution_count": 54,
   "id": "628fec7d",
   "metadata": {},
   "outputs": [],
   "source": [
    "result = pipeline.predict(X_test)\n",
    "result_prob = pipeline.predict_proba(X_test)\n",
    "pred_df = X_test.copy()\n",
    "result = result\n",
    "result_prob = result_prob\n",
    "pred_df[\"PREDICTION\"] = result\n",
    "pred_df[\"PROB\"] = result_prob[:, 1]"
   ]
  },
  {
   "cell_type": "code",
   "execution_count": 55,
   "id": "c9e35584",
   "metadata": {},
   "outputs": [
    {
     "name": "stdout",
     "output_type": "stream",
     "text": [
      "       MAPPED_ROLE_CLEAN SEX ETHNICITY                       HOSPITAL_TYPE  \\\n",
      "85051       occupational   M       API  Acute Care - Department of Defense   \n",
      "20907       technologist   F     Black                           Childrens   \n",
      "129259               emt   M     Black                Acute Care Hospitals   \n",
      "137849      technologist   F       API                           Childrens   \n",
      "107412      occupational   M     Black  Acute Care - Department of Defense   \n",
      "\n",
      "                   HOSPITAL_OWNERSHIP                     COMPANY_NAME  \\\n",
      "85051    Voluntary non-profit - Other           Encompass Health Corp.   \n",
      "20907   Voluntary non-profit - Church  24-7 Bright Star Healthcare LLC   \n",
      "129259             Government - Local          National Research Corp.   \n",
      "137849  Voluntary non-profit - Church                Johnson & Johnson   \n",
      "107412          Department of Defense          National Research Corp.   \n",
      "\n",
      "              CITY STATE    DISTANCE       DEGREE_CLEAN  ...      SALARY  \\\n",
      "85051    Texarkana    TX  5-10 Miles  Associates Degree  ...   50805.547   \n",
      "20907   Janesville    WI   2-5 Miles   Bachelors Degree  ...   60478.575   \n",
      "129259    Lakeland    FL    <2 Miles  Associates Degree  ...   53472.527   \n",
      "137849    Gulfport    MS  5-10 Miles    Doctoral Degree  ...   67474.850   \n",
      "107412   Milwaukee    WI   >10 Miles  Associates Degree  ...  104226.636   \n",
      "\n",
      "       SENIORITY TENURE_MONTHS MONTHS_AFTER_COLLEGE BIRTH_YEAR AGE  \\\n",
      "85051          2            26                  105       1981  43   \n",
      "20907          1            45                   99       1987  37   \n",
      "129259         1            27                    4       1987  37   \n",
      "137849         2            34                  102       1983  41   \n",
      "107412         2            14                   60       1985  39   \n",
      "\n",
      "       OVER_TIME_HOURS  PERCENTAGE_SALARY_HIKE  PREDICTION      PROB  \n",
      "85051                3                      21           0  0.485079  \n",
      "20907                6                      11           1  0.579075  \n",
      "129259              15                      14           1  0.579828  \n",
      "137849               5                      11           0  0.486532  \n",
      "107412               8                      13           0  0.320745  \n",
      "\n",
      "[5 rows x 27 columns]\n"
     ]
    }
   ],
   "source": [
    "print(pred_df.head())"
   ]
  },
  {
   "cell_type": "code",
   "execution_count": 57,
   "id": "24ddf064",
   "metadata": {},
   "outputs": [
    {
     "ename": "TypeError",
     "evalue": "list indices must be integers or slices, not str",
     "output_type": "error",
     "traceback": [
      "\u001b[0;31m---------------------------------------------------------------------------\u001b[0m",
      "\u001b[0;31mTypeError\u001b[0m                                 Traceback (most recent call last)",
      "Cell \u001b[0;32mIn[57], line 3\u001b[0m\n\u001b[1;32m      1\u001b[0m \u001b[38;5;66;03m## scores\u001b[39;00m\n\u001b[1;32m      2\u001b[0m \u001b[38;5;28;01mfrom\u001b[39;00m \u001b[38;5;21;01msklearn\u001b[39;00m\u001b[38;5;21;01m.\u001b[39;00m\u001b[38;5;21;01mmetrics\u001b[39;00m \u001b[38;5;28;01mimport\u001b[39;00m classification_report, log_loss, roc_auc_score\n\u001b[0;32m----> 3\u001b[0m y_test_binary \u001b[38;5;241m=\u001b[39m [\u001b[38;5;241m1\u001b[39m \u001b[38;5;28;01mif\u001b[39;00m i  \u001b[38;5;28;01melse\u001b[39;00m \u001b[38;5;241m0\u001b[39m \u001b[38;5;28;01mfor\u001b[39;00m i \u001b[38;5;129;01min\u001b[39;00m \u001b[43my_test\u001b[49m\u001b[43m[\u001b[49m\u001b[38;5;124;43m\"\u001b[39;49m\u001b[38;5;124;43mCHURN\u001b[39;49m\u001b[38;5;124;43m\"\u001b[39;49m\u001b[43m]\u001b[49m]\n\u001b[1;32m      4\u001b[0m y_pred \u001b[38;5;241m=\u001b[39m [\u001b[38;5;28mint\u001b[39m(i) \u001b[38;5;28;01mfor\u001b[39;00m i \u001b[38;5;129;01min\u001b[39;00m pred_df[\u001b[38;5;124m\"\u001b[39m\u001b[38;5;124mPREDICTION\u001b[39m\u001b[38;5;124m\"\u001b[39m]]\n\u001b[1;32m      5\u001b[0m \u001b[38;5;28mprint\u001b[39m(classification_report(y_test_binary, y_pred))\n",
      "\u001b[0;31mTypeError\u001b[0m: list indices must be integers or slices, not str"
     ]
    }
   ],
   "source": [
    "## scores\n",
    "from sklearn.metrics import classification_report, log_loss, roc_auc_score\n",
    "y_test_binary = y_test[\"CHURN\"]\n",
    "y_test_binary = [1 if i  else 0 for i in y_test[\"CHURN\"]]\n",
    "y_pred = [int(i) for i in pred_df[\"PREDICTION\"]]\n",
    "print(classification_report(y_test_binary, y_pred))\n",
    "\n",
    "accuracy = sum([1 if y_test_binary[i] == y_pred[i] else 0 for i in range(len(y_test_binary))]) / len(y_test_binary)\n",
    "print(\"accuracy: \", accuracy )\n",
    "\n",
    "log_loss_value = log_loss(y_test_binary, result_prob)\n",
    "roc_auc = roc_auc_score(y_test_binary, result_prob[:, 1])"
   ]
  },
  {
   "cell_type": "code",
   "execution_count": 50,
   "id": "66996f53",
   "metadata": {},
   "outputs": [
    {
     "ename": "KeyError",
     "evalue": "'PROB'",
     "output_type": "error",
     "traceback": [
      "\u001b[0;31m---------------------------------------------------------------------------\u001b[0m",
      "\u001b[0;31mKeyError\u001b[0m                                  Traceback (most recent call last)",
      "File \u001b[0;32m/tmp/pip_packages/pandas/core/indexes/base.py:3805\u001b[0m, in \u001b[0;36mIndex.get_loc\u001b[0;34m(self, key)\u001b[0m\n\u001b[1;32m   3804\u001b[0m \u001b[38;5;28;01mtry\u001b[39;00m:\n\u001b[0;32m-> 3805\u001b[0m     \u001b[38;5;28;01mreturn\u001b[39;00m \u001b[38;5;28;43mself\u001b[39;49m\u001b[38;5;241;43m.\u001b[39;49m\u001b[43m_engine\u001b[49m\u001b[38;5;241;43m.\u001b[39;49m\u001b[43mget_loc\u001b[49m\u001b[43m(\u001b[49m\u001b[43mcasted_key\u001b[49m\u001b[43m)\u001b[49m\n\u001b[1;32m   3806\u001b[0m \u001b[38;5;28;01mexcept\u001b[39;00m \u001b[38;5;167;01mKeyError\u001b[39;00m \u001b[38;5;28;01mas\u001b[39;00m err:\n",
      "File \u001b[0;32mindex.pyx:167\u001b[0m, in \u001b[0;36mpandas._libs.index.IndexEngine.get_loc\u001b[0;34m()\u001b[0m\n",
      "File \u001b[0;32mindex.pyx:196\u001b[0m, in \u001b[0;36mpandas._libs.index.IndexEngine.get_loc\u001b[0;34m()\u001b[0m\n",
      "File \u001b[0;32mpandas/_libs/hashtable_class_helper.pxi:7081\u001b[0m, in \u001b[0;36mpandas._libs.hashtable.PyObjectHashTable.get_item\u001b[0;34m()\u001b[0m\n",
      "File \u001b[0;32mpandas/_libs/hashtable_class_helper.pxi:7089\u001b[0m, in \u001b[0;36mpandas._libs.hashtable.PyObjectHashTable.get_item\u001b[0;34m()\u001b[0m\n",
      "\u001b[0;31mKeyError\u001b[0m: 'PROB'",
      "\nThe above exception was the direct cause of the following exception:\n",
      "\u001b[0;31mKeyError\u001b[0m                                  Traceback (most recent call last)",
      "Cell \u001b[0;32mIn[50], line 7\u001b[0m\n\u001b[1;32m      5\u001b[0m ns_probs \u001b[38;5;241m=\u001b[39m [\u001b[38;5;241m0\u001b[39m \u001b[38;5;28;01mfor\u001b[39;00m _ \u001b[38;5;129;01min\u001b[39;00m \u001b[38;5;28mrange\u001b[39m(\u001b[38;5;28mlen\u001b[39m(y_test))]\n\u001b[1;32m      6\u001b[0m ns_auc \u001b[38;5;241m=\u001b[39m roc_auc_score(y_test, ns_probs)\n\u001b[0;32m----> 7\u001b[0m lr_auc \u001b[38;5;241m=\u001b[39m roc_auc_score(y_test, \u001b[43mpred_df\u001b[49m\u001b[43m[\u001b[49m\u001b[38;5;124;43m\"\u001b[39;49m\u001b[38;5;124;43mPROB\u001b[39;49m\u001b[38;5;124;43m\"\u001b[39;49m\u001b[43m]\u001b[49m)\n\u001b[1;32m      8\u001b[0m ns_fpr, ns_tpr, _ \u001b[38;5;241m=\u001b[39m roc_curve(y_test, ns_probs)\n\u001b[1;32m      9\u001b[0m lr_fpr, lr_tpr, _ \u001b[38;5;241m=\u001b[39m roc_curve(y_test, pred_df[\u001b[38;5;124m\"\u001b[39m\u001b[38;5;124mPROB\u001b[39m\u001b[38;5;124m\"\u001b[39m])\n",
      "File \u001b[0;32m/tmp/pip_packages/pandas/core/frame.py:4102\u001b[0m, in \u001b[0;36mDataFrame.__getitem__\u001b[0;34m(self, key)\u001b[0m\n\u001b[1;32m   4100\u001b[0m \u001b[38;5;28;01mif\u001b[39;00m \u001b[38;5;28mself\u001b[39m\u001b[38;5;241m.\u001b[39mcolumns\u001b[38;5;241m.\u001b[39mnlevels \u001b[38;5;241m>\u001b[39m \u001b[38;5;241m1\u001b[39m:\n\u001b[1;32m   4101\u001b[0m     \u001b[38;5;28;01mreturn\u001b[39;00m \u001b[38;5;28mself\u001b[39m\u001b[38;5;241m.\u001b[39m_getitem_multilevel(key)\n\u001b[0;32m-> 4102\u001b[0m indexer \u001b[38;5;241m=\u001b[39m \u001b[38;5;28;43mself\u001b[39;49m\u001b[38;5;241;43m.\u001b[39;49m\u001b[43mcolumns\u001b[49m\u001b[38;5;241;43m.\u001b[39;49m\u001b[43mget_loc\u001b[49m\u001b[43m(\u001b[49m\u001b[43mkey\u001b[49m\u001b[43m)\u001b[49m\n\u001b[1;32m   4103\u001b[0m \u001b[38;5;28;01mif\u001b[39;00m is_integer(indexer):\n\u001b[1;32m   4104\u001b[0m     indexer \u001b[38;5;241m=\u001b[39m [indexer]\n",
      "File \u001b[0;32m/tmp/pip_packages/pandas/core/indexes/base.py:3812\u001b[0m, in \u001b[0;36mIndex.get_loc\u001b[0;34m(self, key)\u001b[0m\n\u001b[1;32m   3807\u001b[0m     \u001b[38;5;28;01mif\u001b[39;00m \u001b[38;5;28misinstance\u001b[39m(casted_key, \u001b[38;5;28mslice\u001b[39m) \u001b[38;5;129;01mor\u001b[39;00m (\n\u001b[1;32m   3808\u001b[0m         \u001b[38;5;28misinstance\u001b[39m(casted_key, abc\u001b[38;5;241m.\u001b[39mIterable)\n\u001b[1;32m   3809\u001b[0m         \u001b[38;5;129;01mand\u001b[39;00m \u001b[38;5;28many\u001b[39m(\u001b[38;5;28misinstance\u001b[39m(x, \u001b[38;5;28mslice\u001b[39m) \u001b[38;5;28;01mfor\u001b[39;00m x \u001b[38;5;129;01min\u001b[39;00m casted_key)\n\u001b[1;32m   3810\u001b[0m     ):\n\u001b[1;32m   3811\u001b[0m         \u001b[38;5;28;01mraise\u001b[39;00m InvalidIndexError(key)\n\u001b[0;32m-> 3812\u001b[0m     \u001b[38;5;28;01mraise\u001b[39;00m \u001b[38;5;167;01mKeyError\u001b[39;00m(key) \u001b[38;5;28;01mfrom\u001b[39;00m \u001b[38;5;21;01merr\u001b[39;00m\n\u001b[1;32m   3813\u001b[0m \u001b[38;5;28;01mexcept\u001b[39;00m \u001b[38;5;167;01mTypeError\u001b[39;00m:\n\u001b[1;32m   3814\u001b[0m     \u001b[38;5;66;03m# If we have a listlike key, _check_indexing_error will raise\u001b[39;00m\n\u001b[1;32m   3815\u001b[0m     \u001b[38;5;66;03m#  InvalidIndexError. Otherwise we fall through and re-raise\u001b[39;00m\n\u001b[1;32m   3816\u001b[0m     \u001b[38;5;66;03m#  the TypeError.\u001b[39;00m\n\u001b[1;32m   3817\u001b[0m     \u001b[38;5;28mself\u001b[39m\u001b[38;5;241m.\u001b[39m_check_indexing_error(key)\n",
      "\u001b[0;31mKeyError\u001b[0m: 'PROB'"
     ]
    }
   ],
   "source": [
    "from sklearn.metrics import roc_curve, precision_recall_curve, confusion_matrix\n",
    "from sklearn.metrics import roc_auc_score\n",
    "from matplotlib import pyplot as plt\n",
    "import seaborn as sns\n",
    "ns_probs = [0 for _ in range(len(y_test))]\n",
    "ns_auc = roc_auc_score(y_test, ns_probs)\n",
    "lr_auc = roc_auc_score(y_test, pred_df[\"PROB\"])\n",
    "ns_fpr, ns_tpr, _ = roc_curve(y_test, ns_probs)\n",
    "lr_fpr, lr_tpr, _ = roc_curve(y_test, pred_df[\"PROB\"])\n",
    "# plot the roc curve for the model\n",
    "plt.plot(ns_fpr, ns_tpr, linestyle='--', label='No Skill')\n",
    "plt.plot(lr_fpr, lr_tpr, marker='.', label='Radnomforest')\n",
    "# axis labels\n",
    "plt.xlabel('False Positive Rate')\n",
    "plt.ylabel('True Positive Rate')\n",
    "# show the legend\n",
    "plt.legend()\n",
    "# show the plot\n",
    "plt.show()"
   ]
  },
  {
   "cell_type": "code",
   "execution_count": null,
   "id": "60f65372",
   "metadata": {},
   "outputs": [],
   "source": []
  },
  {
   "cell_type": "code",
   "execution_count": null,
   "id": "cb76e3e1",
   "metadata": {},
   "outputs": [],
   "source": []
  }
 ],
 "metadata": {
  "kernelspec": {
   "display_name": "Python 3",
   "language": "python",
   "name": "python3"
  },
  "language_info": {
   "codemirror_mode": {
    "name": "ipython",
    "version": 3
   },
   "file_extension": ".py",
   "mimetype": "text/x-python",
   "name": "python",
   "nbconvert_exporter": "python",
   "pygments_lexer": "ipython3",
   "version": "3.9.18"
  }
 },
 "nbformat": 4,
 "nbformat_minor": 5
}
