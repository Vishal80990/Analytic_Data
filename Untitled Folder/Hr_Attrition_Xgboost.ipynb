{
 "cells": [
  {
   "cell_type": "code",
   "execution_count": null,
   "id": "31dfead6",
   "metadata": {},
   "outputs": [],
   "source": [
    "!pip install --upgrade pip\n",
    "!pip install fosforml numpy pandas matplotlib scikit-learn seaborn python-dateutil\n",
    "!pip uninstall urllib3 -y\n",
    "!pip install urllib3==1.26.15\n",
    "!pip install fosforml \n",
    "!pip install fosforio\n",
    "!pip install refractio\n",
    "!pip install refractml"
   ]
  },
  {
   "cell_type": "code",
   "execution_count": null,
   "id": "a17ea3da",
   "metadata": {},
   "outputs": [],
   "source": [
    "!pip install seaborn scipy xgboost pandas dice-ml tabulate numpy scikit-learn pandas-profiling plotly matplotlib scipy statsmodels seaborn pydantic-settings"
   ]
  },
  {
   "cell_type": "code",
   "execution_count": 1,
   "id": "a691ecc0",
   "metadata": {},
   "outputs": [],
   "source": [
    "import pandas as pd\n",
    "import numpy as np\n",
    "import matplotlib.pyplot as plt\n",
    "from sklearn.preprocessing import LabelEncoder, MinMaxScaler, OneHotEncoder, OrdinalEncoder\n",
    "from sklearn.model_selection import train_test_split\n",
    "from sklearn.ensemble import RandomForestClassifier\n",
    "from sklearn.metrics import accuracy_score, confusion_matrix, classification_report\n",
    "import seaborn as sns\n",
    "from scipy.stats.mstats import winsorize\n",
    "from xgboost import XGBClassifier\n",
    "from sklearn.compose import ColumnTransformer\n",
    "from sklearn.ensemble import RandomForestClassifier\n",
    "from sklearn.pipeline import Pipeline\n",
    "import joblib\n",
    "from fosforml import *\n",
    "from fosforml.constants import MLModelFlavours\n",
    "import warnings\n",
    "warnings.filterwarnings(\"ignore\", message=\"numpy.dtype size changed\")\n",
    "warnings.filterwarnings(\"ignore\", message=\"numpy.ufunc size changed\")"
   ]
  },
  {
   "cell_type": "code",
   "execution_count": 2,
   "id": "29b47895",
   "metadata": {},
   "outputs": [
    {
     "name": "stdout",
     "output_type": "stream",
     "text": [
      "Connection manager service url initialised to http://fdc-project-manager:80/project-manager\n",
      "If you need to update its value then update the variable CONNECTION_MANAGER_BASE_URL in os env.\n",
      "Exception occurred in getting snowflake connection: 'connectionSources'\n"
     ]
    }
   ],
   "source": [
    "from refractio import snowflake\n",
    "snowflake.get_connection(connection_name=\"HR_ATTRITION\")"
   ]
  },
  {
   "cell_type": "code",
   "execution_count": 3,
   "id": "cb971b9c",
   "metadata": {},
   "outputs": [
    {
     "data": {
      "text/html": [
       "<div>\n",
       "<style scoped>\n",
       "    .dataframe tbody tr th:only-of-type {\n",
       "        vertical-align: middle;\n",
       "    }\n",
       "\n",
       "    .dataframe tbody tr th {\n",
       "        vertical-align: top;\n",
       "    }\n",
       "\n",
       "    .dataframe thead th {\n",
       "        text-align: right;\n",
       "    }\n",
       "</style>\n",
       "<table border=\"1\" class=\"dataframe\">\n",
       "  <thead>\n",
       "    <tr style=\"text-align: right;\">\n",
       "      <th></th>\n",
       "      <th>SALARY</th>\n",
       "      <th>EMPLOYEE_ID</th>\n",
       "      <th>JOB_SATISFACTION</th>\n",
       "      <th>PERCENTAGE_SALARY_HIKE</th>\n",
       "      <th>PERFORMANCE_RATING</th>\n",
       "      <th>OVER_TIME</th>\n",
       "      <th>RELATIONSHIP_SATISFACTION</th>\n",
       "      <th>CHURN_VALUE</th>\n",
       "      <th>CHURN</th>\n",
       "      <th>MAPPED_ROLE</th>\n",
       "      <th>...</th>\n",
       "      <th>CHURN_F</th>\n",
       "      <th>SUM_OF_TENURE</th>\n",
       "      <th>SUM_OF_AGE</th>\n",
       "      <th>JOB_STARTDATE</th>\n",
       "      <th>JOB_ENDDATE</th>\n",
       "      <th>OVERTIME_HOURS</th>\n",
       "      <th>WORK_LIFE_BALANCE</th>\n",
       "      <th>BUSINESS_TRAVEL</th>\n",
       "      <th>ENVIRONMENT_SATISFACTION</th>\n",
       "      <th>USER_ID</th>\n",
       "    </tr>\n",
       "  </thead>\n",
       "  <tbody>\n",
       "    <tr>\n",
       "      <th>0</th>\n",
       "      <td>43118.65</td>\n",
       "      <td>94215814</td>\n",
       "      <td>High</td>\n",
       "      <td>20</td>\n",
       "      <td>Outstanding</td>\n",
       "      <td>No</td>\n",
       "      <td>Medium</td>\n",
       "      <td>FALSE</td>\n",
       "      <td>0</td>\n",
       "      <td>Manager</td>\n",
       "      <td>...</td>\n",
       "      <td>0</td>\n",
       "      <td>0</td>\n",
       "      <td>0</td>\n",
       "      <td>2016-06-01</td>\n",
       "      <td>2019-08-01</td>\n",
       "      <td>4</td>\n",
       "      <td>Best</td>\n",
       "      <td>Travel Rarely</td>\n",
       "      <td>Medium</td>\n",
       "      <td>334493477</td>\n",
       "    </tr>\n",
       "    <tr>\n",
       "      <th>1</th>\n",
       "      <td>40808.18</td>\n",
       "      <td>72815065</td>\n",
       "      <td>Very High</td>\n",
       "      <td>12</td>\n",
       "      <td>Low</td>\n",
       "      <td>No</td>\n",
       "      <td>Very High</td>\n",
       "      <td>TRUE</td>\n",
       "      <td>1</td>\n",
       "      <td>Manager</td>\n",
       "      <td>...</td>\n",
       "      <td>0</td>\n",
       "      <td>0</td>\n",
       "      <td>0</td>\n",
       "      <td>2015-05-01</td>\n",
       "      <td>None</td>\n",
       "      <td>7</td>\n",
       "      <td>Best</td>\n",
       "      <td>Travel Frequently</td>\n",
       "      <td>Low</td>\n",
       "      <td>713161033</td>\n",
       "    </tr>\n",
       "    <tr>\n",
       "      <th>2</th>\n",
       "      <td>36394.69</td>\n",
       "      <td>14265310</td>\n",
       "      <td>Low</td>\n",
       "      <td>13</td>\n",
       "      <td>Good</td>\n",
       "      <td>No</td>\n",
       "      <td>Medium</td>\n",
       "      <td>FALSE</td>\n",
       "      <td>0</td>\n",
       "      <td>Manager</td>\n",
       "      <td>...</td>\n",
       "      <td>0</td>\n",
       "      <td>0</td>\n",
       "      <td>0</td>\n",
       "      <td>2017-06-01</td>\n",
       "      <td>2018-07-01</td>\n",
       "      <td>8</td>\n",
       "      <td>Good</td>\n",
       "      <td>Travel Rarely</td>\n",
       "      <td>High</td>\n",
       "      <td>154131612</td>\n",
       "    </tr>\n",
       "    <tr>\n",
       "      <th>3</th>\n",
       "      <td>96880.66</td>\n",
       "      <td>38467325</td>\n",
       "      <td>Low</td>\n",
       "      <td>21</td>\n",
       "      <td>Good</td>\n",
       "      <td>No</td>\n",
       "      <td>Very High</td>\n",
       "      <td>FALSE</td>\n",
       "      <td>0</td>\n",
       "      <td>Manager</td>\n",
       "      <td>...</td>\n",
       "      <td>0</td>\n",
       "      <td>0</td>\n",
       "      <td>0</td>\n",
       "      <td>2019-09-01</td>\n",
       "      <td>2024-07-01</td>\n",
       "      <td>14</td>\n",
       "      <td>Bad</td>\n",
       "      <td>Travel Rarely</td>\n",
       "      <td>Very High</td>\n",
       "      <td>518711452</td>\n",
       "    </tr>\n",
       "    <tr>\n",
       "      <th>4</th>\n",
       "      <td>97579.66</td>\n",
       "      <td>98539130</td>\n",
       "      <td>High</td>\n",
       "      <td>17</td>\n",
       "      <td>Good</td>\n",
       "      <td>No</td>\n",
       "      <td>Low</td>\n",
       "      <td>FALSE</td>\n",
       "      <td>0</td>\n",
       "      <td>Software Engineer</td>\n",
       "      <td>...</td>\n",
       "      <td>0</td>\n",
       "      <td>0</td>\n",
       "      <td>0</td>\n",
       "      <td>2019-09-01</td>\n",
       "      <td>2024-08-01</td>\n",
       "      <td>9</td>\n",
       "      <td>Best</td>\n",
       "      <td>Travel Frequently</td>\n",
       "      <td>Low</td>\n",
       "      <td>518711452</td>\n",
       "    </tr>\n",
       "    <tr>\n",
       "      <th>...</th>\n",
       "      <td>...</td>\n",
       "      <td>...</td>\n",
       "      <td>...</td>\n",
       "      <td>...</td>\n",
       "      <td>...</td>\n",
       "      <td>...</td>\n",
       "      <td>...</td>\n",
       "      <td>...</td>\n",
       "      <td>...</td>\n",
       "      <td>...</td>\n",
       "      <td>...</td>\n",
       "      <td>...</td>\n",
       "      <td>...</td>\n",
       "      <td>...</td>\n",
       "      <td>...</td>\n",
       "      <td>...</td>\n",
       "      <td>...</td>\n",
       "      <td>...</td>\n",
       "      <td>...</td>\n",
       "      <td>...</td>\n",
       "      <td>...</td>\n",
       "    </tr>\n",
       "    <tr>\n",
       "      <th>299995</th>\n",
       "      <td>101713.50</td>\n",
       "      <td>66752547</td>\n",
       "      <td>Low</td>\n",
       "      <td>17</td>\n",
       "      <td>Good</td>\n",
       "      <td>No</td>\n",
       "      <td>Very High</td>\n",
       "      <td>FALSE</td>\n",
       "      <td>0</td>\n",
       "      <td>Team Lead</td>\n",
       "      <td>...</td>\n",
       "      <td>0</td>\n",
       "      <td>0</td>\n",
       "      <td>0</td>\n",
       "      <td>2021-12-01</td>\n",
       "      <td>2023-06-01</td>\n",
       "      <td>1</td>\n",
       "      <td>Good</td>\n",
       "      <td>Travel Rarely</td>\n",
       "      <td>Low</td>\n",
       "      <td>492160448</td>\n",
       "    </tr>\n",
       "    <tr>\n",
       "      <th>299996</th>\n",
       "      <td>101640.50</td>\n",
       "      <td>61579487</td>\n",
       "      <td>High</td>\n",
       "      <td>13</td>\n",
       "      <td>Excellent</td>\n",
       "      <td>No</td>\n",
       "      <td>Very High</td>\n",
       "      <td>FALSE</td>\n",
       "      <td>0</td>\n",
       "      <td>Team Lead</td>\n",
       "      <td>...</td>\n",
       "      <td>0</td>\n",
       "      <td>0</td>\n",
       "      <td>0</td>\n",
       "      <td>2021-12-01</td>\n",
       "      <td>2023-06-01</td>\n",
       "      <td>1</td>\n",
       "      <td>Best</td>\n",
       "      <td>Travel Frequently</td>\n",
       "      <td>Low</td>\n",
       "      <td>492160448</td>\n",
       "    </tr>\n",
       "    <tr>\n",
       "      <th>299997</th>\n",
       "      <td>101998.50</td>\n",
       "      <td>48056583</td>\n",
       "      <td>Very High</td>\n",
       "      <td>21</td>\n",
       "      <td>Outstanding</td>\n",
       "      <td>No</td>\n",
       "      <td>Medium</td>\n",
       "      <td>FALSE</td>\n",
       "      <td>0</td>\n",
       "      <td>Technical Support</td>\n",
       "      <td>...</td>\n",
       "      <td>0</td>\n",
       "      <td>0</td>\n",
       "      <td>0</td>\n",
       "      <td>2021-12-01</td>\n",
       "      <td>2023-06-01</td>\n",
       "      <td>1</td>\n",
       "      <td>Good</td>\n",
       "      <td>Travel Rarely</td>\n",
       "      <td>Low</td>\n",
       "      <td>492160448</td>\n",
       "    </tr>\n",
       "    <tr>\n",
       "      <th>299998</th>\n",
       "      <td>101306.50</td>\n",
       "      <td>86413761</td>\n",
       "      <td>Medium</td>\n",
       "      <td>20</td>\n",
       "      <td>Low</td>\n",
       "      <td>No</td>\n",
       "      <td>Low</td>\n",
       "      <td>FALSE</td>\n",
       "      <td>0</td>\n",
       "      <td>Technical Support</td>\n",
       "      <td>...</td>\n",
       "      <td>609</td>\n",
       "      <td>37548</td>\n",
       "      <td>9563</td>\n",
       "      <td>2021-12-01</td>\n",
       "      <td>2023-06-01</td>\n",
       "      <td>1</td>\n",
       "      <td>Best</td>\n",
       "      <td>Travel Frequently</td>\n",
       "      <td>Medium</td>\n",
       "      <td>492160448</td>\n",
       "    </tr>\n",
       "    <tr>\n",
       "      <th>299999</th>\n",
       "      <td>96701.50</td>\n",
       "      <td>22526637</td>\n",
       "      <td>High</td>\n",
       "      <td>14</td>\n",
       "      <td>Low</td>\n",
       "      <td>Yes</td>\n",
       "      <td>Very High</td>\n",
       "      <td>FALSE</td>\n",
       "      <td>0</td>\n",
       "      <td>System Administrator</td>\n",
       "      <td>...</td>\n",
       "      <td>0</td>\n",
       "      <td>0</td>\n",
       "      <td>0</td>\n",
       "      <td>2021-12-01</td>\n",
       "      <td>2023-06-01</td>\n",
       "      <td>1</td>\n",
       "      <td>Bad</td>\n",
       "      <td>Travel Rarely</td>\n",
       "      <td>Medium</td>\n",
       "      <td>492160448</td>\n",
       "    </tr>\n",
       "  </tbody>\n",
       "</table>\n",
       "<p>300000 rows × 40 columns</p>\n",
       "</div>"
      ],
      "text/plain": [
       "           SALARY EMPLOYEE_ID JOB_SATISFACTION  PERCENTAGE_SALARY_HIKE  \\\n",
       "0        43118.65    94215814             High                      20   \n",
       "1        40808.18    72815065        Very High                      12   \n",
       "2        36394.69    14265310              Low                      13   \n",
       "3        96880.66    38467325              Low                      21   \n",
       "4        97579.66    98539130             High                      17   \n",
       "...           ...         ...              ...                     ...   \n",
       "299995  101713.50    66752547              Low                      17   \n",
       "299996  101640.50    61579487             High                      13   \n",
       "299997  101998.50    48056583        Very High                      21   \n",
       "299998  101306.50    86413761           Medium                      20   \n",
       "299999   96701.50    22526637             High                      14   \n",
       "\n",
       "       PERFORMANCE_RATING OVER_TIME RELATIONSHIP_SATISFACTION CHURN_VALUE  \\\n",
       "0             Outstanding        No                    Medium       FALSE   \n",
       "1                     Low        No                 Very High        TRUE   \n",
       "2                    Good        No                    Medium       FALSE   \n",
       "3                    Good        No                 Very High       FALSE   \n",
       "4                    Good        No                       Low       FALSE   \n",
       "...                   ...       ...                       ...         ...   \n",
       "299995               Good        No                 Very High       FALSE   \n",
       "299996          Excellent        No                 Very High       FALSE   \n",
       "299997        Outstanding        No                    Medium       FALSE   \n",
       "299998                Low        No                       Low       FALSE   \n",
       "299999                Low       Yes                 Very High       FALSE   \n",
       "\n",
       "        CHURN           MAPPED_ROLE  ... CHURN_F SUM_OF_TENURE SUM_OF_AGE  \\\n",
       "0           0               Manager  ...       0             0          0   \n",
       "1           1               Manager  ...       0             0          0   \n",
       "2           0               Manager  ...       0             0          0   \n",
       "3           0               Manager  ...       0             0          0   \n",
       "4           0     Software Engineer  ...       0             0          0   \n",
       "...       ...                   ...  ...     ...           ...        ...   \n",
       "299995      0             Team Lead  ...       0             0          0   \n",
       "299996      0             Team Lead  ...       0             0          0   \n",
       "299997      0     Technical Support  ...       0             0          0   \n",
       "299998      0     Technical Support  ...     609         37548       9563   \n",
       "299999      0  System Administrator  ...       0             0          0   \n",
       "\n",
       "       JOB_STARTDATE JOB_ENDDATE OVERTIME_HOURS WORK_LIFE_BALANCE  \\\n",
       "0         2016-06-01  2019-08-01              4              Best   \n",
       "1         2015-05-01        None              7              Best   \n",
       "2         2017-06-01  2018-07-01              8              Good   \n",
       "3         2019-09-01  2024-07-01             14               Bad   \n",
       "4         2019-09-01  2024-08-01              9              Best   \n",
       "...              ...         ...            ...               ...   \n",
       "299995    2021-12-01  2023-06-01              1              Good   \n",
       "299996    2021-12-01  2023-06-01              1              Best   \n",
       "299997    2021-12-01  2023-06-01              1              Good   \n",
       "299998    2021-12-01  2023-06-01              1              Best   \n",
       "299999    2021-12-01  2023-06-01              1               Bad   \n",
       "\n",
       "          BUSINESS_TRAVEL ENVIRONMENT_SATISFACTION    USER_ID  \n",
       "0           Travel Rarely                   Medium  334493477  \n",
       "1       Travel Frequently                      Low  713161033  \n",
       "2           Travel Rarely                     High  154131612  \n",
       "3           Travel Rarely                Very High  518711452  \n",
       "4       Travel Frequently                      Low  518711452  \n",
       "...                   ...                      ...        ...  \n",
       "299995      Travel Rarely                      Low  492160448  \n",
       "299996  Travel Frequently                      Low  492160448  \n",
       "299997      Travel Rarely                      Low  492160448  \n",
       "299998  Travel Frequently                   Medium  492160448  \n",
       "299999      Travel Rarely                   Medium  492160448  \n",
       "\n",
       "[300000 rows x 40 columns]"
      ]
     },
     "execution_count": 3,
     "metadata": {},
     "output_type": "execute_result"
    }
   ],
   "source": [
    "df = snowflake.get_dataframe(\"HR_ATTRITION\")\n",
    "df"
   ]
  },
  {
   "cell_type": "code",
   "execution_count": 4,
   "id": "764c87ee",
   "metadata": {},
   "outputs": [
    {
     "name": "stdout",
     "output_type": "stream",
     "text": [
      "SALARY                                             0\n",
      "EMPLOYEE_ID                                        0\n",
      "JOB_SATISFACTION                                   0\n",
      "PERCENTAGE_SALARY_HIKE                             0\n",
      "PERFORMANCE_RATING                                 0\n",
      "OVER_TIME                                          0\n",
      "RELATIONSHIP_SATISFACTION                          0\n",
      "CHURN_VALUE                                        0\n",
      "CHURN                                              0\n",
      "MAPPED_ROLE                                        0\n",
      "ORGANISATIONAL_TYPE                                0\n",
      "ORGANISATIONAL_OWNERSHIP                           0\n",
      "COMPANY_NAME                                       0\n",
      "CITY                                               0\n",
      "STATE                                              0\n",
      "DISTANCE                                           0\n",
      "DEGREE_CLEAN                                       0\n",
      "SEX                                                0\n",
      "ETHNICITY                                          0\n",
      "MARITAL_STATUS                                     0\n",
      "TENURE_MONTHS                                      0\n",
      "BIRTH_YEAR                                         0\n",
      "AGE                                                0\n",
      "SENIORITY                                          0\n",
      "SCHOOL_ENDDATE                                     0\n",
      "MONTHS_AFTER_COLLEGE                               0\n",
      "PEOPLE_JOINED_BEFORE_AND_LEFT_IN_THIS_MONTH        0\n",
      "PEOPLE_JOINED_AND_NEVER_LEFT                       0\n",
      "POPULATION                                         0\n",
      "CHURN_OTHER                                        0\n",
      "CHURN_F                                            0\n",
      "SUM_OF_TENURE                                      0\n",
      "SUM_OF_AGE                                         0\n",
      "JOB_STARTDATE                                      0\n",
      "JOB_ENDDATE                                    90076\n",
      "OVERTIME_HOURS                                     0\n",
      "WORK_LIFE_BALANCE                                  0\n",
      "BUSINESS_TRAVEL                                    0\n",
      "ENVIRONMENT_SATISFACTION                           0\n",
      "USER_ID                                            0\n",
      "dtype: int64\n"
     ]
    }
   ],
   "source": [
    "print(df.isnull().sum())"
   ]
  },
  {
   "cell_type": "code",
   "execution_count": 5,
   "id": "5fa74ef6",
   "metadata": {},
   "outputs": [],
   "source": [
    "Original_df = df.dropna()"
   ]
  },
  {
   "cell_type": "code",
   "execution_count": 6,
   "id": "90b8371e",
   "metadata": {},
   "outputs": [
    {
     "name": "stdout",
     "output_type": "stream",
     "text": [
      "SALARY                                         0\n",
      "EMPLOYEE_ID                                    0\n",
      "JOB_SATISFACTION                               0\n",
      "PERCENTAGE_SALARY_HIKE                         0\n",
      "PERFORMANCE_RATING                             0\n",
      "OVER_TIME                                      0\n",
      "RELATIONSHIP_SATISFACTION                      0\n",
      "CHURN_VALUE                                    0\n",
      "CHURN                                          0\n",
      "MAPPED_ROLE                                    0\n",
      "ORGANISATIONAL_TYPE                            0\n",
      "ORGANISATIONAL_OWNERSHIP                       0\n",
      "COMPANY_NAME                                   0\n",
      "CITY                                           0\n",
      "STATE                                          0\n",
      "DISTANCE                                       0\n",
      "DEGREE_CLEAN                                   0\n",
      "SEX                                            0\n",
      "ETHNICITY                                      0\n",
      "MARITAL_STATUS                                 0\n",
      "TENURE_MONTHS                                  0\n",
      "BIRTH_YEAR                                     0\n",
      "AGE                                            0\n",
      "SENIORITY                                      0\n",
      "SCHOOL_ENDDATE                                 0\n",
      "MONTHS_AFTER_COLLEGE                           0\n",
      "PEOPLE_JOINED_BEFORE_AND_LEFT_IN_THIS_MONTH    0\n",
      "PEOPLE_JOINED_AND_NEVER_LEFT                   0\n",
      "POPULATION                                     0\n",
      "CHURN_OTHER                                    0\n",
      "CHURN_F                                        0\n",
      "SUM_OF_TENURE                                  0\n",
      "SUM_OF_AGE                                     0\n",
      "JOB_STARTDATE                                  0\n",
      "JOB_ENDDATE                                    0\n",
      "OVERTIME_HOURS                                 0\n",
      "WORK_LIFE_BALANCE                              0\n",
      "BUSINESS_TRAVEL                                0\n",
      "ENVIRONMENT_SATISFACTION                       0\n",
      "USER_ID                                        0\n",
      "dtype: int64\n"
     ]
    }
   ],
   "source": [
    "print(Original_df.isnull().sum())"
   ]
  },
  {
   "cell_type": "code",
   "execution_count": 25,
   "id": "a3e57f1f",
   "metadata": {},
   "outputs": [],
   "source": [
    "df = Original_df.drop([\"USER_ID\", \"EMPLOYEE_ID\", \"JOB_STARTDATE\", \"JOB_ENDDATE\", \"SCHOOL_ENDDATE\",\"CHURN_VALUE\",\"PEOPLE_JOINED_BEFORE_AND_LEFT_IN_THIS_MONTH\",\"PEOPLE_JOINED_AND_NEVER_LEFT\",\"POPULATION\",\"CHURN_OTHER\",\"CHURN_F\",\"SUM_OF_TENURE\",\"SUM_OF_AGE\"], axis = 1)"
   ]
  },
  {
   "cell_type": "code",
   "execution_count": 26,
   "id": "edb75bd1",
   "metadata": {},
   "outputs": [],
   "source": [
    "CATEGORICAL_COLUMNS = [\"MAPPED_ROLE\",\"SEX\", \"ETHNICITY\",\"ORGANISATIONAL_TYPE\", \"ORGANISATIONAL_OWNERSHIP\",\"COMPANY_NAME\",\"CITY\",\"STATE\",\"DISTANCE\",\n",
    "                       \"DEGREE_CLEAN\",\"BUSINESS_TRAVEL\",\"ENVIRONMENT_SATISFACTION\",\"JOB_SATISFACTION\",\"MARITAL_STATUS\",\"OVER_TIME\",\"PERFORMANCE_RATING\",\"RELATIONSHIP_SATISFACTION\",\"WORK_LIFE_BALANCE\"]\n",
    "NUMERICAL_COLUMNS = [\"SALARY\", \"SENIORITY\", \"TENURE_MONTHS\", \"MONTHS_AFTER_COLLEGE\", \"BIRTH_YEAR\",\"AGE\",\"OVERTIME_HOURS\",\"PERCENTAGE_SALARY_HIKE\"]\n",
    "LABEL_COLUMNS = [\"CHURN\"]\n",
    "DROPPED_COLUMNS = [\"USER_ID\", \"EMPLOYEE_ID\", \"JOB_STARTDATE\", \"JOB_ENDDATE\", \"SCHOOL_ENDDATE\",\"CHURN_VALUE\",\"PEOPLE_JOINED_BEFORE_AND_LEFT_IN_THIS_MONTH\",\"PEOPLE_JOINED_AND_NEVER_LEFT\",\"POPULATION\",\"CHURN_OTHER\",\"CHURN_F\",\"SUM_OF_TENURE\",\"SUM_OF_AGE\"]\n",
    "OUTPUT_COLUMNS = [\"PREDICTION\"]"
   ]
  },
  {
   "cell_type": "code",
   "execution_count": 27,
   "id": "18d1035a",
   "metadata": {},
   "outputs": [],
   "source": [
    "# Filter feature columns\n",
    "feature_columns = CATEGORICAL_COLUMNS + NUMERICAL_COLUMNS\n",
    "feature_columns = [col for col in feature_columns if col in df.columns]\n",
    "LABEL_COLUMNS = [col for col in LABEL_COLUMNS if col in df.columns]\n",
    "dropped_columns = [col for col in DROPPED_COLUMNS if col in df.columns]\n",
    " \n",
    "# Split data into features and labels\n",
    "X = df[feature_columns + dropped_columns]\n",
    "y = df[LABEL_COLUMNS].values.ravel()  # Flatten to 1D array for consistency"
   ]
  },
  {
   "cell_type": "code",
   "execution_count": 28,
   "id": "807b5f9a",
   "metadata": {},
   "outputs": [],
   "source": [
    "from sklearn.model_selection import train_test_split"
   ]
  },
  {
   "cell_type": "code",
   "execution_count": 29,
   "id": "9cf2c0c3",
   "metadata": {},
   "outputs": [],
   "source": [
    "X_train, X_test, y_train, y_test = train_test_split(X, y, test_size=0.20, random_state=42)"
   ]
  },
  {
   "cell_type": "code",
   "execution_count": 30,
   "id": "235a6287",
   "metadata": {},
   "outputs": [],
   "source": [
    "from sklearn.pipeline import Pipeline\n",
    "from sklearn.preprocessing import OrdinalEncoder, MinMaxScaler\n",
    "from xgboost import XGBClassifier\n",
    "from sklearn.compose import ColumnTransformer\n",
    "from sklearn.impute import SimpleImputer\n",
    "from sklearn.pipeline import make_pipeline\n",
    " \n",
    "# Define transformers\n",
    "categorical_transformer = make_pipeline(\n",
    "    SimpleImputer(strategy='constant', fill_value='missing'),\n",
    "    OrdinalEncoder(handle_unknown='use_encoded_value', unknown_value=-1)\n",
    ")\n",
    " \n",
    "numerical_transformer = make_pipeline(\n",
    "    SimpleImputer(strategy='mean'),\n",
    "    MinMaxScaler(clip=True)\n",
    ")\n",
    " \n",
    "# Create preprocessor\n",
    "preprocessor = ColumnTransformer(\n",
    "    transformers=[\n",
    "        ('cat', categorical_transformer, CATEGORICAL_COLUMNS),\n",
    "        ('num', numerical_transformer, NUMERICAL_COLUMNS)\n",
    "    ]\n",
    ")\n",
    " \n",
    "# Create pipeline\n",
    "pipeline = Pipeline(steps=[\n",
    "    ('preprocessor', preprocessor),\n",
    "    ('classifier', XGBClassifier())\n",
    "])\n",
    "\n",
    "pipeline.fit(X_train, y_train)\n",
    "result = pipeline.predict(X_test)"
   ]
  },
  {
   "cell_type": "code",
   "execution_count": 31,
   "id": "6e026fee",
   "metadata": {},
   "outputs": [
    {
     "data": {
      "text/plain": [
       "array([1, 1, 1, ..., 1, 0, 0])"
      ]
     },
     "execution_count": 31,
     "metadata": {},
     "output_type": "execute_result"
    }
   ],
   "source": [
    "result"
   ]
  },
  {
   "cell_type": "code",
   "execution_count": 32,
   "id": "ab366cd4",
   "metadata": {},
   "outputs": [
    {
     "data": {
      "text/plain": [
       "['HR_Attrition_V1.joblib']"
      ]
     },
     "execution_count": 32,
     "metadata": {},
     "output_type": "execute_result"
    }
   ],
   "source": [
    "from joblib import dump, load\n",
    "filename = \"HR_Attrition_V1.joblib\"\n",
    "dump(pipeline, filename)"
   ]
  },
  {
   "cell_type": "code",
   "execution_count": 33,
   "id": "72d2322d",
   "metadata": {},
   "outputs": [],
   "source": [
    "y_pred = pipeline.predict(X_test)\n",
    "y_prob = pipeline.predict_proba(X_test)"
   ]
  },
  {
   "cell_type": "code",
   "execution_count": 34,
   "id": "00040061",
   "metadata": {},
   "outputs": [],
   "source": [
    "from refractml import *\n",
    "\n",
    "from refractml.constants import MLModelFlavours"
   ]
  },
  {
   "cell_type": "code",
   "execution_count": 35,
   "id": "fbff2f15",
   "metadata": {},
   "outputs": [],
   "source": [
    "@scoring_func\n",
    "def score(model, request):\n",
    "    payload_dict = request.json[\"payload\"]\n",
    "    data_json = eval(payload)\n",
    "    data = pd.DataFrame([data_json])\n",
    "    prediction = str(model.predict(data)[0])\n",
    "    return prediction"
   ]
  },
  {
   "cell_type": "code",
   "execution_count": 36,
   "id": "dbc0c242",
   "metadata": {},
   "outputs": [
    {
     "name": "stdout",
     "output_type": "stream",
     "text": [
      "1\n"
     ]
    }
   ],
   "source": [
    "import requests\n",
    "import datetime\n",
    "import pandas as pd \n",
    "payload = str(X_test.iloc[123].to_dict())\n",
    "req = requests.Request()\n",
    "req.json = {\"payload\": payload}\n",
    "\n",
    "print(score(pipeline, req))"
   ]
  },
  {
   "cell_type": "code",
   "execution_count": 37,
   "id": "aeb06aa5",
   "metadata": {},
   "outputs": [
    {
     "data": {
      "text/plain": [
       "{'payload': \"{'MAPPED_ROLE': 'Web Developer', 'SEX': 'F', 'ETHNICITY': 'Multiple', 'ORGANISATIONAL_TYPE': 'Social Services', 'ORGANISATIONAL_OWNERSHIP': 'Nonprofit', 'COMPANY_NAME': 'Phoenix Foundation', 'CITY': 'Cleveland', 'STATE': 'OH', 'DISTANCE': '5-10 miles', 'DEGREE_CLEAN': 'Bachelors Degree', 'BUSINESS_TRAVEL': 'Travel Rarely', 'ENVIRONMENT_SATISFACTION': 'Medium', 'JOB_SATISFACTION': 'Low', 'MARITAL_STATUS': 'Single', 'OVER_TIME': 'Yes', 'PERFORMANCE_RATING': 'Excellent', 'RELATIONSHIP_SATISFACTION': 'Very High', 'WORK_LIFE_BALANCE': 'Bad', 'SALARY': 49296.99, 'SENIORITY': 1, 'TENURE_MONTHS': 12, 'MONTHS_AFTER_COLLEGE': 68, 'BIRTH_YEAR': '1985', 'AGE': 39, 'OVERTIME_HOURS': 6, 'PERCENTAGE_SALARY_HIKE': 13}\"}"
      ]
     },
     "execution_count": 37,
     "metadata": {},
     "output_type": "execute_result"
    }
   ],
   "source": [
    "req.json"
   ]
  },
  {
   "cell_type": "code",
   "execution_count": 38,
   "id": "196a4e6e",
   "metadata": {},
   "outputs": [
    {
     "name": "stdout",
     "output_type": "stream",
     "text": [
      "Calculating build time metrics\n",
      "\n",
      "Progress: ██████████████████████████████████████████████████████████████████████ 100.0%\n"
     ]
    },
    {
     "data": {
      "application/vnd.jupyter.widget-view+json": {
       "model_id": "32d0df6a70b74efeb54ba913e3d5d762",
       "version_major": 2,
       "version_minor": 0
      },
      "text/plain": [
       "VBox(children=(HTML(value='<style>.grad_1{background: #2468a4;} .grad_2{ color:white; background: #2468a4;}</s…"
      ]
     },
     "metadata": {},
     "output_type": "display_data"
    }
   ],
   "source": [
    "## registering the model.\n",
    "tmp = register_model(pipeline, \n",
    "               score, \n",
    "               name=\"HR_ATTRITION_MODEL\", \n",
    "               description=\"HR_ATTRITION_MODEL_analysing_using_ml_model\",\n",
    "               flavour=MLModelFlavours.sklearn,\n",
    "               model_type=\"classification\",\n",
    "               init_script=\"\\\\n pip install fosforml \\\\n pip install seaborn \\\\n pip install snowflake-connector-python[pandas] \\\\n pip install joblib==1.3.2 scikit-learn=1.3.2\",\n",
    "               y_true=y_test,\n",
    "               y_pred=y_pred, \n",
    "               features=X_train.columns,\n",
    "               labels=[0,1],\n",
    "               input_type=\"json\", \n",
    "               explain_ai=True,\n",
    "               prob=y_prob,\n",
    "               x_train=X_train, \n",
    "               x_test=X_test, \n",
    "               y_train=y_train,\n",
    "               y_test=y_test,\n",
    "               feature_names=X_train.columns.tolist(),\n",
    "               original_features=X_train.columns.tolist(),\n",
    "               feature_ids=X_train.columns,\n",
    "               target_names=['NOT LEFT','LEFT'],\n",
    "               kyd=True, kyd_score = True)\n"
   ]
  },
  {
   "cell_type": "code",
   "execution_count": 39,
   "id": "198667fd",
   "metadata": {},
   "outputs": [
    {
     "data": {
      "text/plain": [
       "{'payload': {'MAPPED_ROLE': 'Web Developer',\n",
       "  'SEX': 'F',\n",
       "  'ETHNICITY': 'White',\n",
       "  'ORGANISATIONAL_TYPE': 'Management Consulting',\n",
       "  'ORGANISATIONAL_OWNERSHIP': 'Limited Liability Company',\n",
       "  'COMPANY_NAME': 'Catalyst Consulting',\n",
       "  'CITY': 'Modesto',\n",
       "  'STATE': 'CA',\n",
       "  'DISTANCE': '5-10 miles',\n",
       "  'DEGREE_CLEAN': 'Professional Certificate',\n",
       "  'BUSINESS_TRAVEL': 'Travel Rarely',\n",
       "  'ENVIRONMENT_SATISFACTION': 'High',\n",
       "  'JOB_SATISFACTION': 'High',\n",
       "  'MARITAL_STATUS': 'Single',\n",
       "  'OVER_TIME': 'No',\n",
       "  'PERFORMANCE_RATING': 'Good',\n",
       "  'RELATIONSHIP_SATISFACTION': 'Low',\n",
       "  'WORK_LIFE_BALANCE': 'Better',\n",
       "  'SALARY': 68824.38,\n",
       "  'SENIORITY': 2,\n",
       "  'TENURE_MONTHS': 11,\n",
       "  'MONTHS_AFTER_COLLEGE': 13,\n",
       "  'BIRTH_YEAR': '1996',\n",
       "  'AGE': 28,\n",
       "  'OVERTIME_HOURS': 10,\n",
       "  'PERCENTAGE_SALARY_HIKE': 11}}"
      ]
     },
     "execution_count": 39,
     "metadata": {},
     "output_type": "execute_result"
    }
   ],
   "source": [
    "payload  = {\"payload\": X_test.iloc[0].to_dict()}\n",
    "payload"
   ]
  },
  {
   "cell_type": "code",
   "execution_count": 40,
   "id": "8feda0b6",
   "metadata": {},
   "outputs": [
    {
     "data": {
      "text/plain": [
       "{'data': '1', 'request_id': '86825928-8558-4ad6-ab56-92b0b2691330'}"
      ]
     },
     "execution_count": 40,
     "metadata": {},
     "output_type": "execute_result"
    }
   ],
   "source": [
    "headers={\"Content-type\":\"application/json\"}\n",
    "url = \"http://svc-2968d356-6d79-4842-b39f-187a8750d14e:5001/hrattritionmodel/86005857-63ea-47ff-ae6f-6dcbb03d0fd0/score\"\n",
    "data={\"payload\": payload}\n",
    "response = requests.post(url, json=data, headers=headers) \n",
    "response.json()"
   ]
  },
  {
   "cell_type": "code",
   "execution_count": 41,
   "id": "8161c2ca",
   "metadata": {},
   "outputs": [],
   "source": [
    "result = pipeline.predict(X_test)\n",
    "result_prob = pipeline.predict_proba(X_test)\n",
    "pred_df = X_test.copy()\n",
    "result = result\n",
    "result_prob = result_prob\n",
    "pred_df[\"PREDICTION\"] = result\n",
    "pred_df[\"PROB\"] = result_prob[:, 1]"
   ]
  },
  {
   "cell_type": "code",
   "execution_count": 42,
   "id": "dbd5f1f7",
   "metadata": {},
   "outputs": [
    {
     "name": "stdout",
     "output_type": "stream",
     "text": [
      "Length of y_test: 41985\n",
      "Length of y_pred: 41985\n",
      "              precision    recall  f1-score   support\n",
      "\n",
      "           0       0.88      0.95      0.91     24003\n",
      "           1       0.93      0.82      0.87     17982\n",
      "\n",
      "    accuracy                           0.90     41985\n",
      "   macro avg       0.90      0.89      0.89     41985\n",
      "weighted avg       0.90      0.90      0.90     41985\n",
      "\n",
      "Accuracy: 0.8964392044777897\n",
      "Log Loss: 0.23065088709963164\n",
      "ROC AUC Score: 0.963843307448505\n"
     ]
    }
   ],
   "source": [
    "from sklearn.metrics import classification_report, log_loss, roc_auc_score\n",
    " \n",
    "# Check lengths\n",
    "print(\"Length of y_test:\", len(y_test))\n",
    "print(\"Length of y_pred:\", len(y_pred))\n",
    " \n",
    "# Print classification report\n",
    "print(classification_report(y_test, y_pred))\n",
    " \n",
    "# Calculate accuracy\n",
    "accuracy = sum(y_test == y_pred) / len(y_test)\n",
    "print(\"Accuracy:\", accuracy)\n",
    " \n",
    "# Calculate additional metrics\n",
    "log_loss_value = log_loss(y_test, y_prob)\n",
    "roc_auc = roc_auc_score(y_test, y_prob[:, 1])  # Assuming class 1 is the positive class\n",
    " \n",
    "print(\"Log Loss:\", log_loss_value)\n",
    "print(\"ROC AUC Score:\", roc_auc)"
   ]
  },
  {
   "cell_type": "code",
   "execution_count": 43,
   "id": "f61a41a2",
   "metadata": {},
   "outputs": [
    {
     "data": {
      "text/plain": [
       "0.23065088709963164"
      ]
     },
     "execution_count": 43,
     "metadata": {},
     "output_type": "execute_result"
    }
   ],
   "source": [
    "log_loss(y_test,pred_df[\"PROB\"] )"
   ]
  },
  {
   "cell_type": "code",
   "execution_count": 44,
   "id": "666e5a02",
   "metadata": {},
   "outputs": [
    {
     "data": {
      "image/png": "[encoded data removed]",
      "text/plain": [
       "<Figure size 432x288 with 1 Axes>"
      ]
     },
     "metadata": {
      "needs_background": "light"
     },
     "output_type": "display_data"
    }
   ],
   "source": [
    "from sklearn.metrics import roc_curve, precision_recall_curve, confusion_matrix\n",
    "from sklearn.metrics import roc_auc_score\n",
    "from matplotlib import pyplot as plt\n",
    "import seaborn as sns\n",
    "ns_probs = [0 for _ in range(len(y_test))]\n",
    "ns_auc = roc_auc_score(y_test, ns_probs)\n",
    "lr_auc = roc_auc_score(y_test, pred_df[\"PROB\"])\n",
    "ns_fpr, ns_tpr, _ = roc_curve(y_test, ns_probs)\n",
    "lr_fpr, lr_tpr, _ = roc_curve(y_test, pred_df[\"PROB\"])\n",
    "# plot the roc curve for the model\n",
    "plt.plot(ns_fpr, ns_tpr, linestyle='--', label='No Skill')\n",
    "plt.plot(lr_fpr, lr_tpr, marker='.', label='Radnomforest')\n",
    "# axis labels\n",
    "plt.xlabel('False Positive Rate')\n",
    "plt.ylabel('True Positive Rate')\n",
    "# show the legend\n",
    "plt.legend()\n",
    "# show the plot\n",
    "plt.show()"
   ]
  },
  {
   "cell_type": "code",
   "execution_count": 45,
   "id": "0733aea5",
   "metadata": {},
   "outputs": [
    {
     "data": {
      "image/png": "[encoded data removed]",
      "text/plain": [
       "<Figure size 432x288 with 1 Axes>"
      ]
     },
     "metadata": {
      "needs_background": "light"
     },
     "output_type": "display_data"
    }
   ],
   "source": [
    "lr_precision, lr_recall, _ = precision_recall_curve(y_test, pred_df[\"PROB\"])\n",
    "plt.plot(lr_recall, lr_precision, marker='.', label='Randomforest')\n",
    "# axis labels\n",
    "plt.xlabel('Recall')\n",
    "plt.ylabel('Precision')\n",
    "# show the legend\n",
    "plt.legend()\n",
    "# show the plot\n",
    "plt.show()"
   ]
  },
  {
   "cell_type": "code",
   "execution_count": null,
   "id": "d1f0af7e",
   "metadata": {},
   "outputs": [],
   "source": []
  }
 ],
 "metadata": {
  "kernelspec": {
   "display_name": "Python 3",
   "language": "python",
   "name": "python3"
  },
  "language_info": {
   "codemirror_mode": {
    "name": "ipython",
    "version": 3
   },
   "file_extension": ".py",
   "mimetype": "text/x-python",
   "name": "python",
   "nbconvert_exporter": "python",
   "pygments_lexer": "ipython3",
   "version": "3.9.18"
  }
 },
 "nbformat": 4,
 "nbformat_minor": 5
}
