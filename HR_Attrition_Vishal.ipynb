{
 "cells": [
  {
   "cell_type": "code",
   "execution_count": null,
   "id": "e6eecd67",
   "metadata": {},
   "outputs": [],
   "source": [
    "!pip install --upgrade pip\n",
    "!pip install fosforml numpy pandas matplotlib scikit-learn seaborn python-dateutil\n",
    "!pip uninstall urllib3 -y\n",
    "!pip install urllib3==1.26.15\n",
    "!pip install fosforml \n",
    "!pip install fosforio\n",
    "!pip install refractio\n",
    "!pip install refractml"
   ]
  },
  {
   "cell_type": "code",
   "execution_count": null,
   "id": "330e4b18",
   "metadata": {},
   "outputs": [],
   "source": [
    "!pip install seaborn scipy xgboost pandas dice-ml tabulate numpy scikit-learn pandas-profiling plotly matplotlib scipy statsmodels seaborn pydantic-settings"
   ]
  },
  {
   "cell_type": "code",
   "execution_count": 1,
   "id": "1176cc09",
   "metadata": {},
   "outputs": [],
   "source": [
    "import pandas as pd\n",
    "import numpy as np\n",
    "import matplotlib.pyplot as plt\n",
    "from sklearn.preprocessing import LabelEncoder, MinMaxScaler, OneHotEncoder, OrdinalEncoder\n",
    "from sklearn.model_selection import train_test_split\n",
    "from sklearn.ensemble import RandomForestClassifier\n",
    "from sklearn.metrics import accuracy_score, confusion_matrix, classification_report\n",
    "import seaborn as sns\n",
    "from scipy.stats.mstats import winsorize\n",
    "from xgboost import XGBClassifier\n",
    "from sklearn.compose import ColumnTransformer\n",
    "from sklearn.ensemble import RandomForestClassifier\n",
    "from sklearn.pipeline import Pipeline\n",
    "import joblib\n",
    "from fosforml import *\n",
    "from fosforml.constants import MLModelFlavours\n",
    "import warnings\n",
    "warnings.filterwarnings(\"ignore\", message=\"numpy.dtype size changed\")\n",
    "warnings.filterwarnings(\"ignore\", message=\"numpy.ufunc size changed\")"
   ]
  },
  {
   "cell_type": "code",
   "execution_count": 2,
   "id": "19e81856",
   "metadata": {},
   "outputs": [
    {
     "name": "stdout",
     "output_type": "stream",
     "text": [
      "Connection manager service url initialised to http://fdc-project-manager:80/project-manager\n",
      "If you need to update its value then update the variable CONNECTION_MANAGER_BASE_URL in os env.\n",
      "Exception occurred in getting snowflake connection: 'connectionSources'\n"
     ]
    }
   ],
   "source": [
    "from refractio import snowflake\n",
    "snowflake.get_connection(connection_name=\"HR_ANALYTICS_V\")"
   ]
  },
  {
   "cell_type": "code",
   "execution_count": 3,
   "id": "3e4c8d1a",
   "metadata": {},
   "outputs": [
    {
     "data": {
      "text/html": [
       "<div>\n",
       "<style scoped>\n",
       "    .dataframe tbody tr th:only-of-type {\n",
       "        vertical-align: middle;\n",
       "    }\n",
       "\n",
       "    .dataframe tbody tr th {\n",
       "        vertical-align: top;\n",
       "    }\n",
       "\n",
       "    .dataframe thead th {\n",
       "        text-align: right;\n",
       "    }\n",
       "</style>\n",
       "<table border=\"1\" class=\"dataframe\">\n",
       "  <thead>\n",
       "    <tr style=\"text-align: right;\">\n",
       "      <th></th>\n",
       "      <th>SALARY</th>\n",
       "      <th>SENIORITY</th>\n",
       "      <th>TENURE_MONTHS</th>\n",
       "      <th>MONTHS_AFTER_COLLEGE</th>\n",
       "      <th>BIRTH_YEAR</th>\n",
       "      <th>MAPPED_ROLE_CLEAN</th>\n",
       "      <th>SEX</th>\n",
       "      <th>ETHNICITY</th>\n",
       "      <th>HOSPITAL_TYPE</th>\n",
       "      <th>HOSPITAL_OWNERSHIP</th>\n",
       "      <th>...</th>\n",
       "      <th>CITY</th>\n",
       "      <th>STATE</th>\n",
       "      <th>DISTANCE</th>\n",
       "      <th>DEGREE_CLEAN</th>\n",
       "      <th>SCHOOL_ENDDATE</th>\n",
       "      <th>JOB_STARTDATE</th>\n",
       "      <th>JOB_ENDDATE</th>\n",
       "      <th>USER_ID</th>\n",
       "      <th>OVERTIME_HOURS</th>\n",
       "      <th>CHURN</th>\n",
       "    </tr>\n",
       "  </thead>\n",
       "  <tbody>\n",
       "    <tr>\n",
       "      <th>0</th>\n",
       "      <td>53239.07</td>\n",
       "      <td>4</td>\n",
       "      <td>5</td>\n",
       "      <td>358</td>\n",
       "      <td>1965</td>\n",
       "      <td>nurse</td>\n",
       "      <td>M</td>\n",
       "      <td>White</td>\n",
       "      <td>Acute Care Hospitals</td>\n",
       "      <td>Voluntary non-profit - Private</td>\n",
       "      <td>...</td>\n",
       "      <td>Yakima</td>\n",
       "      <td>WA</td>\n",
       "      <td>&gt;10 miles</td>\n",
       "      <td>Associates Degree</td>\n",
       "      <td>1987-01-01</td>\n",
       "      <td>2016-11-01</td>\n",
       "      <td>2017-06-01</td>\n",
       "      <td>147501806</td>\n",
       "      <td>13</td>\n",
       "      <td>1</td>\n",
       "    </tr>\n",
       "    <tr>\n",
       "      <th>1</th>\n",
       "      <td>29277.97</td>\n",
       "      <td>1</td>\n",
       "      <td>10</td>\n",
       "      <td>18</td>\n",
       "      <td>1993</td>\n",
       "      <td>nurse</td>\n",
       "      <td>F</td>\n",
       "      <td>Multiple</td>\n",
       "      <td>Acute Care Hospitals</td>\n",
       "      <td>Voluntary non-profit - Church</td>\n",
       "      <td>...</td>\n",
       "      <td>Tampa</td>\n",
       "      <td>FL</td>\n",
       "      <td>&gt;10 miles</td>\n",
       "      <td>Undergraduate Diploma</td>\n",
       "      <td>2014-01-01</td>\n",
       "      <td>2015-07-01</td>\n",
       "      <td>2016-06-01</td>\n",
       "      <td>46143395</td>\n",
       "      <td>15</td>\n",
       "      <td>1</td>\n",
       "    </tr>\n",
       "    <tr>\n",
       "      <th>2</th>\n",
       "      <td>43763.54</td>\n",
       "      <td>2</td>\n",
       "      <td>20</td>\n",
       "      <td>6</td>\n",
       "      <td>1985</td>\n",
       "      <td>technologist</td>\n",
       "      <td>F</td>\n",
       "      <td>White</td>\n",
       "      <td>Acute Care Hospitals</td>\n",
       "      <td>Voluntary non-profit - Church</td>\n",
       "      <td>...</td>\n",
       "      <td>Columbus</td>\n",
       "      <td>OH</td>\n",
       "      <td>5-10 miles</td>\n",
       "      <td>Bachelors Degree</td>\n",
       "      <td>2010-01-31</td>\n",
       "      <td>2010-07-01</td>\n",
       "      <td>2012-05-01</td>\n",
       "      <td>567514867</td>\n",
       "      <td>0</td>\n",
       "      <td>1</td>\n",
       "    </tr>\n",
       "    <tr>\n",
       "      <th>3</th>\n",
       "      <td>24728.57</td>\n",
       "      <td>1</td>\n",
       "      <td>14</td>\n",
       "      <td>16</td>\n",
       "      <td>1992</td>\n",
       "      <td>nurse</td>\n",
       "      <td>M</td>\n",
       "      <td>White</td>\n",
       "      <td>Acute Care Hospitals</td>\n",
       "      <td>Proprietary</td>\n",
       "      <td>...</td>\n",
       "      <td>Miami</td>\n",
       "      <td>FL</td>\n",
       "      <td>&gt;10 miles</td>\n",
       "      <td>Undergraduate Diploma</td>\n",
       "      <td>2013-01-31</td>\n",
       "      <td>2014-05-01</td>\n",
       "      <td>2015-09-01</td>\n",
       "      <td>65551252</td>\n",
       "      <td>9</td>\n",
       "      <td>0</td>\n",
       "    </tr>\n",
       "    <tr>\n",
       "      <th>4</th>\n",
       "      <td>46819.01</td>\n",
       "      <td>2</td>\n",
       "      <td>43</td>\n",
       "      <td>17</td>\n",
       "      <td>1983</td>\n",
       "      <td>technologist</td>\n",
       "      <td>M</td>\n",
       "      <td>White</td>\n",
       "      <td>Acute Care Hospitals</td>\n",
       "      <td>Voluntary non-profit - Private</td>\n",
       "      <td>...</td>\n",
       "      <td>Cleveland</td>\n",
       "      <td>OH</td>\n",
       "      <td>2-5 miles</td>\n",
       "      <td>Bachelors Degree</td>\n",
       "      <td>2008-01-01</td>\n",
       "      <td>2009-06-01</td>\n",
       "      <td>None</td>\n",
       "      <td>84119911</td>\n",
       "      <td>13</td>\n",
       "      <td>0</td>\n",
       "    </tr>\n",
       "    <tr>\n",
       "      <th>...</th>\n",
       "      <td>...</td>\n",
       "      <td>...</td>\n",
       "      <td>...</td>\n",
       "      <td>...</td>\n",
       "      <td>...</td>\n",
       "      <td>...</td>\n",
       "      <td>...</td>\n",
       "      <td>...</td>\n",
       "      <td>...</td>\n",
       "      <td>...</td>\n",
       "      <td>...</td>\n",
       "      <td>...</td>\n",
       "      <td>...</td>\n",
       "      <td>...</td>\n",
       "      <td>...</td>\n",
       "      <td>...</td>\n",
       "      <td>...</td>\n",
       "      <td>...</td>\n",
       "      <td>...</td>\n",
       "      <td>...</td>\n",
       "      <td>...</td>\n",
       "    </tr>\n",
       "    <tr>\n",
       "      <th>299995</th>\n",
       "      <td>30934.15</td>\n",
       "      <td>1</td>\n",
       "      <td>2</td>\n",
       "      <td>8</td>\n",
       "      <td>1996</td>\n",
       "      <td>nurse</td>\n",
       "      <td>M</td>\n",
       "      <td>Multiple</td>\n",
       "      <td>Psychiatric</td>\n",
       "      <td>Voluntary non-profit - Private</td>\n",
       "      <td>...</td>\n",
       "      <td>Orlando</td>\n",
       "      <td>FL</td>\n",
       "      <td>&gt;10 miles</td>\n",
       "      <td>Other</td>\n",
       "      <td>2019-01-31</td>\n",
       "      <td>2019-09-01</td>\n",
       "      <td>2020-02-01</td>\n",
       "      <td>163926894</td>\n",
       "      <td>2</td>\n",
       "      <td>1</td>\n",
       "    </tr>\n",
       "    <tr>\n",
       "      <th>299996</th>\n",
       "      <td>69288.47</td>\n",
       "      <td>2</td>\n",
       "      <td>7</td>\n",
       "      <td>63</td>\n",
       "      <td>1996</td>\n",
       "      <td>nurse</td>\n",
       "      <td>F</td>\n",
       "      <td>API</td>\n",
       "      <td>Acute Care Hospitals</td>\n",
       "      <td>Proprietary</td>\n",
       "      <td>...</td>\n",
       "      <td>Tyler</td>\n",
       "      <td>TX</td>\n",
       "      <td>&gt;10 miles</td>\n",
       "      <td>Associates Degree</td>\n",
       "      <td>2014-01-31</td>\n",
       "      <td>2019-04-01</td>\n",
       "      <td>2020-02-01</td>\n",
       "      <td>313934824</td>\n",
       "      <td>3</td>\n",
       "      <td>1</td>\n",
       "    </tr>\n",
       "    <tr>\n",
       "      <th>299997</th>\n",
       "      <td>53051.71</td>\n",
       "      <td>1</td>\n",
       "      <td>10</td>\n",
       "      <td>11</td>\n",
       "      <td>1991</td>\n",
       "      <td>emt</td>\n",
       "      <td>F</td>\n",
       "      <td>Multiple</td>\n",
       "      <td>Acute Care Hospitals</td>\n",
       "      <td>Voluntary non-profit - Private</td>\n",
       "      <td>...</td>\n",
       "      <td>Phoenix</td>\n",
       "      <td>AZ</td>\n",
       "      <td>5-10 miles</td>\n",
       "      <td>Bachelors Degree</td>\n",
       "      <td>2018-01-01</td>\n",
       "      <td>2018-12-01</td>\n",
       "      <td>None</td>\n",
       "      <td>812455262</td>\n",
       "      <td>8</td>\n",
       "      <td>0</td>\n",
       "    </tr>\n",
       "    <tr>\n",
       "      <th>299998</th>\n",
       "      <td>72186.39</td>\n",
       "      <td>2</td>\n",
       "      <td>13</td>\n",
       "      <td>8</td>\n",
       "      <td>1995</td>\n",
       "      <td>technologist</td>\n",
       "      <td>F</td>\n",
       "      <td>Black</td>\n",
       "      <td>Acute Care Hospitals</td>\n",
       "      <td>Voluntary non-profit - Other</td>\n",
       "      <td>...</td>\n",
       "      <td>Chicago</td>\n",
       "      <td>IL</td>\n",
       "      <td>&lt;2 miles</td>\n",
       "      <td>Bachelors Degree</td>\n",
       "      <td>2020-01-01</td>\n",
       "      <td>2020-09-01</td>\n",
       "      <td>None</td>\n",
       "      <td>713192325</td>\n",
       "      <td>9</td>\n",
       "      <td>0</td>\n",
       "    </tr>\n",
       "    <tr>\n",
       "      <th>299999</th>\n",
       "      <td>26552.13</td>\n",
       "      <td>1</td>\n",
       "      <td>1</td>\n",
       "      <td>9</td>\n",
       "      <td>1992</td>\n",
       "      <td>nurse</td>\n",
       "      <td>M</td>\n",
       "      <td>API</td>\n",
       "      <td>Acute Care Hospitals</td>\n",
       "      <td>Voluntary non-profit - Private</td>\n",
       "      <td>...</td>\n",
       "      <td>Milwaukee</td>\n",
       "      <td>WI</td>\n",
       "      <td>&lt;2 miles</td>\n",
       "      <td>Professional Certificate</td>\n",
       "      <td>2016-01-31</td>\n",
       "      <td>2016-10-01</td>\n",
       "      <td>2017-02-01</td>\n",
       "      <td>342684239</td>\n",
       "      <td>13</td>\n",
       "      <td>0</td>\n",
       "    </tr>\n",
       "  </tbody>\n",
       "</table>\n",
       "<p>300000 rows × 21 columns</p>\n",
       "</div>"
      ],
      "text/plain": [
       "          SALARY  SENIORITY  TENURE_MONTHS  MONTHS_AFTER_COLLEGE  BIRTH_YEAR  \\\n",
       "0       53239.07          4              5                   358        1965   \n",
       "1       29277.97          1             10                    18        1993   \n",
       "2       43763.54          2             20                     6        1985   \n",
       "3       24728.57          1             14                    16        1992   \n",
       "4       46819.01          2             43                    17        1983   \n",
       "...          ...        ...            ...                   ...         ...   \n",
       "299995  30934.15          1              2                     8        1996   \n",
       "299996  69288.47          2              7                    63        1996   \n",
       "299997  53051.71          1             10                    11        1991   \n",
       "299998  72186.39          2             13                     8        1995   \n",
       "299999  26552.13          1              1                     9        1992   \n",
       "\n",
       "       MAPPED_ROLE_CLEAN SEX ETHNICITY         HOSPITAL_TYPE  \\\n",
       "0                  nurse   M     White  Acute Care Hospitals   \n",
       "1                  nurse   F  Multiple  Acute Care Hospitals   \n",
       "2           technologist   F     White  Acute Care Hospitals   \n",
       "3                  nurse   M     White  Acute Care Hospitals   \n",
       "4           technologist   M     White  Acute Care Hospitals   \n",
       "...                  ...  ..       ...                   ...   \n",
       "299995             nurse   M  Multiple           Psychiatric   \n",
       "299996             nurse   F       API  Acute Care Hospitals   \n",
       "299997               emt   F  Multiple  Acute Care Hospitals   \n",
       "299998      technologist   F     Black  Acute Care Hospitals   \n",
       "299999             nurse   M       API  Acute Care Hospitals   \n",
       "\n",
       "                    HOSPITAL_OWNERSHIP  ...       CITY STATE    DISTANCE  \\\n",
       "0       Voluntary non-profit - Private  ...     Yakima    WA   >10 miles   \n",
       "1        Voluntary non-profit - Church  ...      Tampa    FL   >10 miles   \n",
       "2        Voluntary non-profit - Church  ...   Columbus    OH  5-10 miles   \n",
       "3                          Proprietary  ...      Miami    FL   >10 miles   \n",
       "4       Voluntary non-profit - Private  ...  Cleveland    OH   2-5 miles   \n",
       "...                                ...  ...        ...   ...         ...   \n",
       "299995  Voluntary non-profit - Private  ...    Orlando    FL   >10 miles   \n",
       "299996                     Proprietary  ...      Tyler    TX   >10 miles   \n",
       "299997  Voluntary non-profit - Private  ...    Phoenix    AZ  5-10 miles   \n",
       "299998    Voluntary non-profit - Other  ...    Chicago    IL    <2 miles   \n",
       "299999  Voluntary non-profit - Private  ...  Milwaukee    WI    <2 miles   \n",
       "\n",
       "                    DEGREE_CLEAN SCHOOL_ENDDATE JOB_STARTDATE JOB_ENDDATE  \\\n",
       "0              Associates Degree     1987-01-01    2016-11-01  2017-06-01   \n",
       "1          Undergraduate Diploma     2014-01-01    2015-07-01  2016-06-01   \n",
       "2               Bachelors Degree     2010-01-31    2010-07-01  2012-05-01   \n",
       "3          Undergraduate Diploma     2013-01-31    2014-05-01  2015-09-01   \n",
       "4               Bachelors Degree     2008-01-01    2009-06-01        None   \n",
       "...                          ...            ...           ...         ...   \n",
       "299995                     Other     2019-01-31    2019-09-01  2020-02-01   \n",
       "299996         Associates Degree     2014-01-31    2019-04-01  2020-02-01   \n",
       "299997          Bachelors Degree     2018-01-01    2018-12-01        None   \n",
       "299998          Bachelors Degree     2020-01-01    2020-09-01        None   \n",
       "299999  Professional Certificate     2016-01-31    2016-10-01  2017-02-01   \n",
       "\n",
       "          USER_ID  OVERTIME_HOURS  CHURN  \n",
       "0       147501806              13      1  \n",
       "1        46143395              15      1  \n",
       "2       567514867               0      1  \n",
       "3        65551252               9      0  \n",
       "4        84119911              13      0  \n",
       "...           ...             ...    ...  \n",
       "299995  163926894               2      1  \n",
       "299996  313934824               3      1  \n",
       "299997  812455262               8      0  \n",
       "299998  713192325               9      0  \n",
       "299999  342684239              13      0  \n",
       "\n",
       "[300000 rows x 21 columns]"
      ]
     },
     "execution_count": 3,
     "metadata": {},
     "output_type": "execute_result"
    }
   ],
   "source": [
    "df = snowflake.get_dataframe(\"HR_ANALYTICS_V\")\n",
    "df"
   ]
  },
  {
   "cell_type": "code",
   "execution_count": 4,
   "id": "cb380110",
   "metadata": {},
   "outputs": [
    {
     "name": "stdout",
     "output_type": "stream",
     "text": [
      "SALARY                      0\n",
      "SENIORITY                   0\n",
      "TENURE_MONTHS               0\n",
      "MONTHS_AFTER_COLLEGE        0\n",
      "BIRTH_YEAR                  0\n",
      "MAPPED_ROLE_CLEAN           0\n",
      "SEX                         0\n",
      "ETHNICITY                   0\n",
      "HOSPITAL_TYPE               0\n",
      "HOSPITAL_OWNERSHIP          0\n",
      "COMPANY_NAME                0\n",
      "CITY                        0\n",
      "STATE                       0\n",
      "DISTANCE                    0\n",
      "DEGREE_CLEAN                0\n",
      "SCHOOL_ENDDATE              0\n",
      "JOB_STARTDATE               0\n",
      "JOB_ENDDATE             90076\n",
      "USER_ID                     0\n",
      "OVERTIME_HOURS              0\n",
      "CHURN                       0\n",
      "dtype: int64\n"
     ]
    }
   ],
   "source": [
    "print(df.isnull().sum())"
   ]
  },
  {
   "cell_type": "code",
   "execution_count": 5,
   "id": "97698dd9",
   "metadata": {},
   "outputs": [],
   "source": [
    "df = df.dropna()"
   ]
  },
  {
   "cell_type": "code",
   "execution_count": 6,
   "id": "e6ceeed8",
   "metadata": {},
   "outputs": [
    {
     "name": "stdout",
     "output_type": "stream",
     "text": [
      "SALARY                  0\n",
      "SENIORITY               0\n",
      "TENURE_MONTHS           0\n",
      "MONTHS_AFTER_COLLEGE    0\n",
      "BIRTH_YEAR              0\n",
      "MAPPED_ROLE_CLEAN       0\n",
      "SEX                     0\n",
      "ETHNICITY               0\n",
      "HOSPITAL_TYPE           0\n",
      "HOSPITAL_OWNERSHIP      0\n",
      "COMPANY_NAME            0\n",
      "CITY                    0\n",
      "STATE                   0\n",
      "DISTANCE                0\n",
      "DEGREE_CLEAN            0\n",
      "SCHOOL_ENDDATE          0\n",
      "JOB_STARTDATE           0\n",
      "JOB_ENDDATE             0\n",
      "USER_ID                 0\n",
      "OVERTIME_HOURS          0\n",
      "CHURN                   0\n",
      "dtype: int64\n"
     ]
    }
   ],
   "source": [
    "print(df.isnull().sum())"
   ]
  },
  {
   "cell_type": "code",
   "execution_count": 8,
   "id": "158583c6",
   "metadata": {},
   "outputs": [],
   "source": [
    "df = df.drop([\"USER_ID\", \"JOB_STARTDATE\", \"JOB_ENDDATE\", \"SCHOOL_ENDDATE\"], axis = 1)"
   ]
  },
  {
   "cell_type": "code",
   "execution_count": 9,
   "id": "9c7e230c",
   "metadata": {},
   "outputs": [],
   "source": [
    "CATEGORICAL_COLUMNS = [\"MAPPED_ROLE_CLEAN\",\"SEX\", \"ETHNICITY\",\"HOSPITAL_TYPE\", \"HOSPITAL_OWNERSHIP\",\"COMPANY_NAME\",\"CITY\",\"STATE\",\"DISTANCE\", \n",
    "                       \"DEGREE_CLEAN\"]\n",
    "NUMERICAL_COLUMNS = [\"SALARY\", \"SENIORITY\", \"TENURE_MONTHS\", \"MONTHS_AFTER_COLLEGE\", \"BIRTH_YEAR\",]\n",
    "LABEL_COLUMNS = [\"CHURN\"]\n",
    "OUTPUT_COLUMNS = [\"PREDICTION\"]"
   ]
  },
  {
   "cell_type": "code",
   "execution_count": 10,
   "id": "44a5e935",
   "metadata": {},
   "outputs": [],
   "source": [
    "# Filter feature columns\n",
    "feature_columns = CATEGORICAL_COLUMNS + NUMERICAL_COLUMNS\n",
    "feature_columns = [col for col in feature_columns if col in df.columns]\n",
    "LABEL_COLUMNS = [col for col in LABEL_COLUMNS if col in df.columns]\n",
    " \n",
    "# Split data into features and labels\n",
    "X = df[feature_columns]\n",
    "y = df[LABEL_COLUMNS].values.ravel()  # Flatten to 1D array for consistency"
   ]
  },
  {
   "cell_type": "code",
   "execution_count": 11,
   "id": "b8e0e158",
   "metadata": {},
   "outputs": [],
   "source": [
    "from sklearn.model_selection import train_test_split"
   ]
  },
  {
   "cell_type": "code",
   "execution_count": 12,
   "id": "8b4d6dbf",
   "metadata": {},
   "outputs": [],
   "source": [
    "X_train, X_test, y_train, y_test = train_test_split(X, y, test_size=0.20, random_state=42)"
   ]
  },
  {
   "cell_type": "code",
   "execution_count": 13,
   "id": "afe1c180",
   "metadata": {},
   "outputs": [],
   "source": [
    "from sklearn.pipeline import Pipeline\n",
    "from sklearn.preprocessing import OrdinalEncoder, MinMaxScaler\n",
    "from xgboost import XGBClassifier\n",
    "from sklearn.compose import ColumnTransformer\n",
    "from sklearn.impute import SimpleImputer\n",
    "from sklearn.pipeline import make_pipeline\n",
    " \n",
    "# Define transformers\n",
    "categorical_transformer = make_pipeline(\n",
    "    SimpleImputer(strategy='constant', fill_value='missing'),\n",
    "    OrdinalEncoder(handle_unknown='use_encoded_value', unknown_value=-1)\n",
    ")\n",
    " \n",
    "numerical_transformer = make_pipeline(\n",
    "    SimpleImputer(strategy='mean'),\n",
    "    MinMaxScaler(clip=True)\n",
    ")\n",
    " \n",
    "# Create preprocessor\n",
    "preprocessor = ColumnTransformer(\n",
    "    transformers=[\n",
    "        ('cat', categorical_transformer, CATEGORICAL_COLUMNS),\n",
    "        ('num', numerical_transformer, NUMERICAL_COLUMNS)\n",
    "    ]\n",
    ")\n",
    " \n",
    "# Create pipeline\n",
    "pipeline = Pipeline(steps=[\n",
    "    ('preprocessor', preprocessor),\n",
    "    ('classifier', XGBClassifier())\n",
    "])"
   ]
  },
  {
   "cell_type": "code",
   "execution_count": 14,
   "id": "2c9070b2",
   "metadata": {},
   "outputs": [],
   "source": [
    "pipeline.fit(X_train, y_train)\n",
    "\n",
    "result = pipeline.predict(X_test)"
   ]
  },
  {
   "cell_type": "code",
   "execution_count": 15,
   "id": "9690765e",
   "metadata": {},
   "outputs": [
    {
     "data": {
      "text/plain": [
       "array([1, 0, 0, ..., 1, 0, 0])"
      ]
     },
     "execution_count": 15,
     "metadata": {},
     "output_type": "execute_result"
    }
   ],
   "source": [
    "result"
   ]
  },
  {
   "cell_type": "code",
   "execution_count": 16,
   "id": "0479241a",
   "metadata": {},
   "outputs": [
    {
     "data": {
      "text/plain": [
       "['HR_Attrition_Analysis_17_07_2024.joblib']"
      ]
     },
     "execution_count": 16,
     "metadata": {},
     "output_type": "execute_result"
    }
   ],
   "source": [
    "from joblib import dump, load\n",
    "filename = \"HR_Attrition_Analysis_17_07_2024.joblib\"\n",
    "dump(pipeline, filename)"
   ]
  },
  {
   "cell_type": "code",
   "execution_count": 17,
   "id": "f8f2e659",
   "metadata": {},
   "outputs": [],
   "source": [
    "y_pred = pipeline.predict(X_test)\n",
    "y_prob = pipeline.predict_proba(X_test)"
   ]
  },
  {
   "cell_type": "code",
   "execution_count": 18,
   "id": "819e4894",
   "metadata": {},
   "outputs": [
    {
     "name": "stderr",
     "output_type": "stream",
     "text": [
      "/tmp/pip_packages/_distutils_hack/__init__.py:32: UserWarning: Setuptools is replacing distutils. Support for replacing an already imported distutils is deprecated. In the future, this condition will fail. Register concerns at https://github.com/pypa/setuptools/issues/new?template=distutils-deprecation.yml\n",
      "  warnings.warn(\n"
     ]
    }
   ],
   "source": [
    "from refractml import *\n",
    "\n",
    "from refractml.constants import MLModelFlavours"
   ]
  },
  {
   "cell_type": "code",
   "execution_count": 19,
   "id": "e32fe574",
   "metadata": {},
   "outputs": [],
   "source": [
    "@scoring_func\n",
    "def score(model, request):\n",
    "    payload_dict = request.json[\"payload\"]\n",
    "    data_json = eval(payload)\n",
    "    data = pd.DataFrame([data_json])\n",
    "    prediction = str(model.predict(data)[0])\n",
    "    return prediction"
   ]
  },
  {
   "cell_type": "code",
   "execution_count": 20,
   "id": "627e22bc",
   "metadata": {},
   "outputs": [
    {
     "name": "stdout",
     "output_type": "stream",
     "text": [
      "1\n"
     ]
    }
   ],
   "source": [
    "import requests\n",
    "payload = str(X_test.iloc[123].to_dict())\n",
    "req = requests.Request()\n",
    "req.json = {\"payload\": payload}\n",
    "\n",
    "print(score(pipeline, req))"
   ]
  },
  {
   "cell_type": "code",
   "execution_count": 21,
   "id": "e39c8b18",
   "metadata": {},
   "outputs": [
    {
     "data": {
      "text/plain": [
       "{'payload': \"{'MAPPED_ROLE_CLEAN': 'nurse', 'SEX': 'M', 'ETHNICITY': 'Black', 'HOSPITAL_TYPE': 'Acute Care Hospitals', 'HOSPITAL_OWNERSHIP': 'Government - Hospital District or Authority', 'COMPANY_NAME': 'SSM Health Care Corp.', 'CITY': 'Madison', 'STATE': 'WI', 'DISTANCE': '>10 miles', 'DEGREE_CLEAN': 'Professional Certificate', 'SALARY': 57183.9, 'SENIORITY': 1, 'TENURE_MONTHS': 1, 'MONTHS_AFTER_COLLEGE': 38, 'BIRTH_YEAR': 1990}\"}"
      ]
     },
     "execution_count": 21,
     "metadata": {},
     "output_type": "execute_result"
    }
   ],
   "source": [
    "req.json"
   ]
  },
  {
   "cell_type": "code",
   "execution_count": 24,
   "id": "4080888c",
   "metadata": {},
   "outputs": [
    {
     "name": "stdout",
     "output_type": "stream",
     "text": [
      "Calculating build time metrics\n",
      "\n",
      "Progress: ██████████████████████████████████████████████████████████████████████ 100.0%\n"
     ]
    },
    {
     "data": {
      "application/vnd.jupyter.widget-view+json": {
       "model_id": "3e44bfbd137c458a9060a03d04d77b28",
       "version_major": 2,
       "version_minor": 0
      },
      "text/plain": [
       "VBox(children=(HTML(value='<style>.grad_1{background: #2468a4;} .grad_2{ color:white; background: #2468a4;}</s…"
      ]
     },
     "metadata": {},
     "output_type": "display_data"
    }
   ],
   "source": [
    "## registering the model in refract.\n",
    "tmp = register_model(pipeline, \n",
    "               score, \n",
    "               name=\"HumanResource_Attrition_ml_model\", \n",
    "               description=\"HumanResource_Attrition_model_trained_using _ml\",\n",
    "               flavour=MLModelFlavours.sklearn,\n",
    "               model_type=\"classification\",\n",
    "               init_script=\"\\\\n pip install fosforml \\\\n pip install seaborn \\\\n pip install snowflake-connector-python[pandas] \\\\n pip install joblib==1.3.2 scikit-learn=1.3.2\",\n",
    "               y_true=y_test,\n",
    "               y_pred=y_pred, \n",
    "               features=X_train.columns,\n",
    "               labels=[0,1],\n",
    "               input_type=\"json\", \n",
    "               explain_ai=True,\n",
    "               prob=y_prob,\n",
    "               x_train=X_train, \n",
    "               x_test=X_test, \n",
    "               y_train=y_train,\n",
    "               y_test=y_test,\n",
    "               feature_names=X_train.columns.tolist(),\n",
    "               original_features=X_train.columns.tolist(),\n",
    "               feature_ids=X_train.columns,\n",
    "               target_names=['NOT LEFT','LEFT'],\n",
    "               kyd=True, kyd_score = True)\n"
   ]
  },
  {
   "cell_type": "code",
   "execution_count": 23,
   "id": "cd84823a",
   "metadata": {},
   "outputs": [
    {
     "data": {
      "text/plain": [
       "{'payload': {'MAPPED_ROLE_CLEAN': 'nurse',\n",
       "  'SEX': 'F',\n",
       "  'ETHNICITY': 'API',\n",
       "  'HOSPITAL_TYPE': 'Acute Care Hospitals',\n",
       "  'HOSPITAL_OWNERSHIP': 'Government - Local',\n",
       "  'COMPANY_NAME': 'Adventist Health System Sunbelt Healthcare Corp.',\n",
       "  'CITY': 'Deltona',\n",
       "  'STATE': 'FL',\n",
       "  'DISTANCE': '<2 miles',\n",
       "  'DEGREE_CLEAN': 'Associates Degree',\n",
       "  'SALARY': 83361.28,\n",
       "  'SENIORITY': 3,\n",
       "  'TENURE_MONTHS': 1,\n",
       "  'MONTHS_AFTER_COLLEGE': 82,\n",
       "  'BIRTH_YEAR': 1992}}"
      ]
     },
     "execution_count": 23,
     "metadata": {},
     "output_type": "execute_result"
    }
   ],
   "source": [
    "payload  = {\"payload\": X_test.iloc[0].to_dict()}\n",
    "payload"
   ]
  },
  {
   "cell_type": "code",
   "execution_count": 26,
   "id": "49df5a21",
   "metadata": {},
   "outputs": [
    {
     "data": {
      "text/plain": [
       "{'data': '1', 'request_id': '68f47338-bd2f-465f-ab00-1728d100854d'}"
      ]
     },
     "execution_count": 26,
     "metadata": {},
     "output_type": "execute_result"
    }
   ],
   "source": [
    "headers={\"Content-type\":\"application/json\"}\n",
    "url = \"http://svc-1f15627b-8eb6-48d3-b58c-3677514af291:5001/humanresourceattritionmlmodel/f0acb182-64a2-4f2c-bd03-221a994b0641/score\"\n",
    "data={\"payload\": payload}\n",
    "response = requests.post(url, json=data, headers=headers) \n",
    "response.json()"
   ]
  },
  {
   "cell_type": "code",
   "execution_count": 27,
   "id": "3e1d2301",
   "metadata": {},
   "outputs": [],
   "source": [
    "result = pipeline.predict(X_test)\n",
    "result_prob = pipeline.predict_proba(X_test)\n",
    "pred_df = X_test.copy()\n",
    "result = result\n",
    "result_prob = result_prob\n",
    "pred_df[\"PREDICTION\"] = result\n",
    "pred_df[\"PROB\"] = result_prob[:, 1]"
   ]
  },
  {
   "cell_type": "code",
   "execution_count": 28,
   "id": "48900c0d",
   "metadata": {},
   "outputs": [
    {
     "name": "stdout",
     "output_type": "stream",
     "text": [
      "Length of y_test: 41985\n",
      "Length of y_pred: 41985\n",
      "              precision    recall  f1-score   support\n",
      "\n",
      "           0       0.86      0.91      0.88     23996\n",
      "           1       0.87      0.79      0.83     17989\n",
      "\n",
      "    accuracy                           0.86     41985\n",
      "   macro avg       0.86      0.85      0.86     41985\n",
      "weighted avg       0.86      0.86      0.86     41985\n",
      "\n",
      "Accuracy: 0.8599023460759795\n",
      "Log Loss: 0.279316354540602\n",
      "ROC AUC Score: 0.9455752399891801\n"
     ]
    }
   ],
   "source": [
    "from sklearn.metrics import classification_report, log_loss, roc_auc_score\n",
    " \n",
    "# Check lengths\n",
    "print(\"Length of y_test:\", len(y_test))\n",
    "print(\"Length of y_pred:\", len(y_pred))\n",
    " \n",
    "# Print classification report\n",
    "print(classification_report(y_test, y_pred))\n",
    " \n",
    "# Calculate accuracy\n",
    "accuracy = sum(y_test == y_pred) / len(y_test)\n",
    "print(\"Accuracy:\", accuracy)\n",
    " \n",
    "# Calculate additional metrics\n",
    "log_loss_value = log_loss(y_test, y_prob)\n",
    "roc_auc = roc_auc_score(y_test, y_prob[:, 1])  # Assuming class 1 is the positive class\n",
    " \n",
    "print(\"Log Loss:\", log_loss_value)\n",
    "print(\"ROC AUC Score:\", roc_auc)"
   ]
  },
  {
   "cell_type": "code",
   "execution_count": null,
   "id": "0c2f9af6",
   "metadata": {},
   "outputs": [],
   "source": []
  }
 ],
 "metadata": {
  "kernelspec": {
   "display_name": "Python 3",
   "language": "python",
   "name": "python3"
  },
  "language_info": {
   "codemirror_mode": {
    "name": "ipython",
    "version": 3
   },
   "file_extension": ".py",
   "mimetype": "text/x-python",
   "name": "python",
   "nbconvert_exporter": "python",
   "pygments_lexer": "ipython3",
   "version": "3.9.18"
  }
 },
 "nbformat": 4,
 "nbformat_minor": 5
}
