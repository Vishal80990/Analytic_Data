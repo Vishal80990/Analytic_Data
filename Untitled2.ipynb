{
 "cells": [
  {
   "cell_type": "code",
   "execution_count": 1,
   "id": "0fb04f47-1756-40bb-9bc8-2b82c42676d5",
   "metadata": {},
   "outputs": [],
   "source": [
    "from fosforml.model_manager.snowflakesession import get_session\n",
    "my_session = get_session()"
   ]
  },
  {
   "cell_type": "code",
   "execution_count": 2,
   "id": "e9e5bc96-322b-445a-8bd0-61998fbe89a9",
   "metadata": {},
   "outputs": [],
   "source": [
    "table_name = 'FRAUD_TABLE_FULL_JOIN'"
   ]
  },
  {
   "cell_type": "code",
   "execution_count": 3,
   "id": "7940dca7-a871-458f-9096-cec50fbdfc03",
   "metadata": {},
   "outputs": [],
   "source": [
    "sf_df = my_session.sql(\"select * from {}\".format(table_name))\n",
    "sf_df = sf_df.randomSplit([0.8,0.2])"
   ]
  },
  {
   "cell_type": "code",
   "execution_count": 4,
   "id": "53b4fc96-3665-4245-ab58-909c39078241",
   "metadata": {},
   "outputs": [],
   "source": [
    "pandas_df = sf_df[0].to_pandas()"
   ]
  },
  {
   "cell_type": "code",
   "execution_count": null,
   "id": "9c14e9ea-6a06-43fa-8813-37751b25de9d",
   "metadata": {},
   "outputs": [],
   "source": [
    "print(df.isnull().sum())"
   ]
  }
 ],
 "metadata": {
  "kernelspec": {
   "display_name": "Python 3 (ipykernel)",
   "language": "python",
   "name": "python3"
  },
  "language_info": {
   "codemirror_mode": {
    "name": "ipython",
    "version": 3
   },
   "file_extension": ".py",
   "mimetype": "text/x-python",
   "name": "python",
   "nbconvert_exporter": "python",
   "pygments_lexer": "ipython3",
   "version": "3.9.19"
  }
 },
 "nbformat": 4,
 "nbformat_minor": 5
}
