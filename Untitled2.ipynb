{
 "cells": [
  {
   "cell_type": "code",
   "execution_count": null,
   "id": "0fb04f47-1756-40bb-9bc8-2b82c42676d5",
   "metadata": {},
   "outputs": [],
   "source": []
  }
 ],
 "metadata": {
  "kernelspec": {
   "display_name": "",
   "name": ""
  },
  "language_info": {
   "name": ""
  }
 },
 "nbformat": 4,
 "nbformat_minor": 5
}
