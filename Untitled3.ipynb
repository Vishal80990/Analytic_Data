{
 "cells": [
  {
   "cell_type": "code",
   "execution_count": 1,
   "id": "402d3750-a677-4661-bee6-76429f656dd5",
   "metadata": {},
   "outputs": [],
   "source": [
    "# !pip install fosforml\n",
    "from fosforml.model_manager.snowflakesession import get_session\n",
    "my_session = get_session()\n"
   ]
  },
  {
   "cell_type": "code",
   "execution_count": 2,
   "id": "fa966709-3b0d-4464-8065-e5f6a166a899",
   "metadata": {},
   "outputs": [],
   "source": [
    "table_name = 'FRAUD_TABLE_FULL_JOIN'"
   ]
  },
  {
   "cell_type": "code",
   "execution_count": 3,
   "id": "abfc5b8e-7031-48bc-87c0-529c91d6222f",
   "metadata": {},
   "outputs": [],
   "source": [
    "sf_df = my_session.sql(f\"SELECT * FROM {table_name}\")\n",
    "sf_df = sf_df.randomSplit([0.8, 0.2])\n"
   ]
  },
  {
   "cell_type": "code",
   "execution_count": 4,
   "id": "2bbf8f4b-49e1-4f6c-b61a-191670fc8269",
   "metadata": {},
   "outputs": [],
   "source": [
    "pandas_df = sf_df[0].to_pandas()"
   ]
  },
  {
   "cell_type": "code",
   "execution_count": 5,
   "id": "9898f6b8-5232-49b5-b937-3cab164cb0d3",
   "metadata": {},
   "outputs": [],
   "source": [
    "from sklearn.model_selection import train_test_split\n",
    "\n",
    "x_train, x_test = train_test_split(pandas_df, test_size=0.2)\n"
   ]
  },
  {
   "cell_type": "code",
   "execution_count": 6,
   "id": "c2ad1f9f-7a39-4896-b970-4b3222e6b83d",
   "metadata": {},
   "outputs": [],
   "source": [
    "y_train = x_train['FRAUD_INDICATOR']\n",
    "x_train = x_train.drop('FRAUD_INDICATOR', axis=1)\n",
    "\n",
    "y_test = x_test['FRAUD_INDICATOR']\n",
    "x_test = x_test.drop('FRAUD_INDICATOR', axis=1)\n"
   ]
  },
  {
   "cell_type": "code",
   "execution_count": 7,
   "id": "77af1906-f620-4320-bb4f-d8c8b9312fac",
   "metadata": {},
   "outputs": [],
   "source": [
    "from sklearn.preprocessing import LabelEncoder\n",
    "\n",
    "def label_encoding_function(df):\n",
    "    le = LabelEncoder()\n",
    "    string_columns = df.select_dtypes(include=['object']).columns\n",
    "    for column in string_columns:\n",
    "        df[column] = le.fit_transform(df[column])\n",
    "    return df\n",
    "\n",
    "x_train = label_encoding_function(x_train)\n",
    "x_test = label_encoding_function(x_test)\n"
   ]
  },
  {
   "cell_type": "code",
   "execution_count": 8,
   "id": "cea6314c-1977-4206-b514-02984d231fa8",
   "metadata": {},
   "outputs": [
    {
     "name": "stdout",
     "output_type": "stream",
     "text": [
      "Training Accuracy: 100.00%\n"
     ]
    }
   ],
   "source": [
    "from sklearn.tree import DecisionTreeClassifier\n",
    "\n",
    "model = DecisionTreeClassifier(random_state=42)\n",
    "model.fit(x_train, y_train)\n",
    "train_score = model.score(x_train, y_train) * 100\n",
    "print(f\"Training Accuracy: {train_score:.2f}%\")"
   ]
  },
  {
   "cell_type": "code",
   "execution_count": 9,
   "id": "e681ca19-e75c-481b-ab87-85e9a5047600",
   "metadata": {},
   "outputs": [
    {
     "data": {
      "text/plain": [
       "100.0"
      ]
     },
     "execution_count": 9,
     "metadata": {},
     "output_type": "execute_result"
    }
   ],
   "source": [
    "from sklearn.tree import DecisionTreeClassifier\n",
    "model = DecisionTreeClassifier(random_state=42)\n",
    "model.fit(x_train, y_train)\n",
    "model.score(x_train,y_train)*100\n",
    "# model.score(x_test,y_test)*100"
   ]
  },
  {
   "cell_type": "code",
   "execution_count": 10,
   "id": "5a05d08c-12ab-483a-978a-2746c7b9e5f5",
   "metadata": {},
   "outputs": [],
   "source": [
    "def label_encoding_function(x_train):\n",
    "    from sklearn.preprocessing import LabelEncoder\n",
    "    le = LabelEncoder()\n",
    "    string_columns = x_train.select_dtypes(include=['object']).columns\n",
    "# Encoding each specified column\n",
    "    for column in string_columns:\n",
    "        le = LabelEncoder()\n",
    "        x_train[column] = le.fit_transform(x_train[column])\n",
    "    return x_train"
   ]
  },
  {
   "cell_type": "code",
   "execution_count": 11,
   "id": "595b4a0f-381e-4dcb-b559-5f6e8281b3bb",
   "metadata": {},
   "outputs": [],
   "source": [
    "import pandas as pd\n",
    "x_test = label_encoding_function(x_test)\n",
    "y_pred =model.predict(x_test)\n",
    "y_pred = pd.DataFrame(y_pred, columns=['FRAUD_INDICATOR_PREDICTION'])"
   ]
  },
  {
   "cell_type": "code",
   "execution_count": 12,
   "id": "b70794aa-946a-4604-ba91-560cfa21e53c",
   "metadata": {},
   "outputs": [
    {
     "data": {
      "text/html": [
       "<div>\n",
       "<style scoped>\n",
       "    .dataframe tbody tr th:only-of-type {\n",
       "        vertical-align: middle;\n",
       "    }\n",
       "\n",
       "    .dataframe tbody tr th {\n",
       "        vertical-align: top;\n",
       "    }\n",
       "\n",
       "    .dataframe thead th {\n",
       "        text-align: right;\n",
       "    }\n",
       "</style>\n",
       "<table border=\"1\" class=\"dataframe\">\n",
       "  <thead>\n",
       "    <tr style=\"text-align: right;\">\n",
       "      <th></th>\n",
       "      <th>FRAUD_INDICATOR_PREDICTION</th>\n",
       "    </tr>\n",
       "  </thead>\n",
       "  <tbody>\n",
       "    <tr>\n",
       "      <th>0</th>\n",
       "      <td>0</td>\n",
       "    </tr>\n",
       "    <tr>\n",
       "      <th>1</th>\n",
       "      <td>0</td>\n",
       "    </tr>\n",
       "    <tr>\n",
       "      <th>2</th>\n",
       "      <td>0</td>\n",
       "    </tr>\n",
       "    <tr>\n",
       "      <th>3</th>\n",
       "      <td>0</td>\n",
       "    </tr>\n",
       "    <tr>\n",
       "      <th>4</th>\n",
       "      <td>0</td>\n",
       "    </tr>\n",
       "    <tr>\n",
       "      <th>...</th>\n",
       "      <td>...</td>\n",
       "    </tr>\n",
       "    <tr>\n",
       "      <th>47979</th>\n",
       "      <td>0</td>\n",
       "    </tr>\n",
       "    <tr>\n",
       "      <th>47980</th>\n",
       "      <td>0</td>\n",
       "    </tr>\n",
       "    <tr>\n",
       "      <th>47981</th>\n",
       "      <td>0</td>\n",
       "    </tr>\n",
       "    <tr>\n",
       "      <th>47982</th>\n",
       "      <td>0</td>\n",
       "    </tr>\n",
       "    <tr>\n",
       "      <th>47983</th>\n",
       "      <td>0</td>\n",
       "    </tr>\n",
       "  </tbody>\n",
       "</table>\n",
       "<p>47984 rows × 1 columns</p>\n",
       "</div>"
      ],
      "text/plain": [
       "       FRAUD_INDICATOR_PREDICTION\n",
       "0                               0\n",
       "1                               0\n",
       "2                               0\n",
       "3                               0\n",
       "4                               0\n",
       "...                           ...\n",
       "47979                           0\n",
       "47980                           0\n",
       "47981                           0\n",
       "47982                           0\n",
       "47983                           0\n",
       "\n",
       "[47984 rows x 1 columns]"
      ]
     },
     "execution_count": 12,
     "metadata": {},
     "output_type": "execute_result"
    }
   ],
   "source": [
    "y_pred"
   ]
  },
  {
   "cell_type": "code",
   "execution_count": 13,
   "id": "adb28ce0-bf2a-43c3-a32b-df051c7855a0",
   "metadata": {},
   "outputs": [
    {
     "name": "stdout",
     "output_type": "stream",
     "text": [
      "Test Accuracy: 100.00%\n"
     ]
    }
   ],
   "source": [
    "test_score = model.score(x_test, y_test) * 100\n",
    "print(f\"Test Accuracy: {test_score:.2f}%\")"
   ]
  },
  {
   "cell_type": "code",
   "execution_count": 14,
   "id": "6da27a95-d56c-401e-905c-d0b0396cf37b",
   "metadata": {},
   "outputs": [
    {
     "name": "stderr",
     "output_type": "stream",
     "text": [
      "Got error object of type 'NoneType' has no len() when trying to read default values from function: <class 'snowflake.ml.modeling.metrics.classification._register_confusion_matrix_computer.<locals>.ConfusionMatrixComputer'>. Proceeding without creating optional arguments\n",
      "Got error object of type 'NoneType' has no len() when trying to read default values from function: <class 'snowflake.ml.modeling.metrics.metrics_utils.register_accumulator_udtf.<locals>.Accumulator'>. Proceeding without creating optional arguments\n"
     ]
    },
    {
     "name": "stdout",
     "output_type": "stream",
     "text": [
      "Calculating build time metrics\n",
      "\n",
      "Progress: ██████████████                                                         20.0%\n",
      "Calculating build time metrics\n",
      "\n",
      "Progress: ████████████████████████████                                           40.0%\n"
     ]
    },
    {
     "name": "stderr",
     "output_type": "stream",
     "text": [
      "Got error object of type 'NoneType' has no len() when trying to read default values from function: <class 'snowflake.ml.modeling.metrics.classification._register_multilabel_confusion_matrix_computer.<locals>.MultilabelConfusionMatrixComputer'>. Proceeding without creating optional arguments\n",
      "The version of package 'scikit-learn' in the local environment is 1.3.2, which does not fit the criteria for the requirement 'scikit-learn<1.4'. Your UDF might not work when the package version is different between the server and your local environment.\n",
      "DataFrame.flatten() is deprecated since 0.7.0. Use `DataFrame.join_table_function()` instead.\n",
      "Got error object of type 'NoneType' has no len() when trying to read default values from function: <class 'snowflake.ml.modeling.metrics.classification._register_multilabel_confusion_matrix_computer.<locals>.MultilabelConfusionMatrixComputer'>. Proceeding without creating optional arguments\n",
      "The version of package 'scikit-learn' in the local environment is 1.3.2, which does not fit the criteria for the requirement 'scikit-learn<1.4'. Your UDF might not work when the package version is different between the server and your local environment.\n",
      "Got error object of type 'NoneType' has no len() when trying to read default values from function: <function roc_auc_score.<locals>.roc_auc_score_anon_sproc at 0x7ff4173a5c10>. Proceeding without creating optional arguments\n"
     ]
    },
    {
     "name": "stdout",
     "output_type": "stream",
     "text": [
      "Calculating build time metrics\n",
      "\n",
      "Progress: ██████████████████████████████████████████                             60.0%\n"
     ]
    },
    {
     "name": "stderr",
     "output_type": "stream",
     "text": [
      "The version of package 'scikit-learn' in the local environment is 1.3.2, which does not fit the criteria for the requirement 'scikit-learn==1.3.*'. Your UDF might not work when the package version is different between the server and your local environment.\n",
      "The version of package 'snowflake-snowpark-python' in the local environment is 1.21.0, which does not fit the criteria for the requirement 'snowflake-snowpark-python'. Your UDF might not work when the package version is different between the server and your local environment.\n",
      "Got error object of type 'NoneType' has no len() when trying to read default values from function: <function roc_curve.<locals>.roc_curve_anon_sproc at 0x7ff4173a5c10>. Proceeding without creating optional arguments\n",
      "The version of package 'scikit-learn' in the local environment is 1.3.2, which does not fit the criteria for the requirement 'scikit-learn==1.3.*'. Your UDF might not work when the package version is different between the server and your local environment.\n",
      "The version of package 'snowflake-snowpark-python' in the local environment is 1.21.0, which does not fit the criteria for the requirement 'snowflake-snowpark-python'. Your UDF might not work when the package version is different between the server and your local environment.\n"
     ]
    },
    {
     "name": "stdout",
     "output_type": "stream",
     "text": [
      "Calculating build time metrics\n",
      "\n",
      "Progress: ████████████████████████████████████████████████████████               80.0%\n",
      "Calculating build time metrics\n",
      "\n",
      "Progress: ██████████████████████████████████████████████████████████████████████ 100.0%\n"
     ]
    },
    {
     "data": {
      "text/plain": [
       "\"Model 'MODEL_6FC68098_BD6F_43F3_A7A9_211B3210DEF1_FDC_FRAUD_DETECTION_MODEL' registered successfully.\""
      ]
     },
     "execution_count": 14,
     "metadata": {},
     "output_type": "execute_result"
    }
   ],
   "source": [
    "from fosforml import register_model\n",
    "\n",
    "register_model(\n",
    "  model_obj=model,\n",
    "  session=my_session,\n",
    "  x_train=x_train,\n",
    "  y_train=y_train,\n",
    "  x_test=x_test,\n",
    "  y_test=y_test,\n",
    "  y_pred=y_pred,\n",
    "  source=\"Notebook\",\n",
    "  dataset_name=\"FRAUD_TABLE_FULL_JOIN\",\n",
    "  dataset_source=\"Snowflake\",\n",
    "  name=\"Fraud_Detection_Model\",\n",
    "  description=\"This is a model for detecting fraudulent transactions\",\n",
    "  flavour=\"sklearn\",\n",
    "  model_type=\"classification\",\n",
    "  conda_dependencies=[\"scikit-learn==1.3.2\"]\n",
    ")"
   ]
  },
  {
   "cell_type": "code",
   "execution_count": 15,
   "id": "bee0d908-43ff-4d06-b30f-731a157de688",
   "metadata": {},
   "outputs": [
    {
     "name": "stdout",
     "output_type": "stream",
     "text": [
      "---------------------------------------------------------------------------------------------------------------------------------------------------------------------------------------------------------------------------------------------------------------------------------------------------------------------------------------------------------------------------------------------------------------------------------------------------------------------------------------------------------------------------------------------------------------------------------------------------------------------------------------------------------------------------------------------------------------------------------------------------------------------------------------------------------------------------------------------------------------------------------------------------------------------------------------------------------------------------------------------------------------------------\n",
      "|\"CREDIT_LIMIT\"  |\"ACCOUNT_OPENING_DATE\"  |\"LAST_LOGIN\"  |\"CUSTOMER_SEGMENT\"  |\"ACCOUNT_TYPE\"  |\"DEVICE_USED\"  |\"NAME\"  |\"GENDER\"  |\"DOB\"  |\"AGE\"  |\"CUSTOMER_ID\"  |\"AGE_GROUP\"  |\"AGE_OF_ACCOUNT\"  |\"FREQUENCY_OF_TRANSACTIONS\"  |\"CUSTOMER_LOYALTY_SCORE\"  |\"NUMBER_OF_REFUNDS\"  |\"NUMBER_OF_CHARGEBACKS\"  |\"CREDIT_UTILIZATION_RATIO\"  |\"CHANGE_IN_SPENDING_BEHAVIOR\"  |\"TRANSACTION_VELOCITY\"  |\"CUSTOMER_LOYALTY_CATEGORY\"  |\"TIME_SINCE_LAST_TRANSACTION\"  |\"TRANSACTION_ID\"  |\"TIME\"  |\"TRANSACTION_AMOUNT\"  |\"MERCHANT_RISK_SCORE\"  |\"DISTANCE_FROM_HOME_ADDRESS\"  |\"DISTANCE_FROM_LAST_TRANSACTION\"  |\"TRANSACTION_DATE\"  |\"TRANSACTION_TYPE\"  |\"MERCHANT_CATEGORY\"  |\"PAYMENT_METHOD\"  |\"TIME_OF_DAY\"  |\"DAY_OF_WEEK\"  |\"TRANSACTION_STATUS\"  |\"COUNTY\"  |\"STATE\"  |\"CITY\"  |\"YEAR\"  |\"QUARTER\"  |\"MONTH\"  |\"ANOMALY_SCORE\"  |\"SUSPICIOUS_FLAG\"  |\"PREVIOUS_FRAUD_REPORTS\"  |\"CROSS_BORDER_TRANSACTION_INDICATOR\"  |\"NEW_DEVICE_INDICATOR\"  |\"ANAMOLY_RISK_CATEGORY\"  |\"MERCHANT_RISK_CATEGORY\"  |\"FRAUD_FLAG\"  |\n",
      "---------------------------------------------------------------------------------------------------------------------------------------------------------------------------------------------------------------------------------------------------------------------------------------------------------------------------------------------------------------------------------------------------------------------------------------------------------------------------------------------------------------------------------------------------------------------------------------------------------------------------------------------------------------------------------------------------------------------------------------------------------------------------------------------------------------------------------------------------------------------------------------------------------------------------------------------------------------------------------------------------------------------------\n",
      "|35000           |576                     |732           |0                   |2               |0              |18630   |0         |2876   |54     |28871          |1            |29                |92                           |0.95                      |4                    |0                        |0.51                        |0.64                           |3.6                     |3                            |1                              |43187             |4305    |841.54                |0.44                   |8                             |3                                 |1145                |1                   |3                    |1                 |2              |4              |0                     |35        |1        |30      |2020    |0          |3        |0.71             |0                  |1                         |0                                     |0                       |0                        |2                         |0             |\n",
      "|25000           |371                     |448           |1                   |1               |4              |38853   |0         |12005  |25     |1222           |0            |19                |65                           |0.46                      |0                    |2                        |0.67                        |0.29                           |1.79                    |2                            |2                              |47009             |6790    |1502.39               |0.47                   |13                            |16                                |2020                |0                   |3                    |2                 |2              |4              |3                     |22        |3        |23      |2022    |2          |5        |0.75             |0                  |2                         |0                                     |1                       |0                        |2                         |0             |\n",
      "|35000           |1941                    |2000          |2                   |2               |2              |36848   |1         |452    |62     |5670           |1            |8                 |86                           |0.62                      |2                    |5                        |0.54                        |0.57                           |7.57                    |0                            |1                              |8764              |34820   |529.59                |0.62                   |22                            |40                                |2016                |3                   |1                    |3                 |4              |3              |0                     |27        |4        |43      |2022    |2          |5        |0.17             |0                  |2                         |0                                     |0                       |1                        |0                         |0             |\n",
      "|25000           |241                     |306           |1                   |1               |0              |30982   |0         |4877   |48     |6231           |1            |17                |87                           |0.5                       |5                    |3                        |0.7                         |0.99                           |0.32                    |2                            |1                              |45958             |420     |9513.1                |0.42                   |36                            |26                                |689                 |4                   |6                    |3                 |2              |6              |0                     |23        |4        |19      |2018    |3          |9        |0.39             |0                  |2                         |0                                     |0                       |2                        |2                         |0             |\n",
      "|30000           |1438                    |1670          |1                   |2               |1              |31821   |0         |19104  |3      |11946          |3            |18                |55                           |0.43                      |3                    |3                        |0.98                        |0.27                           |3.35                    |2                            |1                              |668               |7089    |3870.92               |0.76                   |35                            |44                                |2333                |5                   |6                    |3                 |2              |5              |2                     |34        |5        |44      |2023    |1          |8        |0.48             |0                  |0                         |1                                     |0                       |2                        |3                         |0             |\n",
      "|25000           |145                     |1290          |3                   |0               |2              |35181   |0         |6771   |42     |1667           |1            |33                |10                           |0.66                      |4                    |5                        |0.45                        |0.52                           |1.31                    |0                            |1                              |25460             |31449   |7427.92               |0.06                   |13                            |9                                 |2128                |1                   |4                    |0                 |1              |3              |3                     |40        |0        |39      |2022    |3          |10       |0.06             |0                  |2                         |0                                     |0                       |1                        |1                         |0             |\n",
      "|30000           |3                       |18            |3                   |1               |3              |21124   |0         |10095  |31     |30707          |0            |12                |61                           |0.13                      |0                    |0                        |0.25                        |0.41                           |1.29                    |1                            |3                              |33979             |14750   |4909.33               |0.31                   |6                             |0                                 |23                  |4                   |3                    |0                 |3              |5              |0                     |19        |6        |20      |2017    |0          |4        |0.84             |0                  |2                         |0                                     |0                       |3                        |2                         |0             |\n",
      "|10000           |67                      |67            |0                   |2               |1              |23074   |1         |16210  |12     |45570          |3            |25                |85                           |0.16                      |2                    |5                        |0.9                         |0.51                           |8.9                     |1                            |0                              |27426             |17182   |7792.65               |0.13                   |8                             |4                                 |100                 |2                   |6                    |2                 |3              |5              |4                     |5         |2        |41      |2017    |1          |0        |0.16             |0                  |0                         |0                                     |0                       |1                        |1                         |0             |\n",
      "|20000           |13                      |258           |0                   |3               |2              |23630   |1         |17139  |9      |2882           |3            |27                |65                           |0.56                      |0                    |0                        |0.13                        |0.79                           |7.35                    |0                            |3                              |47725             |30771   |1902.61               |0.73                   |23                            |10                                |276                 |5                   |3                    |0                 |1              |6              |3                     |9         |2        |12      |2017    |3          |10       |0.06             |0                  |2                         |0                                     |0                       |1                        |0                         |0             |\n",
      "|25000           |325                     |350           |0                   |3               |4              |13882   |1         |18833  |4      |12201          |3            |17                |8                            |0.77                      |1                    |0                        |0.82                        |0.99                           |4.92                    |3                            |0                              |15241             |15965   |3443.08               |0.36                   |16                            |46                                |1031                |2                   |1                    |0                 |3              |5              |1                     |22        |3        |23      |2019    |3          |10       |0.71             |0                  |0                         |1                                     |0                       |0                        |2                         |0             |\n",
      "---------------------------------------------------------------------------------------------------------------------------------------------------------------------------------------------------------------------------------------------------------------------------------------------------------------------------------------------------------------------------------------------------------------------------------------------------------------------------------------------------------------------------------------------------------------------------------------------------------------------------------------------------------------------------------------------------------------------------------------------------------------------------------------------------------------------------------------------------------------------------------------------------------------------------------------------------------------------------------------------------------------------------\n",
      "\n"
     ]
    }
   ],
   "source": [
    "sf_df = my_session.createDataFrame(x_test)\n",
    "sf_df.write.mode(\"overwrite\").save_as_table(\"FRAUD_TABLE_DATA_TEST\")\n",
    "my_session.table(\"FRAUD_TABLE_DATA_TEST\").show()"
   ]
  },
  {
   "cell_type": "code",
   "execution_count": 16,
   "id": "0c3fd24f-61a3-47d3-b991-9547420989dc",
   "metadata": {},
   "outputs": [
    {
     "name": "stdout",
     "output_type": "stream",
     "text": [
      "Requirement already up-to-date: fosforml in /opt/conda/lib/python3.9/site-packages (1.1.7)\n",
      "\u001b[33mWARNING: You are using pip version 19.3.1; however, version 24.2 is available.\n",
      "You should consider upgrading via the 'pip install --upgrade pip' command.\u001b[0m\n"
     ]
    }
   ],
   "source": [
    "!pip install -U fosforml --no-deps"
   ]
  },
  {
   "cell_type": "code",
   "execution_count": null,
   "id": "69f9e85c-4bd9-4769-b9f1-87caaacb56e9",
   "metadata": {},
   "outputs": [],
   "source": []
  }
 ],
 "metadata": {
  "kernelspec": {
   "display_name": "Python 3 (ipykernel)",
   "language": "python",
   "name": "python3"
  },
  "language_info": {
   "codemirror_mode": {
    "name": "ipython",
    "version": 3
   },
   "file_extension": ".py",
   "mimetype": "text/x-python",
   "name": "python",
   "nbconvert_exporter": "python",
   "pygments_lexer": "ipython3",
   "version": "3.9.19"
  }
 },
 "nbformat": 4,
 "nbformat_minor": 5
}
