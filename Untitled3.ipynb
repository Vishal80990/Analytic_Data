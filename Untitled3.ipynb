{
 "cells": [
  {
   "cell_type": "code",
   "execution_count": 1,
   "id": "402d3750-a677-4661-bee6-76429f656dd5",
   "metadata": {},
   "outputs": [],
   "source": [
    "# !pip install fosforml\n",
    "from fosforml.model_manager.snowflakesession import get_session\n",
    "my_session = get_session()\n"
   ]
  },
  {
   "cell_type": "code",
   "execution_count": 2,
   "id": "fa966709-3b0d-4464-8065-e5f6a166a899",
   "metadata": {},
   "outputs": [],
   "source": [
    "table_name = 'FRAUD_TABLE_FULL_JOIN'"
   ]
  },
  {
   "cell_type": "code",
   "execution_count": 3,
   "id": "abfc5b8e-7031-48bc-87c0-529c91d6222f",
   "metadata": {},
   "outputs": [],
   "source": [
    "sf_df = my_session.sql(f\"SELECT * FROM {table_name}\")\n",
    "sf_df = sf_df.randomSplit([0.8, 0.2])\n"
   ]
  },
  {
   "cell_type": "code",
   "execution_count": 4,
   "id": "2bbf8f4b-49e1-4f6c-b61a-191670fc8269",
   "metadata": {},
   "outputs": [],
   "source": [
    "pandas_df = sf_df[0].to_pandas()"
   ]
  },
  {
   "cell_type": "code",
   "execution_count": 5,
   "id": "9898f6b8-5232-49b5-b937-3cab164cb0d3",
   "metadata": {},
   "outputs": [],
   "source": [
    "from sklearn.model_selection import train_test_split\n",
    "\n",
    "x_train, x_test = train_test_split(pandas_df, test_size=0.2)\n"
   ]
  },
  {
   "cell_type": "code",
   "execution_count": 6,
   "id": "c2ad1f9f-7a39-4896-b970-4b3222e6b83d",
   "metadata": {},
   "outputs": [],
   "source": [
    "y_train = x_train['FRAUD_INDICATOR']\n",
    "x_train = x_train.drop('FRAUD_INDICATOR', axis=1)\n",
    "\n",
    "y_test = x_test['FRAUD_INDICATOR']\n",
    "x_test = x_test.drop('FRAUD_INDICATOR', axis=1)\n"
   ]
  },
  {
   "cell_type": "code",
   "execution_count": 7,
   "id": "77af1906-f620-4320-bb4f-d8c8b9312fac",
   "metadata": {},
   "outputs": [],
   "source": [
    "from sklearn.preprocessing import LabelEncoder\n",
    "\n",
    "def label_encoding_function(df):\n",
    "    le = LabelEncoder()\n",
    "    string_columns = df.select_dtypes(include=['object']).columns\n",
    "    for column in string_columns:\n",
    "        df[column] = le.fit_transform(df[column])\n",
    "    return df\n",
    "\n",
    "x_train = label_encoding_function(x_train)\n",
    "x_test = label_encoding_function(x_test)\n"
   ]
  },
  {
   "cell_type": "code",
   "execution_count": null,
   "id": "cea6314c-1977-4206-b514-02984d231fa8",
   "metadata": {},
   "outputs": [],
   "source": [
    "from sklearn.tree import DecisionTreeClassifier\n",
    "\n",
    "model = DecisionTreeClassifier(random_state=42)\n",
    "model.fit(x_train, y_train)\n",
    "train_score = model.score(x_train, y_train) * 100\n",
    "print(f\"Training Accuracy: {train_score:.2f}%\")"
   ]
  }
 ],
 "metadata": {
  "kernelspec": {
   "display_name": "Python 3 (ipykernel)",
   "language": "python",
   "name": "python3"
  },
  "language_info": {
   "codemirror_mode": {
    "name": "ipython",
    "version": 3
   },
   "file_extension": ".py",
   "mimetype": "text/x-python",
   "name": "python",
   "nbconvert_exporter": "python",
   "pygments_lexer": "ipython3",
   "version": "3.9.19"
  }
 },
 "nbformat": 4,
 "nbformat_minor": 5
}
